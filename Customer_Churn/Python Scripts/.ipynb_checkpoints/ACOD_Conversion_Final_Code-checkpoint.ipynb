{
 "cells": [
  {
   "cell_type": "markdown",
   "id": "31b14812",
   "metadata": {},
   "source": [
    "# CONVERSION TIME PREDICTIONS FOR ACD/ACO PLAYERS USING SURVIVAL ANALYSIS\n",
    "\n",
    "- if the model is already fitted, objects will be pickled, you need to load them and apply :\n",
    "    - x_train_mapper_float_to_prepare_input  : standardize predictors with trained datas standardization values\n",
    "    - CoxCC_Tuning_Trials  : tuned parameters for neural network\n",
    "    - CoxTime_Finale : fitted model on 3M players\n",
    "    \n",
    "- Also run functions :\n",
    "    get_data()\n",
    "    data_cleaning()\n",
    "    get_median_time()\n",
    "    get_switching_point()\n",
    "    extrapolated_predict_survival_CoxTime()\n"
   ]
  },
  {
   "cell_type": "markdown",
   "id": "d68c3283",
   "metadata": {},
   "source": [
    "## Data processing\n",
    "data is imported from snowflake than cleaned and scaled to be modeled in a survival network"
   ]
  },
  {
   "cell_type": "markdown",
   "id": "7da7a03f",
   "metadata": {},
   "source": [
    "### Librairy imports"
   ]
  },
  {
   "cell_type": "code",
   "execution_count": 1,
   "id": "1d649352",
   "metadata": {},
   "outputs": [
    {
     "name": "stderr",
     "output_type": "stream",
     "text": [
      "/home/csouvigny/.conda/envs/pytorch/lib/python3.8/site-packages/tqdm/auto.py:22: TqdmWarning: IProgress not found. Please update jupyter and ipywidgets. See https://ipywidgets.readthedocs.io/en/stable/user_install.html\n",
      "  from .autonotebook import tqdm as notebook_tqdm\n"
     ]
    }
   ],
   "source": [
    "%matplotlib inline\n",
    "import pandas as pd \n",
    "import numpy as np\n",
    "import numpy.random as rnd\n",
    "import matplotlib.pyplot as plt\n",
    "from scipy import interpolate\n",
    "from scipy.ndimage import gaussian_filter1d\n",
    "from datetime import datetime\n",
    "import dill as pickle\n",
    "import warnings\n",
    "warnings.filterwarnings(\"ignore\", category=FutureWarning)\n",
    "from os import listdir\n",
    "from os.path import isfile, join\n",
    "\n",
    "# pip install \"snowflake-connector-python[pandas]\"\n",
    "# pip install \"snowflake-connector-python[secure-local-storage,pandas]\"\n",
    "import snowflake.connector\n",
    "import dask\n",
    "import dask.dataframe as dd\n",
    "\n",
    "from cryptography.hazmat.backends import default_backend\n",
    "from cryptography.hazmat.primitives import serialization\n",
    "\n",
    "from sqlalchemy import create_engine\n",
    "from snowflake.sqlalchemy import URL\n",
    "#from snowflake.connector.pandas_tools import write_pandas\n",
    "\n",
    "from lifelines import utils\n",
    "from lifelines import KaplanMeierFitter, CoxPHFitter, CoxTimeVaryingFitter, AalenAdditiveFitter\n",
    "from lifelines.utils import concordance_index\n",
    "from lifelines.calibration import survival_probability_calibration\n",
    "\n",
    "import optuna\n",
    "\n",
    "from pycox.utils import kaplan_meier\n",
    "from sklearn.preprocessing import StandardScaler, OneHotEncoder\n",
    "from sklearn_pandas import DataFrameMapper\n",
    "\n",
    "# Pytorch only\n",
    "import torch\n",
    "import torchtuples as tt\n",
    "from pycox.datasets import metabric\n",
    "from pycox.models import CoxTime\n",
    "from pycox.models.cox_time import MLPVanillaCoxTime\n",
    "from pycox.evaluation import EvalSurv\n",
    "from pycox.models import CoxPH, CoxCC"
   ]
  },
  {
   "cell_type": "code",
   "execution_count": 2,
   "id": "70088a9f",
   "metadata": {},
   "outputs": [],
   "source": [
    "def get_data(query):\n",
    "    with open(\"/home/shared/csouvign/rsa_key.p8\", \"rb\") as key:\n",
    "        p_key= serialization.load_pem_private_key(\n",
    "            key.read(),\n",
    "            password='2B@XS5E&!5%UCab'.encode(),\n",
    "        )\n",
    "\n",
    "    pkb = p_key.private_bytes(\n",
    "        encoding=serialization.Encoding.DER,\n",
    "        format=serialization.PrivateFormat.PKCS8,\n",
    "        encryption_algorithm=serialization.NoEncryption())\n",
    "\n",
    "    ctx = snowflake.connector.connect(\n",
    "        user='camille.souvigny@ubisoft.com',\n",
    "        account='ubisoft.us-east-1',\n",
    "        private_key=pkb,\n",
    "        warehouse='EMEA_ANALYTICS_COMMON',\n",
    "        database='SANDBOX',\n",
    "        schema='EMEA_ANALYTICS_CRM_PRIVATE',\n",
    "        role='SNK_F_EMEAANALYTICS_CRM_SB_DEV',\n",
    "        proxy_host='http://proxy.ubisoft.org',\n",
    "        proxy_port='3128'\n",
    "        )\n",
    "    try:\n",
    "        cur = ctx.cursor().execute(query)\n",
    "        df = cur.fetch_pandas_all()\n",
    "    except:\n",
    "        df = pd.DataFrame.from_records(iter(cur), columns=[x[0] for x in cur.description])\n",
    "    finally:\n",
    "        cur.close()\n",
    "        print(\"successfull closed connection\")\n",
    "    ctx.close()\n",
    "    return df\n",
    "\n",
    "\n",
    "def pb_at_conv(x):\n",
    "    #return  nb_covariate -1 + int(x.TEND) - 30\n",
    "    try :\n",
    "        return x[int(x.CONVERSION_DAYS_ACV)]\n",
    "    except :\n",
    "        return np.nan\n",
    "    \n",
    "def pb_at_conv_moins1M(x):\n",
    "    try :\n",
    "        return x[int(x.CONVERSION_DAYS_ACV) - 30]\n",
    "    except :\n",
    "        return np.nan\n",
    "    \n",
    "def pb_at_conv_plus1M(x):\n",
    "    try:\n",
    "        return x[int(x.CONVERSION_DAYS_ACV) + 30 ]\n",
    "    except :\n",
    "        return np.nan\n",
    "\n",
    "def pb_at_conv_plus10D(x):\n",
    "    try:\n",
    "        return x[int(x.CONVERSION_DAYS_ACV) + 10 ]\n",
    "    except :\n",
    "        return np.nan\n",
    "    \n",
    "def pred_AC_survival(pred_set, test_set):\n",
    "    pred_set['pb_conv']=pred_set.apply(pb_at_conv, axis=1)\n",
    "    pred_set['pb_conv_moins1M']=pred_set.apply(pb_at_conv_moins1M, axis=1)\n",
    "    pred_set['pb_conv_plus1M']=pred_set.apply(pb_at_conv_plus1M , axis=1)\n",
    "    pred_set['pb_conv_plus10D']=pred_set.apply(pb_at_conv_plus10D, axis=1)\n",
    "    return pred_set"
   ]
  },
  {
   "cell_type": "markdown",
   "id": "861d5b08",
   "metadata": {},
   "source": [
    "### Import and data cleaning\n",
    "\n",
    "- dataset query is stored in a SANDBOX.EMEA_ANALYTICS_CRM_PRIVATE.CS_AC_P2_PLAYERS_CONVERSION_ON_ACV view (running the view takes some time).\n",
    "- current_date_key must be defined at the time we want to stop the analysis\n",
    "- Import 10% of datas (half converted players, half censored) to fit the model. TUNE the network on less than 1%"
   ]
  },
  {
   "cell_type": "code",
   "execution_count": 3,
   "id": "00e43aa2",
   "metadata": {},
   "outputs": [],
   "source": [
    "def data_cleaning(df):\n",
    "    df[list(df.drop(['USER_KEY','CLUSTER_2021','CLUSTER_2022','P2_LAST_OWNED'], axis=1).select_dtypes(include = ['object']).columns)] = df[list(df.drop(['USER_KEY','CLUSTER_2021','CLUSTER_2022','P2_LAST_OWNED'], axis=1).select_dtypes(include=['object']).columns)].astype(float)\n",
    "    df.SENIORITY_WHEN_CONV_TO_LAST_OWNED[df.SENIORITY_WHEN_CONV_TO_LAST_OWNED.isna()] = df.SENIORITY_LAST_OWNED[df.SENIORITY_WHEN_CONV_TO_LAST_OWNED.isna()]\n",
    "    mean_playtime_one_pd = df[df.LAST_OWNED_PLAYTIME>=0][df.NB_PD_LAST_OWNED==1].LAST_OWNED_PLAYTIME.mean()\n",
    "    df.loc[df[df.LAST_OWNED_PLAYTIME.isna()].index,'LAST_OWNED_PLAYTIME'] = mean_playtime_one_pd\n",
    "    fill_zero={  \n",
    "            'LAST_OWNED_PLAYTIME_10D'        : 0\n",
    "           , 'PLAYTIME_LAST_OWNED_10D_RATIO' : 0\n",
    "           , 'MIN_P2_PLAYTIME_10D'           : 0\n",
    "           , 'MAX_P2_PLAYTIME_10D'           : 0\n",
    "           , 'AVG_P2_PLAYTIME_10D'           : 0\n",
    "           , 'SUM_P2_PLAYTIME_10D'           : 0\n",
    "           , 'MIN_AC_PLAYTIME_10D'           : 0\n",
    "           , 'MAX_AC_PLAYTIME_10D'           : 0\n",
    "           , 'AVG_AC_PLAYTIME_10D'           : 0\n",
    "           , 'SUM_AC_PLAYTIME_10D'           : 0\n",
    "           , 'MIN_PLAYTIME_10D_RATIO'        : 0 \n",
    "           , 'AVG_PLAYTIME_10D_RATIO'        : 0\n",
    "           , 'MAX_PLAYTIME_10D_RATIO'        : 0 \n",
    "           , 'MIN_P2_PLAYTIME'               : 0                   \n",
    "           , 'MAX_P2_PLAYTIME'               : 0                   \n",
    "           , 'AVG_P2_PLAYTIME'               : 0                   \n",
    "           , 'SUM_P2_PLAYTIME'               : 0\n",
    "           , 'MIN_AC_PLAYTIME'               : 0\n",
    "           , 'MAX_AC_PLAYTIME'               : 0\n",
    "           , 'AVG_AC_PLAYTIME'               : 0\n",
    "           , 'SUM_AC_PLAYTIME'               : 0\n",
    "           , 'AC_DLC'                        : 0\n",
    "           , 'AC_P2_DLC'                     : 0 \n",
    "           , 'AC_CURRENCY'                   : 0\n",
    "           , 'AC_P2_CURRENCY'                : 0 \n",
    "           , 'AC_SEASONPASS'                 : 0 \n",
    "           , 'AC_P2_SEASONPASS'              : 0 \n",
    "           , 'NB_ACTIVATION_PASS'            : 0\n",
    "           , 'PD_FW'                         : 0\n",
    "           , 'PD_AC_FW'                      : 0 \n",
    "           , 'PD_P2_FW'                      : 0 \n",
    "           , 'PD_ACV_FW'                     : 0\n",
    "           , 'PD_AC_OB'                      : 0 \n",
    "           , 'PD_P2_OB'                      : 0\n",
    "           , 'PD_TRIAL'                      : 0\n",
    "    }\n",
    "    df = df.fillna(value=fill_zero)\n",
    "    df = df.dropna(subset=['RECENCY_LAST_OWNED',\n",
    "                           'SENIORITY_LAST_OWNED',\n",
    "                           'NB_AC', 'PLAYED_ORIGINS',\n",
    "                           'ESTIM_BG','ESTIM_NET_BG',\n",
    "                           'PL_ACQUI', 'PL_NET_ACQUI',\n",
    "                            'P2_LAST_OWNED' ])\n",
    "    \n",
    "    df[\"P2_LAST_OWNED_ASSASSIN'S CREED ODYSSEY\"] =  df.P2_LAST_OWNED.apply(lambda x: 1 if x == \"ASSASSIN'S CREED ODYSSEY\" else 0)\n",
    "    df = df.drop([\"P2_LAST_OWNED\"], axis=1)\n",
    "    return df"
   ]
  },
  {
   "cell_type": "code",
   "execution_count": 4,
   "id": "06bdabea",
   "metadata": {},
   "outputs": [
    {
     "name": "stdout",
     "output_type": "stream",
     "text": [
      "successfull closed connection\n"
     ]
    },
    {
     "data": {
      "text/html": [
       "<div>\n",
       "<style scoped>\n",
       "    .dataframe tbody tr th:only-of-type {\n",
       "        vertical-align: middle;\n",
       "    }\n",
       "\n",
       "    .dataframe tbody tr th {\n",
       "        vertical-align: top;\n",
       "    }\n",
       "\n",
       "    .dataframe thead th {\n",
       "        text-align: right;\n",
       "    }\n",
       "</style>\n",
       "<table border=\"1\" class=\"dataframe\">\n",
       "  <thead>\n",
       "    <tr style=\"text-align: right;\">\n",
       "      <th></th>\n",
       "      <th>status</th>\n",
       "    </tr>\n",
       "  </thead>\n",
       "  <tbody>\n",
       "    <tr>\n",
       "      <th>0</th>\n",
       "      <td>Statement executed successfully.</td>\n",
       "    </tr>\n",
       "  </tbody>\n",
       "</table>\n",
       "</div>"
      ],
      "text/plain": [
       "                             status\n",
       "0  Statement executed successfully."
      ]
     },
     "execution_count": 4,
     "metadata": {},
     "output_type": "execute_result"
    }
   ],
   "source": [
    "get_data('''set current_date_key=20220701; ''')"
   ]
  },
  {
   "cell_type": "code",
   "execution_count": 13,
   "id": "9b688fdd",
   "metadata": {},
   "outputs": [
    {
     "name": "stdout",
     "output_type": "stream",
     "text": [
      "successfull closed connection\n",
      "Duration: 0:00:26.862478\n",
      "missing values :  False\n",
      "all finite values :  True\n"
     ]
    },
    {
     "name": "stderr",
     "output_type": "stream",
     "text": [
      "/tmp/ipykernel_1500/2589744841.py:3: SettingWithCopyWarning: \n",
      "A value is trying to be set on a copy of a slice from a DataFrame\n",
      "\n",
      "See the caveats in the documentation: https://pandas.pydata.org/pandas-docs/stable/user_guide/indexing.html#returning-a-view-versus-a-copy\n",
      "  df.SENIORITY_WHEN_CONV_TO_LAST_OWNED[df.SENIORITY_WHEN_CONV_TO_LAST_OWNED.isna()] = df.SENIORITY_LAST_OWNED[df.SENIORITY_WHEN_CONV_TO_LAST_OWNED.isna()]\n",
      "/tmp/ipykernel_1500/2589744841.py:4: UserWarning: Boolean Series key will be reindexed to match DataFrame index.\n",
      "  mean_playtime_one_pd = df[df.LAST_OWNED_PLAYTIME>=0][df.NB_PD_LAST_OWNED==1].LAST_OWNED_PLAYTIME.mean()\n"
     ]
    }
   ],
   "source": [
    "# query to construct table is in ::  CS_AC_P2_PLAYERS_CONVERSION_ON_ACV s\n",
    "start_time = datetime.now()\n",
    "\n",
    "AC = get_data('''\n",
    "    WITH CTE AS (\n",
    "     SELECT \n",
    "      *,\n",
    "       ROW_NUMBER() OVER(PARTITION BY CONVERTED_VALHALLA \n",
    "                         ORDER BY RANDOM() ) AS start_order \n",
    "        FROM SANDBOX.EMEA_ANALYTICS_CRM_PRIVATE.CS_AC_P2_PLAYERS_CONVERSION_MODEL_ON_ACV \n",
    "        )\n",
    "        SELECT \n",
    "        *\n",
    "        FROM CTE\n",
    "        WHERE start_order <= (select count(*) * 5/100 from CTE);\n",
    "''')\n",
    "\n",
    "end_time = datetime.now()\n",
    "print('Duration: {}'.format(end_time - start_time))\n",
    "\n",
    "AC = data_cleaning(AC)\n",
    "print('missing values : ', np.any(np.isnan(AC.drop(['USER_KEY','CLUSTER_2021','CLUSTER_2022'], axis=1))))\n",
    "print('all finite values : ', np.all(np.isfinite(AC.drop(['USER_KEY','CLUSTER_2021','CLUSTER_2022'], axis=1))))"
   ]
  },
  {
   "cell_type": "code",
   "execution_count": 6,
   "id": "92477c38",
   "metadata": {},
   "outputs": [
    {
     "name": "stdout",
     "output_type": "stream",
     "text": [
      "successfull closed connection\n"
     ]
    },
    {
     "name": "stderr",
     "output_type": "stream",
     "text": [
      "/tmp/ipykernel_487/2589744841.py:3: SettingWithCopyWarning: \n",
      "A value is trying to be set on a copy of a slice from a DataFrame\n",
      "\n",
      "See the caveats in the documentation: https://pandas.pydata.org/pandas-docs/stable/user_guide/indexing.html#returning-a-view-versus-a-copy\n",
      "  df.SENIORITY_WHEN_CONV_TO_LAST_OWNED[df.SENIORITY_WHEN_CONV_TO_LAST_OWNED.isna()] = df.SENIORITY_LAST_OWNED[df.SENIORITY_WHEN_CONV_TO_LAST_OWNED.isna()]\n",
      "/tmp/ipykernel_487/2589744841.py:4: UserWarning: Boolean Series key will be reindexed to match DataFrame index.\n",
      "  mean_playtime_one_pd = df[df.LAST_OWNED_PLAYTIME>=0][df.NB_PD_LAST_OWNED==1].LAST_OWNED_PLAYTIME.mean()\n"
     ]
    }
   ],
   "source": [
    "test_last_month = get_data('''\n",
    "    with t as (select  AC.*\n",
    "           , TO_DATE((TO_CHAR(PR.FIRST_PLAYED_DATE_KEY)),'YYYYMMDD') - TO_DATE((TO_CHAR(20201110)),'YYYYMMDD') +1 as acv_acqui_delay_valid\n",
    "\n",
    "    from SANDBOX.EMEA_ANALYTICS_CRM_PRIVATE.CS_AC_P2_PLAYERS_CONVERSION_MODEL_ON_ACV AC\n",
    "        inner join UBICENTRAL.PLAY_SHARED.VW_AGG_FT_USER_PRODUCT PR\n",
    "            on PR.USER_KEY=AC.USER_KEY\n",
    "        inner join UBICENTRAL.PLAY_SHARED.VW_DIM_GENOME_DENORMALIZED_ACTIVE G \n",
    "            on G.GENOME_KEY=PR.GENOME_KEY\n",
    "    where CONVERTED_VALHALLA=0 \n",
    "        and  INSTALLMENT_DESCRIPTION like '%ASSASSIN%VALHALLA%' \n",
    "        and PR.CALCULATED_GAME_RELEASE_KEY=5\n",
    "        and FIRST_PLAYED_DATE_KEY > 20220701\n",
    "        and number_played_days > 0\n",
    "        QUALIFY RANK() OVER (PARTITION BY AC.USER_KEY ORDER BY PR.FIRST_PLAYED_DATE_KEY ASC)=1 \n",
    "        )\n",
    "        \n",
    " select *\n",
    " from t sample (50);\n",
    "''')\n",
    "\n",
    "test_last_month = data_cleaning(test_last_month)"
   ]
  },
  {
   "cell_type": "code",
   "execution_count": 14,
   "id": "e9f366e5",
   "metadata": {},
   "outputs": [
    {
     "name": "stdout",
     "output_type": "stream",
     "text": [
      "27666 records\n",
      "47.6% of records are censored\n"
     ]
    }
   ],
   "source": [
    "n_censored = AC.shape[0] - AC.CONVERTED_VALHALLA.sum()\n",
    "print((AC.shape[0]), \"records\")\n",
    "print(\"%.1f%% of records are censored\" % (n_censored / AC.shape[0] * 100))"
   ]
  },
  {
   "cell_type": "markdown",
   "id": "a769836c",
   "metadata": {},
   "source": [
    "### Scale covariate and create input for NN"
   ]
  },
  {
   "cell_type": "code",
   "execution_count": 8,
   "id": "b0ba016d",
   "metadata": {},
   "outputs": [],
   "source": [
    "df_train = AC\n",
    "df_test = df_train.sample(frac=0.2)\n",
    "df_train = df_train.drop(df_test.index)\n",
    "df_val = df_train.sample(frac=0.2)\n",
    "df_train = df_train.drop(df_val.index)\n",
    "censored_test = df_test[df_test.CONVERTED_VALHALLA == 0]\n",
    "del AC"
   ]
  },
  {
   "cell_type": "code",
   "execution_count": 5,
   "id": "be2d557a",
   "metadata": {},
   "outputs": [],
   "source": [
    "def input_variables_transformation(df_train):\n",
    "    cols_std = ['CONV_LAST_OWNED',\n",
    "               'P2_POST_LAUNCH_ARRIVAL',\n",
    "               'NB_AC', 'SENIORITY_AC',\n",
    "               'RECENCY_AC', 'LIFETIME_AC', 'RECENCY_LAST_OWNED',\n",
    "               'SENIORITY_LAST_OWNED', 'SENIORITY_P2', 'RECENCY_P2', 'NB_PD_AC',\n",
    "               'NB_PD_AC_2021', 'NB_PD_AC_2022', 'NB_PD_P2', 'NB_PD_LAST_OWNED',\n",
    "               'PROP_ACOD_AC', 'AVG_PD_P2', 'PROP_MOST_AC', 'PROP_LEAST_AC',\n",
    "               'AVG_PD_AC', 'SENIORITY_WHEN_CONV_TO_LAST_OWNED', 'MIN_P2_LIFETIME',\n",
    "               'MAX_P2_LIFETIME', 'AVG_P2_LIFETIME', 'MIN_LIFETIME_AC',\n",
    "               'MAX_LIFETIME_AC', 'AVG_LIFETIME_AC', 'MIN_P2_ACQ_DELAY',\n",
    "               'MAX_P2_ACQ_DELAY', 'AVG_P2_ACQ_DELAY', 'MIN_AC_ACQ_DELAY',\n",
    "               'MAX_AC_ACQ_DELAY', 'AVG_AC_ACQ_DELAY', 'NB_GAMES', 'NB_BRANDS',\n",
    "               'NB_GAMES_2022', 'SENIORITY', 'RECENCY', 'NB_PD', 'NB_PD_2021',\n",
    "               'NB_PD_2022', 'PROP_SD_GAMES', 'PROP_MOST_GAME', 'AVG_PD',\n",
    "               'PROP_LEAST_GAME', 'MIN_LIFETIME',  'MAX_LIFETIME', 'AVG_LIFETIME', 'SD_LAST_OWNED_10D',\n",
    "               'SD_RATIO_LAST_OWNED_10D', 'MIN_P2_SD_10D', 'MAX_P2_SD_10D',\n",
    "               'AVG_P2_SD_10D', 'MIN_AC_SD_10D', 'MAX_AC_SD_10D', 'AVG_AC_SD_10D',\n",
    "               'MIN_P2_SD_RATIO_10D', 'MAX_P2_SD_RATIO_10D', 'AVG_P2_SD_RATIO_10D',\n",
    "               'MIN_AC_SD_RATIO_10D', 'MAX_AC_SD_RATIO_10D', 'AVG_AC_SD_RATIO_10D',\n",
    "               'MIN_P2_SD_1M', 'MAX_P2_SD_1M', 'AVG_P2_SD_1M', 'MIN_AC_SD_1M',\n",
    "               'MAX_AC_SD_1M', 'AVG_AC_SD_1M', 'MIN_P2_SD_RATIO_1M',\n",
    "               'MAX_P2_SD_RATIO_1M', 'AVG_P2_SD_RATIO_1M', 'MIN_AC_SD_RATIO_1M',\n",
    "               'MAX_AC_SD_RATIO_1M', 'AVG_AC_SD_RATIO_1M', 'LAST_OWNED_PLAYTIME',\n",
    "               'LAST_OWNED_PLAYTIME_10D', 'PLAYTIME_LAST_OWNED_10D_RATIO',\n",
    "               'MIN_P2_PLAYTIME', 'MAX_P2_PLAYTIME', 'AVG_P2_PLAYTIME',\n",
    "               'SUM_P2_PLAYTIME', 'MIN_P2_PLAYTIME_10D', 'MAX_P2_PLAYTIME_10D',\n",
    "               'AVG_P2_PLAYTIME_10D', 'SUM_P2_PLAYTIME_10D', 'MIN_AC_PLAYTIME',\n",
    "               'MAX_AC_PLAYTIME', 'AVG_AC_PLAYTIME', 'SUM_AC_PLAYTIME',\n",
    "               'MIN_AC_PLAYTIME_10D', 'MAX_AC_PLAYTIME_10D', 'AVG_AC_PLAYTIME_10D',\n",
    "               'SUM_AC_PLAYTIME_10D', 'MIN_PLAYTIME_10D_RATIO',\n",
    "               'AVG_PLAYTIME_10D_RATIO', 'MAX_PLAYTIME_10D_RATIO', 'LEVEL_LAST_OWNED', 'PD_FW', 'PD_AC_FW',\n",
    "               'PD_P2_FW', 'PD_ACV_FW', 'PD_AC_OB', 'PD_P2_OB', 'PD_TRIAL',\n",
    "               'NB_ACTIVATION_PASS', 'AC_DLC', 'AC_P2_DLC', 'AC_CURRENCY',\n",
    "               'AC_P2_CURRENCY', 'AC_SEASONPASS', 'AC_P2_SEASONPASS', 'ESTIM_BG',\n",
    "               'ESTIM_NET_BG', 'PL_ACQUI', 'PL_NET_ACQUI',\n",
    "           ]\n",
    "    \n",
    "    cols_bin = [\"P2_LAST_OWNED_ASSASSIN'S CREED ODYSSEY\",\n",
    "                \"PLAYED_ORIGINS\", \"PLAYED_ODYSSEY\"] \n",
    "\n",
    "    standardize = [([col], StandardScaler()) for col in cols_std]\n",
    "    leave = [(col, None) for col in cols_bin]\n",
    "\n",
    "    x_mapper_float = DataFrameMapper(standardize + leave)\n",
    "    x_train = x_mapper_float.fit_transform(df_train).astype('float32')\n",
    "    \n",
    "    labtrans = CoxTime.label_transform() # standardize durations\n",
    "    get_target = lambda df: (df['CONVERSION_DAYS_ACV'].values, df['CONVERTED_VALHALLA'].values)\n",
    "    y_train = labtrans.fit_transform(*get_target(df_train))\n",
    "    \n",
    "    return  x_train, y_train, x_mapper_float, labtrans, get_target"
   ]
  },
  {
   "cell_type": "code",
   "execution_count": 15,
   "id": "27c49d25",
   "metadata": {},
   "outputs": [],
   "source": [
    "x_train, y_train, x_mapper_float, labtrans, get_target = input_variables_transformation(df_train)\n",
    "pickle.dump(x_mapper_float, open( \"/home/shared/csouvign/x_train_mapper_float_to_prepare_input.pickle\", \"wb\" ) )\n",
    "\n",
    "x_val = x_mapper_float.transform(df_val).astype('float32')\n",
    "x_test = x_mapper_float.transform(df_test).astype('float32')\n",
    "x_to_predict = x_mapper_float.transform(test_last_month).astype('float32')\n",
    "x_censored_test = x_mapper_float.transform(censored_test).astype('float32')\n",
    "\n",
    "y_val = labtrans.transform(*get_target(df_val))\n",
    "durations_test, events_test = get_target(df_test)\n",
    "val = tt.tuplefy(x_val, y_val)\n"
   ]
  },
  {
   "cell_type": "markdown",
   "id": "b7094158",
   "metadata": {
    "toc-hr-collapsed": true,
    "toc-nb-collapsed": true
   },
   "source": [
    "## Kaplan Meyer estimates\n",
    "look at conversion rate through time per cohorts"
   ]
  },
  {
   "cell_type": "markdown",
   "id": "cdb17c11",
   "metadata": {},
   "source": [
    "### Conversion rate through time"
   ]
  },
  {
   "cell_type": "code",
   "execution_count": 10,
   "id": "77ac6448",
   "metadata": {},
   "outputs": [
    {
     "data": {
      "text/plain": [
       "Text(0.5, 0, 'Time (days)')"
      ]
     },
     "execution_count": 10,
     "metadata": {},
     "output_type": "execute_result"
    },
    {
     "data": {
      "image/png": "[encoded data removed]",
      "text/plain": [
       "<Figure size 432x288 with 1 Axes>"
      ]
     },
     "metadata": {
      "needs_background": "light"
     },
     "output_type": "display_data"
    }
   ],
   "source": [
    "kmf = KaplanMeierFitter()\n",
    "kmf.fit(durations = AC.CONVERSION_DAYS_ACV, event_observed = AC.CONVERTED_VALHALLA)\n",
    "kmf.plot_cumulative_density(label='Conversion rate through time of ACOD players')\n",
    "plt.ylabel('Conversion rate')\n",
    "plt.xlabel('Time (days)')"
   ]
  },
  {
   "cell_type": "markdown",
   "id": "dbbb14af",
   "metadata": {},
   "source": [
    "### Conversion rate through time per cohorts of continuous of categorical variables"
   ]
  },
  {
   "cell_type": "code",
   "execution_count": 11,
   "id": "2b5f25bb",
   "metadata": {},
   "outputs": [
    {
     "data": {
      "text/plain": [
       "Text(0.5, 0, 'Time (days)')"
      ]
     },
     "execution_count": 11,
     "metadata": {},
     "output_type": "execute_result"
    },
    {
     "data": {
      "image/png": "[encoded data removed]",
      "text/plain": [
       "<Figure size 432x288 with 1 Axes>"
      ]
     },
     "metadata": {
      "needs_background": "light"
     },
     "output_type": "display_data"
    }
   ],
   "source": [
    "kmf = KaplanMeierFitter()\n",
    "kmf.fit(durations = AC.CONVERSION_DAYS_ACV, event_observed = AC.CONVERTED_VALHALLA)\n",
    "kmf.plot_cumulative_density(label='Conversion rate through time of ACOD players')\n",
    "\n",
    "kmf2 = KaplanMeierFitter()\n",
    "kmf2.fit(durations = AC[AC[\"P2_LAST_OWNED_ASSASSIN'S CREED ODYSSEY\"] ==1].CONVERSION_DAYS_ACV, event_observed = AC[AC[\"P2_LAST_OWNED_ASSASSIN'S CREED ODYSSEY\"] ==1].CONVERTED_VALHALLA)\n",
    "kmf2.plot_cumulative_density(label='Conversion rate through time when last ACOD played is Odyssey')\n",
    "\n",
    "\n",
    "kmf3 = KaplanMeierFitter()\n",
    "kmf3.fit(durations = AC[AC[\"P2_LAST_OWNED_ASSASSIN'S CREED ODYSSEY\"] == 0].CONVERSION_DAYS_ACV, event_observed = AC[AC[\"P2_LAST_OWNED_ASSASSIN'S CREED ODYSSEY\"] == 0].CONVERTED_VALHALLA)\n",
    "kmf3.plot_cumulative_density(label='Conversion rate through time when last ACOD played is Origins')\n",
    "plt.ylabel('Conversion rate')\n",
    "plt.xlabel('Time (days)')"
   ]
  },
  {
   "cell_type": "markdown",
   "id": "940a507a",
   "metadata": {},
   "source": [
    "## Non linear Cox Models\n",
    "\n",
    "Cox model minimizes log-likelihod by using Newton-Raphson's method\n",
    "Here, Pycox Neural Networks uses mini-batch stochastic gradient descent to better scale large datasets."
   ]
  },
  {
   "cell_type": "markdown",
   "id": "52ef3e33",
   "metadata": {},
   "source": [
    "### Network Tuning with Optuna"
   ]
  },
  {
   "cell_type": "code",
   "execution_count": 1,
   "id": "10d0a47f",
   "metadata": {},
   "outputs": [],
   "source": [
    "# Non linear Coc model with proportional hazard\n",
    "def objective_coxcc(trial):\n",
    "    in_features = x_train.shape[1]\n",
    "    out_features = 1\n",
    "    batch_norm = True\n",
    "    output_bias = False\n",
    "    callbacks = [tt.callbacks.EarlyStopping()]\n",
    "    verbose = True\n",
    "    epochs = 512\n",
    "    verbose = True\n",
    " \n",
    "    lr = trial.suggest_float(\"lr\", 0.01, 0.1)\n",
    "    dropout = trial.suggest_float(\"dropout\", 0.05, 0.3)\n",
    "    batch_size = trial.suggest_int(\"batch_size\", 230, 300)\n",
    "    optimizer = trial.suggest_categorical(\"optimizer\",  [tt.optim.Adam, tt.optim.AdamW])\n",
    "    num_nodes = trial.suggest_categorical(\"num_nodes\", [[32, 32], [64, 32], [64, 64], [100, 64], [64, 32, 32], [32, 32, 32]])\n",
    "    net = tt.practical.MLPVanilla(in_features, num_nodes, out_features, batch_norm,\n",
    "                                  dropout, output_bias=output_bias) \n",
    "    best_model = CoxCC(net, optimizer) \n",
    "    best_model.optimizer.set_lr(lr)\n",
    "    log = best_model.fit(x_train, y_train, batch_size, \n",
    "                         epochs, callbacks, verbose,\n",
    "                         val_data = val, val_batch_size = batch_size)\n",
    "    \n",
    "    bas_cum_haz = best_model.compute_baseline_hazards().cumsum()\n",
    "    surv_test = best_model.predict_surv_df(x_test)\n",
    "    ev = EvalSurv(surv_test, durations_test, events_test, censor_surv='km')\n",
    "    time_grid = np.linspace(durations_test.min(), durations_test.max(), 500)\n",
    "\n",
    "    return ev.concordance_td()\n",
    "\n",
    "# Non linear Coc model with time varying coefficients\n",
    "def objective_coxtime(trial):\n",
    "    in_features = x_train.shape[1]\n",
    "    batch_norm = True\n",
    "    callbacks = [tt.callbacks.EarlyStopping()]\n",
    "    verbose = True\n",
    "    epochs = 512\n",
    "    verbose = True\n",
    " \n",
    "    lr = trial.suggest_float(\"lr\", 0.01, 0.1)\n",
    "    dropout = trial.suggest_float(\"dropout\", 0.05, 0.3)\n",
    "    batch_size = trial.suggest_int(\"batch_size\", 230, 300)\n",
    "    optimizer = trial.suggest_categorical(\"optimizer\",  [tt.optim.Adam, tt.optim.AdamW])\n",
    "    num_nodes = trial.suggest_categorical(\"num_nodes\", [[32, 32], [64, 32], [64, 64], [100, 64], [64, 32, 32], [32, 32, 32]])\n",
    "    \n",
    "    net = MLPVanillaCoxTime(in_features, num_nodes, batch_norm, dropout)\n",
    "    best_model = CoxTime(net, optimizer, labtrans=labtrans)\n",
    "    best_model.optimizer.set_lr(lr)\n",
    "    \n",
    "    log = best_model.fit(x_train, y_train, batch_size,\n",
    "                    epochs, callbacks, verbose,\n",
    "                    val_data=val.repeat(10).cat())\n",
    "    \n",
    "    bas_cum_haz = best_model.compute_baseline_hazards().cumsum()\n",
    "    surv_test = best_model.predict_surv_df(x_test)\n",
    "    ev = EvalSurv(surv_test, durations_test, events_test, censor_surv='km')\n",
    "    time_grid = np.linspace(durations_test.min(), durations_test.max(), 500)\n",
    "    return ev.concordance_td()"
   ]
  },
  {
   "cell_type": "code",
   "execution_count": 23,
   "id": "83249284",
   "metadata": {},
   "outputs": [],
   "source": [
    "study = optuna.create_study(\n",
    "   pruner=optuna.pruners.MedianPruner(\n",
    "       n_startup_trials=3, n_warmup_steps=5, interval_steps=3 ),\n",
    "    direction='maximize')\n",
    "\n",
    "study.optimize(objective_coxtime, n_trials=500) # tune with a 1% sample maximum\n",
    "trial = study.best_trial\n",
    "\n",
    "pickle.dump(study, open( \"/home/shared/csouvign/CoxTime_Tuning_Trials.pickle\", \"wb\" ) )\n"
   ]
  },
  {
   "cell_type": "code",
   "execution_count": 11,
   "id": "10932a04",
   "metadata": {},
   "outputs": [
    {
     "name": "stdout",
     "output_type": "stream",
     "text": [
      "Best Score:  0.9620514507878339\n",
      "Best Params: \n",
      "  lr: 0.03126235361745272\n",
      "  dropout: 0.2037704702692371\n",
      "  batch_size: 279\n",
      "  optimizer: <class 'torchtuples.optim.AdamW'>\n",
      "  num_nodes: [32, 32]\n"
     ]
    }
   ],
   "source": [
    "best_trial = pickle.load(open( \"/home/shared/csouvign/CoxCC_Tuning_Trials.pickle\", \"rb\" ) ).best_trial\n",
    "print(\"Best Score: \", best_trial.value)\n",
    "print(\"Best Params: \")\n",
    "for key, value in best_trial.params.items():\n",
    "    print(\"  {}: {}\".format(key, value))"
   ]
  },
  {
   "cell_type": "markdown",
   "id": "4986c125",
   "metadata": {},
   "source": [
    "### Final Model fitting"
   ]
  },
  {
   "cell_type": "code",
   "execution_count": 12,
   "id": "ceb08484",
   "metadata": {},
   "outputs": [],
   "source": [
    "model = pickle.load(open( \"/home/shared/csouvign/CoxTime_Finale.pickle\", \"rb\" ) )"
   ]
  },
  {
   "cell_type": "code",
   "execution_count": 12,
   "id": "b0936880",
   "metadata": {},
   "outputs": [],
   "source": [
    "# 3 fois plus long que CoxCC\n",
    "in_features = x_train.shape[1]\n",
    "num_nodes = best_trial.params['num_nodes']\n",
    "batch_norm = True\n",
    "dropout = best_trial.params['dropout']\n",
    "batch_size = best_trial.params['batch_size']\n",
    "epochs = 280\n",
    "callbacks = [tt.callbacks.EarlyStopping()]\n",
    "verbose = True\n",
    "\n",
    "net = MLPVanillaCoxTime(in_features, num_nodes, batch_norm, dropout)\n",
    "model = CoxTime(net, best_trial.params['optimizer'], labtrans=labtrans)\n",
    "\n",
    "model.optimizer.set_lr(best_trial.params['lr']) # to change\n",
    "\n",
    "log = model.fit(x_train, y_train, batch_size, epochs, callbacks, verbose,\n",
    "                val_data=val.repeat(10).cat())\n",
    "\n",
    "pickle.dump(model, open( \"/home/shared/csouvign/CoxTime_Finale.pickle\", \"wb\" ) )\n"
   ]
  },
  {
   "cell_type": "markdown",
   "id": "79c216e1",
   "metadata": {},
   "source": [
    "### Generate Survival Curves"
   ]
  },
  {
   "cell_type": "code",
   "execution_count": 6,
   "id": "f4d96dcb",
   "metadata": {},
   "outputs": [],
   "source": [
    "# On large dataset can't predict all datas at once, need to work with batch size \n",
    "def extrapolated_predict_survival_CoxTime(model, input, max_duration, baseline_hazards_ , \n",
    "                                           batch_size = 8224, verbose = False, eval_=True, num_workers=0 ):\n",
    "    def pred_partial_haz_time_t(t):\n",
    "        t = np.repeat(t, n_cols).reshape(-1, 1).astype('float32')\n",
    "        if tt.tuplefy(input).type() is torch.Tensor:\n",
    "            t = torch.from_numpy(t)\n",
    "        return np.exp(model.predict((input, t), batch_size, True, eval_, num_workers=num_workers)).flatten()\n",
    "\n",
    "    def interpolate_baseline(baseline_hazards_):\n",
    "        f_base_haz = interpolate.interp1d(np.arange(1,baseline_hazards_.shape[0]+1) , baseline_hazards_.cumsum() , fill_value='extrapolate')\n",
    "        f_standard_time = interpolate.interp1d(np.arange(1,baseline_hazards_.shape[0]+1) , model.baseline_hazards_.index , fill_value='extrapolate')\n",
    "\n",
    "        new_axis_range = np.arange(1, max_duration, 1)\n",
    "        return pd.DataFrame(np.diff(f_base_haz(new_axis_range), prepend=0), index = f_standard_time(new_axis_range) ) \n",
    "\n",
    "\n",
    "    input = tt.tuplefy(input)\n",
    "    max_duration = np.inf if max_duration is None else max_duration\n",
    "    baseline_hazards_ = interpolate_baseline(baseline_hazards_)\n",
    "    n_rows, n_cols = baseline_hazards_.shape[0], input.lens().flatten().get_if_all_equal()\n",
    "    hazards = np.empty((n_rows, n_cols))\n",
    "    for idx, t in enumerate(baseline_hazards_.index):\n",
    "        if verbose:\n",
    "                print(idx, 'of', len(baseline_hazards_))\n",
    "        hazards[idx, :] = pred_partial_haz_time_t(t)\n",
    "        \n",
    "    #hazards[baseline_hazards_.values == 0] = 0.  # in case hazards are inf here\n",
    "    hazards *= baseline_hazards_.values.reshape(-1, 1)\n",
    "    return np.exp ( - pd.DataFrame(hazards, index=np.arange(1, max_duration, 1)).cumsum())\n",
    "\n",
    "def extrapolated_predict_survival_CoxCC(model, input, max_duration, baseline_hazards_):\n",
    "    f = interpolate.interp1d(baseline_hazards_.index, baseline_hazards_.cumsum(), fill_value='extrapolate')\n",
    "    xnew = np.arange(1, max_duration, 1)  \n",
    "    baseline_cum_hazards = pd.DataFrame(f(xnew), index=np.arange(1, max_duration, 1))\n",
    "    partial_haz = np.exp(model.predict(input))\n",
    "    return pd.DataFrame(np.exp(- np.dot(baseline_cum_hazards , pd.DataFrame(partial_haz).T)))"
   ]
  },
  {
   "cell_type": "code",
   "execution_count": 17,
   "id": "579fd441",
   "metadata": {},
   "outputs": [],
   "source": [
    "bas_cum_haz = model.compute_baseline_hazards().cumsum()\n",
    "max_time = df_train.CONVERSION_DAYS_ACV.max()\n",
    "\n",
    "test_survival = extrapolated_predict_survival_CoxTime(model, x_test, max_time + 180,  baseline_hazards_ = model.baseline_hazards_ )"
   ]
  },
  {
   "cell_type": "markdown",
   "id": "ce56457e",
   "metadata": {},
   "source": [
    "### Evaluate model performances"
   ]
  },
  {
   "cell_type": "markdown",
   "id": "a51ad194",
   "metadata": {},
   "source": [
    "for num_workers in [0, 4 * os.cpu_count()]:\n",
    "    start = datetime.now()\n",
    "    # moins 600 \n",
    "    test_survival = extrapolated_predict_survival_CoxTime(model, x_test[0:10000], 780, batch_size, verbose, model.baseline_hazards_, num_workers = num_workers)\n",
    "    end = datetime.now()\n",
    "    print(\"Finish with:{} second, num_workers={}\".format(end - start, num_workers))"
   ]
  },
  {
   "cell_type": "code",
   "execution_count": 18,
   "id": "d14da5f5",
   "metadata": {},
   "outputs": [
    {
     "data": {
      "image/png": "[encoded data removed]",
      "text/plain": [
       "<Figure size 432x288 with 1 Axes>"
      ]
     },
     "metadata": {
      "needs_background": "light"
     },
     "output_type": "display_data"
    }
   ],
   "source": [
    "plt.plot(bas_cum_haz, label='Cumulative hazard CoxTime')\n",
    "plt.legend(loc=\"upper left\")\n",
    "plt.show()"
   ]
  },
  {
   "cell_type": "code",
   "execution_count": null,
   "id": "e08a2807",
   "metadata": {},
   "outputs": [],
   "source": [
    "ev = EvalSurv(test_survival.iloc[0:max_time], durations_test, events_test, censor_surv='km')\n",
    "time_grid = np.linspace(durations_test.min(), durations_test.max(), 200)\n",
    "_ = ev.brier_score(time_grid).plot()\n",
    "print('CoxCC concordance', ev.concordance_td())\n",
    "print('CoxCC brier score', ev.integrated_brier_score(time_grid))\n",
    "#print('partial log likelihood', model.partial_log_likelihood(*val).mean())"
   ]
  },
  {
   "cell_type": "code",
   "execution_count": 24,
   "id": "ad1ca14c",
   "metadata": {},
   "outputs": [
    {
     "data": {
      "image/png": "[encoded data removed]",
      "text/plain": [
       "<Figure size 432x288 with 1 Axes>"
      ]
     },
     "metadata": {
      "needs_background": "light"
     },
     "output_type": "display_data"
    }
   ],
   "source": [
    "(1 - test_survival.iloc[:, 5:25]) .plot()\n",
    "plt.ylabel('Acquistition of game (t | X)')\n",
    "_ = plt.xlabel('Time')\n"
   ]
  },
  {
   "cell_type": "code",
   "execution_count": null,
   "id": "bd26801e",
   "metadata": {},
   "outputs": [],
   "source": []
  },
  {
   "cell_type": "code",
   "execution_count": 21,
   "id": "cc7a24cc",
   "metadata": {},
   "outputs": [
    {
     "data": {
      "text/plain": [
       "<matplotlib.legend.Legend at 0x7f0c4bc39c70>"
      ]
     },
     "execution_count": 21,
     "metadata": {},
     "output_type": "execute_result"
    },
    {
     "data": {
      "image/png": "[encoded data removed]",
      "text/plain": [
       "<Figure size 432x288 with 3 Axes>"
      ]
     },
     "metadata": {
      "needs_background": "light"
     },
     "output_type": "display_data"
    }
   ],
   "source": [
    "df_pred = df_test.reset_index(drop=True).join(test_survival.T)\n",
    "df_pred = pred_AC_survival(df_pred, df_test)\n",
    "\n",
    "fig, [ax1, ax2, ax3] = plt.subplots(nrows=3, ncols=1)\n",
    "ax1.plot(1- test_survival.T.mean(), label='Conversion pb on test set')\n",
    "ax1.legend(loc=\"lower right\")\n",
    "\n",
    "ax2.plot(1-df_pred[df_pred.CONVERTED_VALHALLA==0].loc[:,1:max_time + 179].mean(), label='Conversion pb on test set for censored players')\n",
    "ax2.legend(loc=\"upper left\")\n",
    "\n",
    "ax3.plot(1-df_pred[df_pred.CONVERTED_VALHALLA==1].loc[:,1:max_time + 179].mean(), label='Conversion pb on test set for converted players')\n",
    "ax3.legend(loc=\"lower right\")"
   ]
  },
  {
   "cell_type": "code",
   "execution_count": 22,
   "id": "13e76609",
   "metadata": {},
   "outputs": [
    {
     "name": "stdout",
     "output_type": "stream",
     "text": [
      "predicted conversion at CONV on ACV - 30 days :  0.010925212817087693\n",
      "predicted conversion at CONV at censoring (601 days) :  0.029386203831996083\n",
      "predicted conversion at CONV at censoring (660 days) :  0.3119796741654257\n",
      "predicted conversion at CONV on ACV :  0.5215912040579094\n",
      "predicted conversion at CONV on ACV - 30 days :  0.017470574219769497\n",
      "predicted conversion at CONV on ACV + 10 days :  0.8703182398654395\n",
      "predicted conversion at CONV on ACV + 30 days :  0.9888353184085914\n"
     ]
    },
    {
     "name": "stderr",
     "output_type": "stream",
     "text": [
      "/tmp/ipykernel_1224/3176971805.py:9: UserWarning: Boolean Series key will be reindexed to match DataFrame index.\n",
      "  print('pred accuracy : ', df_pred[df_pred.CONVERTED_VALHALLA==1][df_pred.pb_conv<0.5].shape[0]*100/df_pred[df_pred.CONVERTED_VALHALLA==1].shape[0] )\n"
     ]
    },
    {
     "name": "stdout",
     "output_type": "stream",
     "text": [
      "pred accuracy :  0.9256370254810192\n"
     ]
    },
    {
     "name": "stderr",
     "output_type": "stream",
     "text": [
      "/tmp/ipykernel_1224/3176971805.py:10: UserWarning: Boolean Series key will be reindexed to match DataFrame index.\n",
      "  print('pred accuracy at t+10 days : ' , df_pred[df_pred.CONVERTED_VALHALLA==1][df_pred.pb_conv_plus10D<0.5].shape[0]*100 / df_pred[df_pred.CONVERTED_VALHALLA==1].shape[0] )\n"
     ]
    },
    {
     "name": "stdout",
     "output_type": "stream",
     "text": [
      "pred accuracy at t+10 days :  1.6848673946957877\n",
      "pred accuracy at t+30 days :  1.750736696134512\n"
     ]
    },
    {
     "name": "stderr",
     "output_type": "stream",
     "text": [
      "/tmp/ipykernel_1224/3176971805.py:11: UserWarning: Boolean Series key will be reindexed to match DataFrame index.\n",
      "  print('pred accuracy at t+30 days : ' , df_pred[df_pred.CONVERTED_VALHALLA==1][df_pred.pb_conv_plus1M<0.5].shape[0]*100/ df_pred[df_pred.CONVERTED_VALHALLA==1].shape[0] )\n"
     ]
    }
   ],
   "source": [
    "print('predicted conversion at CONV on ACV - 30 days : ', 1 - df_pred[df_pred.CONVERTED_VALHALLA==0].pb_conv_moins1M.mean() )\n",
    "print('predicted conversion at CONV at censoring (601 days) : ', 1 - df_pred[df_pred.CONVERTED_VALHALLA==0].pb_conv.mean() )\n",
    "print('predicted conversion at CONV at censoring (660 days) : ', 1 - df_pred[df_pred.CONVERTED_VALHALLA==0][660].mean() )\n",
    "\n",
    "print('predicted conversion at CONV on ACV : ', 1-df_pred.pb_conv[df_pred.CONVERTED_VALHALLA==1].mean() )\n",
    "print('predicted conversion at CONV on ACV - 30 days : ', 1-df_pred.pb_conv_moins1M[df_pred.CONVERTED_VALHALLA==1][df_pred.CONVERSION_DAYS_ACV>30].mean() )\n",
    "print('predicted conversion at CONV on ACV + 10 days : ', 1-df_pred.pb_conv_plus10D[df_pred.CONVERTED_VALHALLA==1][df_pred.CONVERSION_DAYS_ACV<588].mean() )\n",
    "print('predicted conversion at CONV on ACV + 30 days : ', 1-df_pred.pb_conv_plus1M[df_pred.CONVERTED_VALHALLA==1][df_pred.CONVERSION_DAYS_ACV<565].mean() )\n",
    "print('pred accuracy : ', df_pred[df_pred.CONVERTED_VALHALLA==1][df_pred.pb_conv<0.5].shape[0]*100/df_pred[df_pred.CONVERTED_VALHALLA==1].shape[0] )\n",
    "print('pred accuracy at t+10 days : ' , df_pred[df_pred.CONVERTED_VALHALLA==1][df_pred.pb_conv_plus10D<0.5].shape[0]*100 / df_pred[df_pred.CONVERTED_VALHALLA==1].shape[0] )\n",
    "print('pred accuracy at t+30 days : ' , df_pred[df_pred.CONVERTED_VALHALLA==1][df_pred.pb_conv_plus1M<0.5].shape[0]*100/ df_pred[df_pred.CONVERTED_VALHALLA==1].shape[0] )"
   ]
  },
  {
   "cell_type": "code",
   "execution_count": null,
   "id": "cd388b3c",
   "metadata": {},
   "outputs": [],
   "source": [
    "print('nr of too early predicted: ', df_pred[df_pred.CONVERTED_VALHALLA==1][df_pred.pb_conv<0.5].shape[0]*100/df_pred[df_pred.CONVERTED_VALHALLA==1].shape[0] )\n"
   ]
  },
  {
   "cell_type": "markdown",
   "id": "a545ab7e",
   "metadata": {},
   "source": [
    "### Performances on latest converters (July and August 2022)\n"
   ]
  },
  {
   "cell_type": "code",
   "execution_count": 81,
   "id": "a5eb4ae0",
   "metadata": {},
   "outputs": [],
   "source": [
    "july_august_2022_survival = extrapolated_predict_survival_CoxTime(model, x_to_predict, max_time + 180, baseline_hazards_ =  model.baseline_hazards_)"
   ]
  },
  {
   "cell_type": "code",
   "execution_count": 84,
   "id": "5da811c8",
   "metadata": {},
   "outputs": [
    {
     "name": "stdout",
     "output_type": "stream",
     "text": [
      "0.44873546062457137\n",
      "37.99825551457066\n"
     ]
    },
    {
     "data": {
      "image/png": "[encoded data removed]",
      "text/plain": [
       "<Figure size 432x288 with 1 Axes>"
      ]
     },
     "metadata": {
      "needs_background": "light"
     },
     "output_type": "display_data"
    }
   ],
   "source": [
    "(1 - july_august_2022_survival.iloc[:, 85:95]) .plot()\n",
    "plt.ylabel('Acquistition of game (t | X)')\n",
    "_ = plt.xlabel('Time')\n",
    "\n",
    "print(1 - july_august_2022_survival.loc[660].mean())\n",
    "print((july_august_2022_survival.loc[660] <= 0.5).sum()*100 /july_august_2022_survival.shape[1])"
   ]
  },
  {
   "cell_type": "markdown",
   "id": "c80c9787",
   "metadata": {},
   "source": [
    "## Prediction output for SnowFlake\n",
    "For each player : median prediction time and two inflection points are sent in a table to SnowFlake"
   ]
  },
  {
   "cell_type": "code",
   "execution_count": null,
   "id": "249432b4",
   "metadata": {},
   "outputs": [],
   "source": []
  },
  {
   "cell_type": "code",
   "execution_count": null,
   "id": "94581832",
   "metadata": {},
   "outputs": [],
   "source": []
  },
  {
   "cell_type": "code",
   "execution_count": null,
   "id": "86906db3",
   "metadata": {},
   "outputs": [],
   "source": []
  },
  {
   "cell_type": "code",
   "execution_count": null,
   "id": "f5b983b9",
   "metadata": {},
   "outputs": [],
   "source": [
    "# ex pour un joueur\n",
    "smooth = gaussian_filter1d((1-july_august_2022_survival[1300]), 10)\n",
    "smooth_d2 = np.gradient(np.gradient(smooth))\n",
    "inflection_points = np.where(np.diff(np.sign(smooth_d2)))[0]\n",
    "plt.plot((1-july_august_2022_survival[1300]), label='Prediction Curve')\n",
    "plt.plot(smooth, label='Smoothed Curve')\n",
    "for i, infl in enumerate(inflection_points, 1):\n",
    "    plt.axvline(x=infl, color='k', label=f'Inflection Point {i}')\n",
    "plt.legend(bbox_to_anchor=(1.55, 1.0))"
   ]
  },
  {
   "cell_type": "code",
   "execution_count": 124,
   "id": "dc253f42",
   "metadata": {},
   "outputs": [
    {
     "data": {
      "text/plain": [
       "<matplotlib.legend.Legend at 0x7fcb4c2c4f10>"
      ]
     },
     "execution_count": 124,
     "metadata": {},
     "output_type": "execute_result"
    },
    {
     "data": {
      "image/png": "[encoded data removed]",
      "text/plain": [
       "<Figure size 432x288 with 1 Axes>"
      ]
     },
     "metadata": {
      "needs_background": "light"
     },
     "output_type": "display_data"
    }
   ],
   "source": [
    "smooth = gaussian_filter1d((1-test_survival[400]), 25)\n",
    "smooth_d2 = np.gradient(np.gradient(smooth))\n",
    "inflection_points = np.where(np.diff(np.sign(smooth_d2)))[0]\n",
    "plt.plot((1-test_survival[400]), label='Prediction Curve')\n",
    "plt.plot(smooth, label='Smoothed Curve')\n",
    "for i, infl in enumerate(inflection_points, 1):\n",
    "    plt.axvline(x=infl, color='k', label=f'Inflection Point {i}')\n",
    "plt.legend(bbox_to_anchor=(1.55, 1.0))"
   ]
  },
  {
   "cell_type": "code",
   "execution_count": null,
   "id": "42c9c9ca",
   "metadata": {},
   "outputs": [],
   "source": []
  },
  {
   "cell_type": "code",
   "execution_count": 55,
   "id": "9cf0076b",
   "metadata": {},
   "outputs": [],
   "source": [
    "def get_switching_point(x, smoothing_rate ):\n",
    "    smooth = gaussian_filter1d(x, smoothing_rate)\n",
    "\n",
    "    smooth_d2 = np.gradient(np.gradient(smooth))\n",
    "\n",
    "    inflection_points = np.where(np.diff(np.sign(smooth_d2)))[0]\n",
    "    return inflection_points[0]\n",
    "    # plot results\n",
    "\n",
    "def get_median_time(row):\n",
    "    res = next(x for x, val in enumerate(row) if val >= 0.5) \n",
    "    return res + 1\n"
   ]
  },
  {
   "cell_type": "code",
   "execution_count": null,
   "id": "1c8b172d",
   "metadata": {},
   "outputs": [],
   "source": [
    "# generate noisy data\n",
    "\n",
    "#raw /= np.max(raw)\n",
    "raw = rnd.lognormal(2,100)\n",
    "raw = np.sort(raw/raw.max())\n",
    "\n",
    "# smooth\n",
    "smooth = gaussian_filter1d(raw, 40)\n",
    "\n",
    "# compute second derivative\n",
    "smooth_d2 = np.gradient(np.gradient(smooth))\n",
    "\n",
    "# find switching points\n",
    "infls = np.where(np.diff(np.sign(smooth_d2)))[0]\n",
    "\n",
    "# plot results\n",
    "plt.plot(raw, label='Prediction Curve')\n",
    "plt.plot(smooth, label='Smoothed Curve')\n",
    "#plt.plot(smooth_d2 / np.max(smooth_d2), label='Second Derivative (scaled)')\n",
    "for i, infl in enumerate(infls, 1):\n",
    "    plt.axvline(x=infl, color='k', label=f'Inflection Point {i}')\n",
    "plt.legend(bbox_to_anchor=(1.55, 1.0))\n"
   ]
  },
  {
   "cell_type": "markdown",
   "id": "c1db285d",
   "metadata": {},
   "source": [
    "## Predict on all players and push in SnowFlake\n",
    "\n",
    "- Should work on 18M players. If Dask doens't work, import 18M / 5 frames, and run code on it (to_sql appends well data)"
   ]
  },
  {
   "cell_type": "markdown",
   "id": "2a0b44f0",
   "metadata": {},
   "source": [
    "### Create output table in SNK"
   ]
  },
  {
   "cell_type": "code",
   "execution_count": 111,
   "id": "31d19136",
   "metadata": {},
   "outputs": [
    {
     "name": "stdout",
     "output_type": "stream",
     "text": [
      "successfull closed connection\n"
     ]
    },
    {
     "data": {
      "text/html": [
       "<div>\n",
       "<style scoped>\n",
       "    .dataframe tbody tr th:only-of-type {\n",
       "        vertical-align: middle;\n",
       "    }\n",
       "\n",
       "    .dataframe tbody tr th {\n",
       "        vertical-align: top;\n",
       "    }\n",
       "\n",
       "    .dataframe thead th {\n",
       "        text-align: right;\n",
       "    }\n",
       "</style>\n",
       "<table border=\"1\" class=\"dataframe\">\n",
       "  <thead>\n",
       "    <tr style=\"text-align: right;\">\n",
       "      <th></th>\n",
       "      <th>status</th>\n",
       "    </tr>\n",
       "  </thead>\n",
       "  <tbody>\n",
       "    <tr>\n",
       "      <th>0</th>\n",
       "      <td>Table CS_AC_P2_PLAYERS_CONVERSION_ON_ACV_PREDI...</td>\n",
       "    </tr>\n",
       "  </tbody>\n",
       "</table>\n",
       "</div>"
      ],
      "text/plain": [
       "                                              status\n",
       "0  Table CS_AC_P2_PLAYERS_CONVERSION_ON_ACV_PREDI..."
      ]
     },
     "execution_count": 111,
     "metadata": {},
     "output_type": "execute_result"
    }
   ],
   "source": [
    "get_data(''' CREATE OR REPLACE TABLE SANDBOX.EMEA_ANALYTICS_CRM_PRIVATE.CS_AC_P2_PLAYERS_CONVERSION_ON_ACV_PREDICTIONS\n",
    "             ( USER_KEY BIGINT ,\n",
    "               MEDIAN_TIME INT,\n",
    "               CONVERSION_RATE_INCREASE INT\n",
    "             )''')"
   ]
  },
  {
   "cell_type": "markdown",
   "id": "dfacf53b",
   "metadata": {},
   "source": [
    "### Import all censored players with Dask "
   ]
  },
  {
   "cell_type": "code",
   "execution_count": null,
   "id": "a75b019b",
   "metadata": {},
   "outputs": [
    {
     "name": "stdout",
     "output_type": "stream",
     "text": [
      "successfull closed connection\n"
     ]
    }
   ],
   "source": [
    "start_time = datetime.now()\n",
    "\n",
    "with open(\"/home/shared/csouvign/rsa_key.p8\", \"rb\") as key:\n",
    "    p_key= serialization.load_pem_private_key(\n",
    "        key.read(),\n",
    "        password='2B@XS5E&!5%UCab'.encode(),\n",
    "    )\n",
    "\n",
    "pkb = p_key.private_bytes(\n",
    "    encoding=serialization.Encoding.DER,\n",
    "    format=serialization.PrivateFormat.PKCS8,\n",
    "    encryption_algorithm=serialization.NoEncryption())\n",
    "\n",
    "conn_info = {\n",
    "    \"account\" :  'ubisoft.us-east-1',\n",
    "    \"user\" : 'camille.souvigny@ubisoft.com',\n",
    "    \"private_key\" : pkb,\n",
    "    \"warehouse\" : 'EMEA_ANALYTICS_COMMON',\n",
    "    \"database\" : 'SANDBOX',\n",
    "    \"schema\" : 'EMEA_ANALYTICS_CRM_PRIVATE',\n",
    "    \"role\" : 'SNK_F_EMEAANALYTICS_CRM_SB_DEV',\n",
    "    \"proxy_host\" : 'http://proxy.ubisoft.org',\n",
    "    \"proxy_port\" : '3128',\n",
    "}\n",
    "query = \"\"\"\n",
    "      WITH CTE AS (\n",
    "         SELECT \n",
    "          *,\n",
    "           ROW_NUMBER() OVER(PARTITION BY CONVERTED_VALHALLA \n",
    "                             ORDER BY USER_KEY ) AS start_order \n",
    "            FROM SANDBOX.EMEA_ANALYTICS_CRM_PRIVATE.CS_AC_P2_PLAYERS_CONVERSION_MODEL_ON_ACV \n",
    "            WHERE CONVERTED_VALHALLA=0\n",
    "            )\n",
    "            SELECT \n",
    "            *\n",
    "            FROM CTE\n",
    "            WHERE start_order BETWEEN %s AND %s;\n",
    "        \"\"\"\n",
    "@dask.delayed\n",
    "def load(conn_info, query, start, end):\n",
    "    with snowflake.connector.connect(**conn_info) as conn:\n",
    "        cur = conn.cursor().execute(query, (start, end))\n",
    "        return cur.fetch_pandas_all()\n",
    "\n",
    "nr = int(get_data('''select count(*) from SANDBOX.EMEA_ANALYTICS_CRM_PRIVATE.CS_AC_P2_PLAYERS_CONVERSION_MODEL_ON_ACV WHERE CONVERTED_VALHALLA=0; ''').values)\n",
    "\n",
    "results = [\n",
    "    load(conn_info, query, 0, nr/10),\n",
    "    load(conn_info, query, nr/10 +1, 2*nr/10),\n",
    "    load(conn_info, query, 2*nr/10 +1 , 3*nr/10),\n",
    "    load(conn_info, query, 3*nr/10 +1 , 4*nr/10),\n",
    "    load(conn_info, query, 4*nr/10 +1 , 5*nr/10),\n",
    "    load(conn_info, query, 5*nr/10 +1 , 6*nr/10),\n",
    "    load(conn_info, query, 6*nr/10 +1 , 7*nr/10),\n",
    "    load(conn_info, query, 7*nr/10 +1 , 8*nr/10),\n",
    "    load(conn_info, query, 8*nr/10 +1 , 9*nr/10),\n",
    "    load(conn_info, query, 9*nr/10 +1 , nr + 1),\n",
    "]\n",
    "ddf = dd.from_delayed(results)\n",
    "end_time = datetime.now()\n",
    "print('Duration: {}'.format(end_time - start_time))"
   ]
  },
  {
   "cell_type": "markdown",
   "id": "fb715dc9",
   "metadata": {},
   "source": [
    "----- OR DO WITH PANDAS"
   ]
  },
  {
   "cell_type": "code",
   "execution_count": 8,
   "id": "2fc27e45",
   "metadata": {},
   "outputs": [
    {
     "name": "stdout",
     "output_type": "stream",
     "text": [
      "successfull closed connection\n"
     ]
    }
   ],
   "source": [
    "# RUN on all chunk of ACOD players that didn't convert\n",
    "ddf = get_data('''\n",
    "    SELECT TOP 1000 *\n",
    "    FROM SANDBOX.EMEA_ANALYTICS_CRM_PRIVATE.CS_AC_P2_PLAYERS_CONVERSION_MODEL_ON_ACV \n",
    "    WHERE CONVERTED_VALHALLA = 0   \n",
    "''')"
   ]
  },
  {
   "cell_type": "markdown",
   "id": "58cafdec",
   "metadata": {},
   "source": [
    "### Clean and Standardize datas"
   ]
  },
  {
   "cell_type": "code",
   "execution_count": 16,
   "id": "d3b6124a",
   "metadata": {},
   "outputs": [
    {
     "name": "stderr",
     "output_type": "stream",
     "text": [
      "/tmp/ipykernel_1500/2589744841.py:3: SettingWithCopyWarning: \n",
      "A value is trying to be set on a copy of a slice from a DataFrame\n",
      "\n",
      "See the caveats in the documentation: https://pandas.pydata.org/pandas-docs/stable/user_guide/indexing.html#returning-a-view-versus-a-copy\n",
      "  df.SENIORITY_WHEN_CONV_TO_LAST_OWNED[df.SENIORITY_WHEN_CONV_TO_LAST_OWNED.isna()] = df.SENIORITY_LAST_OWNED[df.SENIORITY_WHEN_CONV_TO_LAST_OWNED.isna()]\n",
      "/tmp/ipykernel_1500/2589744841.py:4: UserWarning: Boolean Series key will be reindexed to match DataFrame index.\n",
      "  mean_playtime_one_pd = df[df.LAST_OWNED_PLAYTIME>=0][df.NB_PD_LAST_OWNED==1].LAST_OWNED_PLAYTIME.mean()\n"
     ]
    }
   ],
   "source": [
    "x_mapper_float = pickle.load( open( \"/home/shared/csouvign/x_train_mapper_float_to_prepare_input.pickle\", \"rb\" ) )\n",
    "\n",
    "ddf = data_cleaning(ddf)\n",
    "ddf_standardized = x_mapper_float.transform(ddf).astype('float32')"
   ]
  },
  {
   "cell_type": "markdown",
   "id": "03a86bc1",
   "metadata": {},
   "source": [
    "### Predict survival curves\n",
    "    - load fitted model\n",
    "    - compute baseline => takes time\n",
    "    - predict curves : don't hesitate to test different batch size to getpredictions quicker"
   ]
  },
  {
   "cell_type": "code",
   "execution_count": null,
   "id": "e7c94964",
   "metadata": {},
   "outputs": [],
   "source": [
    "model = pickle.load(open( \"/home/shared/csouvign/CoxTime_Finale.pickle\", \"rb\" ) )\n",
    "model.compute_baseline_hazards()"
   ]
  },
  {
   "cell_type": "code",
   "execution_count": 21,
   "id": "e7fe4763",
   "metadata": {},
   "outputs": [],
   "source": [
    "max_time = ddf.CONVERSION_DAYS_ACV.max()\n",
    "ddf_survival_curve = extrapolated_predict_survival_CoxTime(model, ddf_standardized, max_time + 180,  baseline_hazards_ = model.baseline_hazards_ )"
   ]
  },
  {
   "cell_type": "code",
   "execution_count": 109,
   "id": "9cdf4c2b",
   "metadata": {},
   "outputs": [],
   "source": [
    "from datetime import datetime, timedelta\n",
    "\n",
    "def get_switching_point(x, smoothing_rate ):\n",
    "    smooth = gaussian_filter1d(x, smoothing_rate)\n",
    "\n",
    "    smooth_d2 = np.gradient(np.gradient(smooth))\n",
    "\n",
    "    inflection_points = np.where(np.diff(np.sign(smooth_d2)))[0]\n",
    "    return int(inflection_points[0])\n",
    "    #return datetime(2020, 11, 10) + timedelta(days=int(inflection_points[0]))\n",
    "\n",
    "\n",
    "#def get_median_time(row):\n",
    "#    res = next(x for x, val in enumerate(row) if val >= 0.5) \n",
    "#    return res + 1\n",
    "\n",
    "def get_median_time(row):\n",
    "    #res = next(x for x, val in enumerate(row) if val >= 0.5) \n",
    "    i =0\n",
    "    for el in row:\n",
    "        if el >= 0.499:\n",
    "            return i+1\n",
    "            #return datetime(2020, 11, 10) + timedelta(days=i +1)\n",
    "        i=i+1"
   ]
  },
  {
   "cell_type": "code",
   "execution_count": 110,
   "id": "1b50b842",
   "metadata": {},
   "outputs": [
    {
     "data": {
      "text/html": [
       "<div>\n",
       "<style scoped>\n",
       "    .dataframe tbody tr th:only-of-type {\n",
       "        vertical-align: middle;\n",
       "    }\n",
       "\n",
       "    .dataframe tbody tr th {\n",
       "        vertical-align: top;\n",
       "    }\n",
       "\n",
       "    .dataframe thead th {\n",
       "        text-align: right;\n",
       "    }\n",
       "</style>\n",
       "<table border=\"1\" class=\"dataframe\">\n",
       "  <thead>\n",
       "    <tr style=\"text-align: right;\">\n",
       "      <th></th>\n",
       "      <th>USER_KEY</th>\n",
       "      <th>MEDIAN_TIME</th>\n",
       "      <th>CONVERSION_RATE_INCREASE</th>\n",
       "    </tr>\n",
       "  </thead>\n",
       "  <tbody>\n",
       "    <tr>\n",
       "      <th>0</th>\n",
       "      <td>626048262</td>\n",
       "      <td>709.0</td>\n",
       "      <td>654</td>\n",
       "    </tr>\n",
       "    <tr>\n",
       "      <th>1</th>\n",
       "      <td>3962518271</td>\n",
       "      <td>648.0</td>\n",
       "      <td>629</td>\n",
       "    </tr>\n",
       "    <tr>\n",
       "      <th>2</th>\n",
       "      <td>268477598</td>\n",
       "      <td>664.0</td>\n",
       "      <td>639</td>\n",
       "    </tr>\n",
       "    <tr>\n",
       "      <th>3</th>\n",
       "      <td>286021283</td>\n",
       "      <td>677.0</td>\n",
       "      <td>644</td>\n",
       "    </tr>\n",
       "    <tr>\n",
       "      <th>4</th>\n",
       "      <td>1942135278</td>\n",
       "      <td>690.0</td>\n",
       "      <td>649</td>\n",
       "    </tr>\n",
       "  </tbody>\n",
       "</table>\n",
       "</div>"
      ],
      "text/plain": [
       "     USER_KEY  MEDIAN_TIME  CONVERSION_RATE_INCREASE\n",
       "0   626048262        709.0                       654\n",
       "1  3962518271        648.0                       629\n",
       "2   268477598        664.0                       639\n",
       "3   286021283        677.0                       644\n",
       "4  1942135278        690.0                       649"
      ]
     },
     "execution_count": 110,
     "metadata": {},
     "output_type": "execute_result"
    }
   ],
   "source": [
    "ddf['MEDIAN_TIME'] = (1 - ddf_survival_curve).apply(get_median_time).values\n",
    "ddf['CONVERSION_RATE_INCREASE'] = (1 - ddf_survival_curve).apply(get_switching_point,  args=(110,)).values\n",
    "ddf[['USER_KEY', 'MEDIAN_TIME', 'CONVERSION_RATE_INCREASE']].head()"
   ]
  },
  {
   "cell_type": "code",
   "execution_count": 112,
   "id": "29556e83",
   "metadata": {},
   "outputs": [
    {
     "name": "stdout",
     "output_type": "stream",
     "text": [
      "Duration: 0:00:02.106846\n"
     ]
    },
    {
     "name": "stderr",
     "output_type": "stream",
     "text": [
      "/home/csouvigny/.conda/envs/pytorch/lib/python3.8/site-packages/pandas/io/sql.py:1663: UserWarning: The provided table name 'CS_AC_P2_PLAYERS_CONVERSION_ON_ACV_PREDICTIONS' is not found exactly as such in the database after writing the table, possibly due to case sensitivity issues. Consider using lower case table names.\n",
      "  warnings.warn(msg, UserWarning)\n"
     ]
    }
   ],
   "source": [
    "\n",
    "from sqlalchemy import create_engine\n",
    "from snowflake.sqlalchemy import URL\n",
    "from snowflake.connector import connect\n",
    "\n",
    "with open(\"/home/shared/csouvign/rsa_key.p8\", \"rb\") as key:\n",
    "    p_key= serialization.load_pem_private_key(\n",
    "        key.read(),\n",
    "        password='2B@XS5E&!5%UCab'.encode(),\n",
    "    )\n",
    "\n",
    "pkb = p_key.private_bytes(\n",
    "    encoding=serialization.Encoding.DER,\n",
    "    format=serialization.PrivateFormat.PKCS8,\n",
    "    encryption_algorithm=serialization.NoEncryption())\n",
    "\n",
    "engine = create_engine(URL(\n",
    "    user='camille.souvigny@ubisoft.com',\n",
    "    account='ubisoft.us-east-1',\n",
    "    warehouse='EMEA_ANALYTICS_COMMON',\n",
    "    database='SANDBOX',\n",
    "    schema='EMEA_ANALYTICS_CRM_PRIVATE',\n",
    "    role='SNK_F_EMEAANALYTICS_CRM_SB_DEV',\n",
    "    proxy_host='http://proxy.ubisoft.org',\n",
    "    proxy_port='3128'),\n",
    "    connect_args={\n",
    "    'private_key': pkb,\n",
    "    }\n",
    ")\n",
    "\n",
    "with engine.connect() as con:\n",
    "    start_time = datetime.now()\n",
    "    ddf[['USER_KEY', 'MEDIAN_TIME', 'CONVERSION_RATE_INCREASE']].to_sql( name = \"CS_AC_P2_PLAYERS_CONVERSION_ON_ACV_PREDICTIONS\", \n",
    "                                                         index = None,\n",
    "                                                         con = con, if_exists='append', chunksize =16000)\n",
    "    end_time = datetime.now()\n",
    "    print('Duration: {}'.format(end_time - start_time))"
   ]
  },
  {
   "cell_type": "code",
   "execution_count": null,
   "id": "40b89199",
   "metadata": {},
   "outputs": [],
   "source": []
  },
  {
   "cell_type": "code",
   "execution_count": null,
   "id": "dc60bd14",
   "metadata": {},
   "outputs": [],
   "source": []
  },
  {
   "cell_type": "code",
   "execution_count": null,
   "id": "5b0edcc0",
   "metadata": {},
   "outputs": [],
   "source": []
  },
  {
   "cell_type": "code",
   "execution_count": null,
   "id": "7a09506a",
   "metadata": {},
   "outputs": [],
   "source": []
  },
  {
   "cell_type": "code",
   "execution_count": null,
   "id": "49f62a0c",
   "metadata": {},
   "outputs": [],
   "source": []
  },
  {
   "cell_type": "markdown",
   "id": "4c9c0f19",
   "metadata": {},
   "source": [
    "## Linear Cox Time dependent\n",
    "start_col : moment when player arrive in study (ref is ACV launch)\n",
    "\n",
    "user_1 : 120 predictors at iteration 1\n",
    "predict(user_1) : median survival ite 1\n",
    "\n",
    "user_1 : 120 predictors at iteration 2  + 1 new pred : median survival ite 1\n",
    "predict(user_1) : median survival ite 2\n",
    "\n",
    "user_1 : 120 predictors at iteration 3 \n",
    "predict(user_1) : median survival ite 3\n",
    "\n",
    "\n",
    "OR (using lifelines CoxTimeVarying)\n",
    "\n",
    "at each run get : median survival ite i\n",
    "\n",
    "create dataset with :\n",
    "user_1 : latest 130 predictors + median survival ite 1\n",
    "user_1 : latest 130 predictors + median survival ite 2\n",
    "user_1 : latest 130 predictors + median survival ite 3\n",
    "\n",
    "OR (heaviest way)\n",
    "\n",
    "\n",
    "at each run get : median survival ite i\n",
    "\n",
    "create dataset with :\n",
    "user_1 : iteration 1 130 predictors + median survival ite 1\n",
    "user_1 : itération 2 130 predictors + median survival ite 2\n",
    "user_1 : iteration 3 130 predictors + median survival ite 3"
   ]
  },
  {
   "cell_type": "code",
   "execution_count": 10,
   "id": "3cb7cc73",
   "metadata": {},
   "outputs": [],
   "source": [
    "signif = ['CONVERSION_DAYS_ACV', 'CONVERTED_VALHALLA','P2_POST_LAUNCH_ARRIVAL', 'CONV_LAST_OWNED', \n",
    "          \"P2_LAST_OWNED_ASSASSIN'S CREED ODYSSEY\", 'NB_AC','PLAYED_ORIGINS', 'PLAYED_ODYSSEY',\n",
    "          'SENIORITY_AC', 'RECENCY_AC', 'LIFETIME_AC', 'RECENCY_LAST_OWNED',\n",
    "          'SENIORITY_LAST_OWNED', 'SENIORITY_P2', 'RECENCY_P2', \n",
    "          'NB_PD_P2', 'NB_PD_AC', 'NB_PD_AC_2021' , 'NB_PD_AC_2022',\n",
    "          'NB_PD_LAST_OWNED', 'PROP_ACOD_AC', 'PROP_LEAST_AC', 'PROP_MOST_AC', 'AVG_PD_P2' , \n",
    "          'SENIORITY_WHEN_CONV_TO_LAST_OWNED', 'AVG_P2_LIFETIME',\n",
    "          'MIN_P2_LIFETIME', 'MAX_P2_LIFETIME', 'MAX_LIFETIME_AC', 'MIN_LIFETIME_AC',\n",
    "          'MIN_P2_ACQ_DELAY', 'MAX_P2_ACQ_DELAY', 'AVG_P2_ACQ_DELAY',\n",
    "           'MIN_AC_ACQ_DELAY', 'MAX_AC_ACQ_DELAY','AVG_AC_ACQ_DELAY',\n",
    "          'NB_GAMES', 'NB_BRANDS', 'NB_GAMES_2022', 'SENIORITY', 'RECENCY',\n",
    "          'NB_PD', 'NB_GAMES_2022', 'NB_PD_2021', 'NB_PD_2022','PROP_SD_GAMES', 'PROP_LEAST_GAME',\n",
    "          'PROP_MOST_GAME', 'AVG_LIFETIME' , 'MAX_P2_SD_10D', 'MIN_P2_SD_RATIO_10D', 'AVG_P2_SD_10D',\n",
    "          'SD_LAST_OWNED_10D', 'PLAYTIME_LAST_OWNED_10D_RATIO', 'AVG_P2_SD_1M',\n",
    "          'MIN_AC_SD_1M',  'MIN_PLAYTIME_10D_RATIO', 'AC_P2_DLC',\n",
    "           'AVG_P2_SD_RATIO_1M', 'MIN_AC_SD_RATIO_1M','SUM_P2_PLAYTIME','MAX_P2_PLAYTIME_10D',\n",
    "          'AVG_AC_PLAYTIME','SUM_AC_PLAYTIME','SUM_AC_PLAYTIME_10D','MAX_PLAYTIME_10D_RATIO',\n",
    "          'NB_ACTIVATION_PASS','AC_P2_DLC','ESTIM_BG','ESTIM_NET_BG','PL_ACQUI','PL_NET_ACQUI' ,\n",
    "          \"P2_LAST_OWNED_ASSASSIN'S CREED ODYSSEY\"\n",
    "         ] "
   ]
  },
  {
   "cell_type": "code",
   "execution_count": 11,
   "id": "33b05206",
   "metadata": {},
   "outputs": [
    {
     "name": "stdout",
     "output_type": "stream",
     "text": [
      "Iteration 1: norm_delta = 3.55554, step_size = 0.95000, ll = -4124982.17426, newton_decrement = 664218.08208, seconds_since_start = 791.7\n",
      "Iteration 2: norm_delta = 1.20100, step_size = 0.95000, ll = -3594500.42384, newton_decrement = 83572.28263, seconds_since_start = 1582.6\n",
      "Iteration 3: norm_delta = 0.33552, step_size = 0.95000, ll = -3509855.33860, newton_decrement = 5994.82333, seconds_since_start = 2372.1\n",
      "Iteration 4: norm_delta = 0.10911, step_size = 1.00000, ll = -3502824.37166, newton_decrement = 1576.35425, seconds_since_start = 3161.6\n",
      "Iteration 5: norm_delta = 0.02353, step_size = 1.00000, ll = -3500905.23936, newton_decrement = 405.84530, seconds_since_start = 3953.3\n",
      "Iteration 6: norm_delta = 0.01662, step_size = 1.00000, ll = -3500404.67880, newton_decrement = 110.62567, seconds_since_start = 4743.0\n",
      "Iteration 7: norm_delta = 0.01700, step_size = 1.00000, ll = -3500270.85961, newton_decrement = 20.79714, seconds_since_start = 5533.9\n",
      "Iteration 8: norm_delta = 0.00529, step_size = 0.98000, ll = -3500247.30880, newton_decrement = 1.15376, seconds_since_start = 6328.1\n",
      "Iteration 9: norm_delta = 0.00042, step_size = 0.96040, ll = -3500246.11518, newton_decrement = 0.00683, seconds_since_start = 7135.5\n",
      "Iteration 10: norm_delta = 0.00002, step_size = 1.00000, ll = -3500246.10835, newton_decrement = 0.00001, seconds_since_start = 7928.7\n",
      "Iteration 11: norm_delta = 0.00000, step_size = 1.00000, ll = -3500246.10833, newton_decrement = 0.00000, seconds_since_start = 8714.1\n",
      "Convergence completed after 11 iterations.\n",
      "2:25:43.108841\n"
     ]
    }
   ],
   "source": [
    "start = datetime.now()\n",
    "cox_time = CoxTimeVaryingFitter(penalizer=0.01)\n",
    "cox_time.fit(df_train.drop(['USER_KEY','CLUSTER_2021','CLUSTER_2022'], axis=1)[signif],  event_col='CONVERTED_VALHALLA', start_col='P2_POST_LAUNCH_ARRIVAL', stop_col='CONVERSION_DAYS_ACV', show_progress=True )\n",
    "pickle.dump(cox_time, open( \"/home/shared/csouvign/cox_time_varying.pickle\", \"wb\" ) )\n",
    "print(datetime.now() - start)"
   ]
  },
  {
   "cell_type": "code",
   "execution_count": 4,
   "id": "f6f7f8e4",
   "metadata": {},
   "outputs": [],
   "source": [
    "cox_time = pickle.load( open( \"/home/shared/csouvign/cox_time_varying.pickle\", \"rb\" ) )"
   ]
  },
  {
   "cell_type": "code",
   "execution_count": 7,
   "id": "ae89061d",
   "metadata": {},
   "outputs": [
    {
     "data": {
      "text/plain": [
       "[<matplotlib.lines.Line2D at 0x7fc9048b2e20>]"
      ]
     },
     "execution_count": 7,
     "metadata": {},
     "output_type": "execute_result"
    },
    {
     "data": {
      "image/png": "[encoded data removed]",
      "text/plain": [
       "<Figure size 432x288 with 1 Axes>"
      ]
     },
     "metadata": {
      "needs_background": "light"
     },
     "output_type": "display_data"
    }
   ],
   "source": [
    "plt.plot(cox_time.baseline_cumulative_hazard_ , label='cox_time')"
   ]
  },
  {
   "cell_type": "code",
   "execution_count": null,
   "id": "36ded124",
   "metadata": {},
   "outputs": [],
   "source": [
    "tmp = pd.DataFrame(np.column_stack((ACtest.CONVERSION_DAYS_ACV, cox_time.predict_partial_hazard(ACtest))), columns =['CONVERSION_DAYS_ACV', 'partial_hazard'] )\n",
    "plt.plot(tmp.groupby('CONVERSION_DAYS_ACV')['partial_hazard'].mean())"
   ]
  },
  {
   "cell_type": "code",
   "execution_count": 14,
   "id": "853d20b6",
   "metadata": {},
   "outputs": [
    {
     "data": {
      "image/png": "[encoded data removed]",
      "text/plain": [
       "<Figure size 432x288 with 1 Axes>"
      ]
     },
     "metadata": {
      "needs_background": "light"
     },
     "output_type": "display_data"
    }
   ],
   "source": [
    "bas_cum_haz = cox_time.baseline_cumulative_hazard_\n",
    "f = interpolate.interp1d(bas_cum_haz.index, bas_cum_haz['baseline hazard'], fill_value='extrapolate')\n",
    "\n",
    "xnew = np.arange(1, 801, 1)\n",
    "ynew = f(xnew)  \n",
    "plt.plot(bas_cum_haz)\n",
    "plt.plot(xnew, ynew)\n",
    "plt.show()\n",
    "base_cum_haz = pd.DataFrame(ynew, index=np.arange(1, 801, 1))\n",
    "\n",
    "july_2022_survival = pd.DataFrame(np.exp(- np.dot(base_cum_haz , pd.DataFrame(cox_time.predict_partial_hazard(test_last_month[signif])).T)))"
   ]
  },
  {
   "cell_type": "code",
   "execution_count": 15,
   "id": "c2356a32",
   "metadata": {},
   "outputs": [
    {
     "data": {
      "text/plain": [
       "0.8354002558525266"
      ]
     },
     "execution_count": 15,
     "metadata": {},
     "output_type": "execute_result"
    }
   ],
   "source": [
    "july_2022_survival.loc[700].mean()"
   ]
  },
  {
   "cell_type": "markdown",
   "id": "b82e5230",
   "metadata": {},
   "source": [
    "## Annexes : Output Analysis"
   ]
  },
  {
   "cell_type": "code",
   "execution_count": 146,
   "id": "bba190c6",
   "metadata": {},
   "outputs": [
    {
     "data": {
      "image/png": "[encoded data removed]",
      "text/plain": [
       "<Figure size 432x288 with 1 Axes>"
      ]
     },
     "metadata": {
      "needs_background": "light"
     },
     "output_type": "display_data"
    },
    {
     "data": {
      "image/png": "[encoded data removed]",
      "text/plain": [
       "<Figure size 432x288 with 1 Axes>"
      ]
     },
     "metadata": {
      "needs_background": "light"
     },
     "output_type": "display_data"
    },
    {
     "data": {
      "image/png": "[encoded data removed]",
      "text/plain": [
       "<Figure size 432x288 with 1 Axes>"
      ]
     },
     "metadata": {
      "needs_background": "light"
     },
     "output_type": "display_data"
    },
    {
     "data": {
      "image/png": "[encoded data removed]",
      "text/plain": [
       "<Figure size 432x288 with 1 Axes>"
      ]
     },
     "metadata": {
      "needs_background": "light"
     },
     "output_type": "display_data"
    },
    {
     "data": {
      "image/png": "[encoded data removed]",
      "text/plain": [
       "<Figure size 432x288 with 1 Axes>"
      ]
     },
     "metadata": {
      "needs_background": "light"
     },
     "output_type": "display_data"
    }
   ],
   "source": [
    "avg_prob_by_tend=pred_CoxNN.groupby('CONVERSION_DAYS_ACV')['pb_conv'].mean()\n",
    "avg_prob_by_seniority_ac=pred_CoxNN[pred_CoxNN.CONVERTED_VALHALLA==1].groupby('SENIORITY_LAST_OWNED')['pb_conv'].mean()\n",
    "avg_prob_by_seniority_at_launch=pred_CoxNN[pred_CoxNN.CONVERTED_VALHALLA==1].groupby(pred_CoxNN.CONVERSION_DAYS_ACV - pred_CoxNN.SENIORITY_LAST_OWNED)['pb_conv'].mean()\n",
    "\n",
    "avg_prob_by_tendM1 = pred_CoxNN[pred_CoxNN.CONVERSION_DAYS_ACV>30].groupby('CONVERSION_DAYS_ACV')['pb_conv_moins1M'].mean()\n",
    "avg_prob_by_seniority_acM1 = pred_CoxNN[pred_CoxNN.CONVERTED_VALHALLA==1][pred_CoxNN.CONVERSION_DAYS_ACV>30].groupby('SENIORITY_LAST_OWNED')['pb_conv_moins1M'].mean()\n",
    "avg_prob_by_seniority_at_launchM1 = pred_CoxNN[pred_CoxNN.CONVERTED_VALHALLA==1][pred_CoxNN.CONVERSION_DAYS_ACV>30].groupby(pred_CoxNN.CONVERSION_DAYS_ACV - pred_CoxNN.SENIORITY_LAST_OWNED)['pb_conv_moins1M'].mean()\n",
    "\n",
    "avg_prob_by_tendP10 = pred_CoxNN[pred_CoxNN.CONVERSION_DAYS_ACV<591].groupby('CONVERSION_DAYS_ACV')['pb_conv_plus10D'].mean()\n",
    "avg_prob_by_seniority_acP10 = pred_CoxNN[pred_CoxNN.CONVERTED_VALHALLA==1][pred_CoxNN.CONVERSION_DAYS_ACV<591].groupby('SENIORITY_LAST_OWNED')['pb_conv_plus10D'].mean()\n",
    "avg_prob_by_seniority_at_launchP10 = pred_CoxNN[pred_CoxNN.CONVERTED_VALHALLA==1][pred_CoxNN.CONVERSION_DAYS_ACV<591].groupby(pred_CoxNN.CONVERSION_DAYS_ACV - pred_CoxNN.SENIORITY_LAST_OWNED)['pb_conv_plus10D'].mean()\n",
    "\n",
    "avg_prob_by_tendP1M = pred_CoxNN[pred_CoxNN.CONVERSION_DAYS_ACV<571].groupby('CONVERSION_DAYS_ACV')['pb_conv_plus1M'].mean()\n",
    "avg_prob_by_seniority_acP1M = pred_CoxNN[pred_CoxNN.CONVERTED_VALHALLA==1][pred_CoxNN.CONVERSION_DAYS_ACV<571].groupby('SENIORITY_LAST_OWNED')['pb_conv_plus1M'].mean()\n",
    "avg_prob_by_seniority_at_launchP1M = pred_CoxNN[pred_CoxNN.CONVERTED_VALHALLA==1][pred_CoxNN.CONVERSION_DAYS_ACV<571].groupby(pred_CoxNN.CONVERSION_DAYS_ACV - pred_CoxNN.SENIORITY_LAST_OWNED)['pb_conv_plus1M'].mean()\n",
    "\n",
    "plt.plot(1- avg_prob_by_tend , label='pred accuracy by time of conversion')\n",
    "plt.legend(loc=\"lower left\") \n",
    "plt.show()\n",
    "\n",
    "plt.plot(1- avg_prob_by_tendM1 , label='pred accuracy 1 month before the time of conversion')\n",
    "plt.legend(loc=\"upper left\")  \n",
    "plt.show()\n",
    "\n",
    "plt.plot(1- avg_prob_by_tendP10 , label='pred accuracy 10 days after the time of conversion')\n",
    "plt.legend(loc=\"lower left\")  \n",
    "plt.show()\n",
    "\n",
    "plt.plot(1- avg_prob_by_seniority_ac , label='pred accuracy by seniority in ACO/ACD')\n",
    "plt.legend(loc=\"upper left\")  \n",
    "\n",
    "plt.plot(1- avg_prob_by_seniority_acP1M , label='pred accuracy 1 month after the time of conversion by seniority in ACO/ACD')\n",
    "plt.legend(loc=\"lower left\")  \n",
    "plt.show()\n",
    "\n",
    "plt.plot(1- avg_prob_by_seniority_at_launch , label='pred accuracy by seniority at launch')\n",
    "plt.legend(loc=\"lower left\")  \n",
    "plt.show()\n"
   ]
  },
  {
   "cell_type": "code",
   "execution_count": 122,
   "id": "c0a97c3f",
   "metadata": {},
   "outputs": [
    {
     "name": "stdout",
     "output_type": "stream",
     "text": [
      "0.08616125163368338\n"
     ]
    },
    {
     "data": {
      "text/plain": [
       "[<matplotlib.lines.Line2D at 0x7ff67acdf760>]"
      ]
     },
     "execution_count": 122,
     "metadata": {},
     "output_type": "execute_result"
    },
    {
     "data": {
      "image/png": "[encoded data removed]",
      "text/plain": [
       "<Figure size 432x288 with 1 Axes>"
      ]
     },
     "metadata": {
      "needs_background": "light"
     },
     "output_type": "display_data"
    }
   ],
   "source": [
    "# low predictions on players who acquired last P2 AC early (avg 3 months of launch) and converted on back catalogue ACV (predict conversion later than should be)\n",
    "print(1-pred_CoxNN[(pred_CoxNN.CONVERTED_VALHALLA==1) & (pred_CoxNN.SENIORITY_LAST_OWNED > 1500)].iloc[1].pb_conv)\n",
    "plt.plot(1-pred_CoxNN[pred_CoxNN.columns[124:723]][(pred_CoxNN.CONVERTED_VALHALLA==1) & (pred_CoxNN.SENIORITY_LAST_OWNED > 1500)].iloc[1])"
   ]
  },
  {
   "cell_type": "code",
   "execution_count": 142,
   "id": "ceccc800",
   "metadata": {},
   "outputs": [
    {
     "data": {
      "text/plain": [
       "[<matplotlib.lines.Line2D at 0x7ff671d49d60>]"
      ]
     },
     "execution_count": 142,
     "metadata": {},
     "output_type": "execute_result"
    },
    {
     "data": {
      "image/png": "[encoded data removed]",
      "text/plain": [
       "<Figure size 432x288 with 1 Axes>"
      ]
     },
     "metadata": {
      "needs_background": "light"
     },
     "output_type": "display_data"
    }
   ],
   "source": [
    "plt.plot(pred_CoxNN[(pred_CoxNN.CONVERTED_VALHALLA==1) & (pred_CoxNN.pb_conv>0.99)].groupby('CONV_LAST_OWNED')['pb_conv_moins1M'].mean())"
   ]
  },
  {
   "cell_type": "code",
   "execution_count": 74,
   "id": "581a6cca",
   "metadata": {},
   "outputs": [
    {
     "data": {
      "image/png": "[encoded data removed]",
      "text/plain": [
       "<Figure size 432x288 with 1 Axes>"
      ]
     },
     "metadata": {
      "needs_background": "light"
     },
     "output_type": "display_data"
    }
   ],
   "source": [
    "avg_prob_by_nb_ac=pred_CoxNN[pred_CoxNN.CONVERTED_VALHALLA==1].groupby('NB_AC')['pb_conv'].mean()\n",
    "plt.plot((1-avg_prob_by_nb_ac), label='pred accuracy by nb of ACs')\n",
    "plt.legend(loc=\"lower left\")  \n",
    "plt.show()"
   ]
  },
  {
   "cell_type": "code",
   "execution_count": 73,
   "id": "f96d269a",
   "metadata": {},
   "outputs": [
    {
     "data": {
      "text/html": [
       "<div>\n",
       "<style scoped>\n",
       "    .dataframe tbody tr th:only-of-type {\n",
       "        vertical-align: middle;\n",
       "    }\n",
       "\n",
       "    .dataframe tbody tr th {\n",
       "        vertical-align: top;\n",
       "    }\n",
       "\n",
       "    .dataframe thead th {\n",
       "        text-align: right;\n",
       "    }\n",
       "</style>\n",
       "<table border=\"1\" class=\"dataframe\">\n",
       "  <thead>\n",
       "    <tr style=\"text-align: right;\">\n",
       "      <th></th>\n",
       "      <th>USER_KEY</th>\n",
       "      <th>CONV_LAST_OWNED</th>\n",
       "      <th>CONVERTED_VALHALLA</th>\n",
       "      <th>CONVERSION_DAYS_ACV</th>\n",
       "      <th>P2_POST_LAUNCH_ARRIVAL</th>\n",
       "      <th>NB_AC</th>\n",
       "      <th>PLAYED_ORIGINS</th>\n",
       "      <th>PLAYED_ODYSSEY</th>\n",
       "      <th>SENIORITY_AC</th>\n",
       "      <th>RECENCY_AC</th>\n",
       "      <th>...</th>\n",
       "      <th>594</th>\n",
       "      <th>595</th>\n",
       "      <th>596</th>\n",
       "      <th>597</th>\n",
       "      <th>598</th>\n",
       "      <th>599</th>\n",
       "      <th>pb_conv</th>\n",
       "      <th>pb_conv_moins1M</th>\n",
       "      <th>pb_conv_plus1M</th>\n",
       "      <th>pb_conv_plus10D</th>\n",
       "    </tr>\n",
       "  </thead>\n",
       "  <tbody>\n",
       "    <tr>\n",
       "      <th>0</th>\n",
       "      <td>1980360553</td>\n",
       "      <td>86</td>\n",
       "      <td>1</td>\n",
       "      <td>360</td>\n",
       "      <td>0</td>\n",
       "      <td>1.0</td>\n",
       "      <td>0.0</td>\n",
       "      <td>1.0</td>\n",
       "      <td>1041.0</td>\n",
       "      <td>1014.0</td>\n",
       "      <td>...</td>\n",
       "      <td>0.000000</td>\n",
       "      <td>0.000000</td>\n",
       "      <td>0.000000</td>\n",
       "      <td>0.000000</td>\n",
       "      <td>0.000000</td>\n",
       "      <td>0.000000</td>\n",
       "      <td>0.940414</td>\n",
       "      <td>0.999090</td>\n",
       "      <td>1.434279e-04</td>\n",
       "      <td>0.582690</td>\n",
       "    </tr>\n",
       "    <tr>\n",
       "      <th>1</th>\n",
       "      <td>911610401</td>\n",
       "      <td>559</td>\n",
       "      <td>1</td>\n",
       "      <td>2</td>\n",
       "      <td>0</td>\n",
       "      <td>3.0</td>\n",
       "      <td>1.0</td>\n",
       "      <td>1.0</td>\n",
       "      <td>1112.0</td>\n",
       "      <td>24.0</td>\n",
       "      <td>...</td>\n",
       "      <td>0.000000</td>\n",
       "      <td>0.000000</td>\n",
       "      <td>0.000000</td>\n",
       "      <td>0.000000</td>\n",
       "      <td>0.000000</td>\n",
       "      <td>0.000000</td>\n",
       "      <td>0.243647</td>\n",
       "      <td>NaN</td>\n",
       "      <td>2.579074e-11</td>\n",
       "      <td>0.001033</td>\n",
       "    </tr>\n",
       "    <tr>\n",
       "      <th>2</th>\n",
       "      <td>3353871457</td>\n",
       "      <td>669</td>\n",
       "      <td>1</td>\n",
       "      <td>1</td>\n",
       "      <td>0</td>\n",
       "      <td>2.0</td>\n",
       "      <td>0.0</td>\n",
       "      <td>1.0</td>\n",
       "      <td>1674.0</td>\n",
       "      <td>99.0</td>\n",
       "      <td>...</td>\n",
       "      <td>0.000000</td>\n",
       "      <td>0.000000</td>\n",
       "      <td>0.000000</td>\n",
       "      <td>0.000000</td>\n",
       "      <td>0.000000</td>\n",
       "      <td>0.000000</td>\n",
       "      <td>0.716774</td>\n",
       "      <td>NaN</td>\n",
       "      <td>1.161785e-04</td>\n",
       "      <td>0.090635</td>\n",
       "    </tr>\n",
       "    <tr>\n",
       "      <th>3</th>\n",
       "      <td>3135397823</td>\n",
       "      <td>646</td>\n",
       "      <td>0</td>\n",
       "      <td>599</td>\n",
       "      <td>0</td>\n",
       "      <td>1.0</td>\n",
       "      <td>0.0</td>\n",
       "      <td>1.0</td>\n",
       "      <td>720.0</td>\n",
       "      <td>208.0</td>\n",
       "      <td>...</td>\n",
       "      <td>0.993003</td>\n",
       "      <td>0.992252</td>\n",
       "      <td>0.991596</td>\n",
       "      <td>0.990926</td>\n",
       "      <td>0.990268</td>\n",
       "      <td>0.989535</td>\n",
       "      <td>0.989535</td>\n",
       "      <td>0.999661</td>\n",
       "      <td>NaN</td>\n",
       "      <td>NaN</td>\n",
       "    </tr>\n",
       "    <tr>\n",
       "      <th>4</th>\n",
       "      <td>279648146</td>\n",
       "      <td>702</td>\n",
       "      <td>1</td>\n",
       "      <td>242</td>\n",
       "      <td>0</td>\n",
       "      <td>6.0</td>\n",
       "      <td>0.0</td>\n",
       "      <td>1.0</td>\n",
       "      <td>3761.0</td>\n",
       "      <td>193.0</td>\n",
       "      <td>...</td>\n",
       "      <td>0.000000</td>\n",
       "      <td>0.000000</td>\n",
       "      <td>0.000000</td>\n",
       "      <td>0.000000</td>\n",
       "      <td>0.000000</td>\n",
       "      <td>0.000000</td>\n",
       "      <td>0.701965</td>\n",
       "      <td>0.999642</td>\n",
       "      <td>1.471254e-04</td>\n",
       "      <td>0.205466</td>\n",
       "    </tr>\n",
       "    <tr>\n",
       "      <th>...</th>\n",
       "      <td>...</td>\n",
       "      <td>...</td>\n",
       "      <td>...</td>\n",
       "      <td>...</td>\n",
       "      <td>...</td>\n",
       "      <td>...</td>\n",
       "      <td>...</td>\n",
       "      <td>...</td>\n",
       "      <td>...</td>\n",
       "      <td>...</td>\n",
       "      <td>...</td>\n",
       "      <td>...</td>\n",
       "      <td>...</td>\n",
       "      <td>...</td>\n",
       "      <td>...</td>\n",
       "      <td>...</td>\n",
       "      <td>...</td>\n",
       "      <td>...</td>\n",
       "      <td>...</td>\n",
       "      <td>...</td>\n",
       "      <td>...</td>\n",
       "    </tr>\n",
       "    <tr>\n",
       "      <th>110713</th>\n",
       "      <td>3878418263</td>\n",
       "      <td>1003</td>\n",
       "      <td>0</td>\n",
       "      <td>599</td>\n",
       "      <td>237</td>\n",
       "      <td>2.0</td>\n",
       "      <td>0.0</td>\n",
       "      <td>1.0</td>\n",
       "      <td>371.0</td>\n",
       "      <td>315.0</td>\n",
       "      <td>...</td>\n",
       "      <td>0.995330</td>\n",
       "      <td>0.994671</td>\n",
       "      <td>0.994032</td>\n",
       "      <td>0.993312</td>\n",
       "      <td>0.992560</td>\n",
       "      <td>0.991678</td>\n",
       "      <td>0.991678</td>\n",
       "      <td>0.999527</td>\n",
       "      <td>NaN</td>\n",
       "      <td>NaN</td>\n",
       "    </tr>\n",
       "    <tr>\n",
       "      <th>110714</th>\n",
       "      <td>205248706</td>\n",
       "      <td>0</td>\n",
       "      <td>0</td>\n",
       "      <td>599</td>\n",
       "      <td>0</td>\n",
       "      <td>2.0</td>\n",
       "      <td>1.0</td>\n",
       "      <td>0.0</td>\n",
       "      <td>3056.0</td>\n",
       "      <td>1553.0</td>\n",
       "      <td>...</td>\n",
       "      <td>0.997764</td>\n",
       "      <td>0.997575</td>\n",
       "      <td>0.997410</td>\n",
       "      <td>0.997242</td>\n",
       "      <td>0.997076</td>\n",
       "      <td>0.996891</td>\n",
       "      <td>0.996891</td>\n",
       "      <td>0.999638</td>\n",
       "      <td>NaN</td>\n",
       "      <td>NaN</td>\n",
       "    </tr>\n",
       "    <tr>\n",
       "      <th>110715</th>\n",
       "      <td>291320619</td>\n",
       "      <td>15</td>\n",
       "      <td>1</td>\n",
       "      <td>107</td>\n",
       "      <td>0</td>\n",
       "      <td>8.0</td>\n",
       "      <td>1.0</td>\n",
       "      <td>1.0</td>\n",
       "      <td>2129.0</td>\n",
       "      <td>121.0</td>\n",
       "      <td>...</td>\n",
       "      <td>0.000000</td>\n",
       "      <td>0.000000</td>\n",
       "      <td>0.000000</td>\n",
       "      <td>0.000000</td>\n",
       "      <td>0.000000</td>\n",
       "      <td>0.000000</td>\n",
       "      <td>0.144422</td>\n",
       "      <td>0.986840</td>\n",
       "      <td>4.424528e-08</td>\n",
       "      <td>0.014100</td>\n",
       "    </tr>\n",
       "    <tr>\n",
       "      <th>110716</th>\n",
       "      <td>3247193273</td>\n",
       "      <td>740</td>\n",
       "      <td>0</td>\n",
       "      <td>599</td>\n",
       "      <td>0</td>\n",
       "      <td>1.0</td>\n",
       "      <td>0.0</td>\n",
       "      <td>1.0</td>\n",
       "      <td>626.0</td>\n",
       "      <td>95.0</td>\n",
       "      <td>...</td>\n",
       "      <td>0.996109</td>\n",
       "      <td>0.995570</td>\n",
       "      <td>0.995041</td>\n",
       "      <td>0.994427</td>\n",
       "      <td>0.993739</td>\n",
       "      <td>0.992881</td>\n",
       "      <td>0.992881</td>\n",
       "      <td>0.999537</td>\n",
       "      <td>NaN</td>\n",
       "      <td>NaN</td>\n",
       "    </tr>\n",
       "    <tr>\n",
       "      <th>110717</th>\n",
       "      <td>297932950</td>\n",
       "      <td>738</td>\n",
       "      <td>1</td>\n",
       "      <td>46</td>\n",
       "      <td>0</td>\n",
       "      <td>6.0</td>\n",
       "      <td>1.0</td>\n",
       "      <td>1.0</td>\n",
       "      <td>1827.0</td>\n",
       "      <td>40.0</td>\n",
       "      <td>...</td>\n",
       "      <td>0.000000</td>\n",
       "      <td>0.000000</td>\n",
       "      <td>0.000000</td>\n",
       "      <td>0.000000</td>\n",
       "      <td>0.000000</td>\n",
       "      <td>0.000000</td>\n",
       "      <td>0.144975</td>\n",
       "      <td>0.996943</td>\n",
       "      <td>1.853997e-15</td>\n",
       "      <td>0.000253</td>\n",
       "    </tr>\n",
       "  </tbody>\n",
       "</table>\n",
       "<p>110718 rows × 727 columns</p>\n",
       "</div>"
      ],
      "text/plain": [
       "          USER_KEY  CONV_LAST_OWNED  CONVERTED_VALHALLA  CONVERSION_DAYS_ACV  \\\n",
       "0       1980360553               86                   1                  360   \n",
       "1        911610401              559                   1                    2   \n",
       "2       3353871457              669                   1                    1   \n",
       "3       3135397823              646                   0                  599   \n",
       "4        279648146              702                   1                  242   \n",
       "...            ...              ...                 ...                  ...   \n",
       "110713  3878418263             1003                   0                  599   \n",
       "110714   205248706                0                   0                  599   \n",
       "110715   291320619               15                   1                  107   \n",
       "110716  3247193273              740                   0                  599   \n",
       "110717   297932950              738                   1                   46   \n",
       "\n",
       "        P2_POST_LAUNCH_ARRIVAL  NB_AC  PLAYED_ORIGINS  PLAYED_ODYSSEY  \\\n",
       "0                            0    1.0             0.0             1.0   \n",
       "1                            0    3.0             1.0             1.0   \n",
       "2                            0    2.0             0.0             1.0   \n",
       "3                            0    1.0             0.0             1.0   \n",
       "4                            0    6.0             0.0             1.0   \n",
       "...                        ...    ...             ...             ...   \n",
       "110713                     237    2.0             0.0             1.0   \n",
       "110714                       0    2.0             1.0             0.0   \n",
       "110715                       0    8.0             1.0             1.0   \n",
       "110716                       0    1.0             0.0             1.0   \n",
       "110717                       0    6.0             1.0             1.0   \n",
       "\n",
       "        SENIORITY_AC  RECENCY_AC  ...       594       595       596       597  \\\n",
       "0             1041.0      1014.0  ...  0.000000  0.000000  0.000000  0.000000   \n",
       "1             1112.0        24.0  ...  0.000000  0.000000  0.000000  0.000000   \n",
       "2             1674.0        99.0  ...  0.000000  0.000000  0.000000  0.000000   \n",
       "3              720.0       208.0  ...  0.993003  0.992252  0.991596  0.990926   \n",
       "4             3761.0       193.0  ...  0.000000  0.000000  0.000000  0.000000   \n",
       "...              ...         ...  ...       ...       ...       ...       ...   \n",
       "110713         371.0       315.0  ...  0.995330  0.994671  0.994032  0.993312   \n",
       "110714        3056.0      1553.0  ...  0.997764  0.997575  0.997410  0.997242   \n",
       "110715        2129.0       121.0  ...  0.000000  0.000000  0.000000  0.000000   \n",
       "110716         626.0        95.0  ...  0.996109  0.995570  0.995041  0.994427   \n",
       "110717        1827.0        40.0  ...  0.000000  0.000000  0.000000  0.000000   \n",
       "\n",
       "             598       599   pb_conv  pb_conv_moins1M  pb_conv_plus1M  \\\n",
       "0       0.000000  0.000000  0.940414         0.999090    1.434279e-04   \n",
       "1       0.000000  0.000000  0.243647              NaN    2.579074e-11   \n",
       "2       0.000000  0.000000  0.716774              NaN    1.161785e-04   \n",
       "3       0.990268  0.989535  0.989535         0.999661             NaN   \n",
       "4       0.000000  0.000000  0.701965         0.999642    1.471254e-04   \n",
       "...          ...       ...       ...              ...             ...   \n",
       "110713  0.992560  0.991678  0.991678         0.999527             NaN   \n",
       "110714  0.997076  0.996891  0.996891         0.999638             NaN   \n",
       "110715  0.000000  0.000000  0.144422         0.986840    4.424528e-08   \n",
       "110716  0.993739  0.992881  0.992881         0.999537             NaN   \n",
       "110717  0.000000  0.000000  0.144975         0.996943    1.853997e-15   \n",
       "\n",
       "        pb_conv_plus10D  \n",
       "0              0.582690  \n",
       "1              0.001033  \n",
       "2              0.090635  \n",
       "3                   NaN  \n",
       "4              0.205466  \n",
       "...                 ...  \n",
       "110713              NaN  \n",
       "110714              NaN  \n",
       "110715         0.014100  \n",
       "110716              NaN  \n",
       "110717         0.000253  \n",
       "\n",
       "[110718 rows x 727 columns]"
      ]
     },
     "execution_count": 73,
     "metadata": {},
     "output_type": "execute_result"
    }
   ],
   "source": [
    "pred_CoxNN"
   ]
  },
  {
   "cell_type": "markdown",
   "id": "f8ec0678",
   "metadata": {},
   "source": [
    "### Impact metrics on predictions\n",
    "- Lowerpredictions on players  "
   ]
  },
  {
   "cell_type": "code",
   "execution_count": 143,
   "id": "bffb1c3c",
   "metadata": {},
   "outputs": [
    {
     "data": {
      "text/plain": [
       "16.666666666666664"
      ]
     },
     "execution_count": 143,
     "metadata": {},
     "output_type": "execute_result"
    }
   ],
   "source": [
    "1/6 *100"
   ]
  },
  {
   "cell_type": "code",
   "execution_count": null,
   "id": "6a24214e",
   "metadata": {},
   "outputs": [],
   "source": []
  }
 ],
 "metadata": {
  "kernelspec": {
   "display_name": "Python 3",
   "language": "python",
   "name": "python3"
  },
  "language_info": {
   "codemirror_mode": {
    "name": "ipython",
    "version": 3
   },
   "file_extension": ".py",
   "mimetype": "text/x-python",
   "name": "python",
   "nbconvert_exporter": "python",
   "pygments_lexer": "ipython3",
   "version": "3.8.5"
  }
 },
 "nbformat": 4,
 "nbformat_minor": 5
}
