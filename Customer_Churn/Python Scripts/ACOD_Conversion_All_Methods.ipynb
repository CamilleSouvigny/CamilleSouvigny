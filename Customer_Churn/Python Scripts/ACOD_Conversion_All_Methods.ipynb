{
 "cells": [
  {
   "cell_type": "markdown",
   "id": "60d7affb",
   "metadata": {},
   "source": [
    "# Quick Implementation of multiple ML/DL Survival analysis methods with PySurvival"
   ]
  },
  {
   "cell_type": "code",
   "execution_count": 1,
   "id": "55d4c823",
   "metadata": {},
   "outputs": [
    {
     "name": "stderr",
     "output_type": "stream",
     "text": [
      "/home/csouvigny/.conda/envs/pytorch/lib/python3.8/site-packages/tqdm/auto.py:22: TqdmWarning: IProgress not found. Please update jupyter and ipywidgets. See https://ipywidgets.readthedocs.io/en/stable/user_install.html\n",
      "  from .autonotebook import tqdm as notebook_tqdm\n"
     ]
    }
   ],
   "source": [
    "%matplotlib inline\n",
    "import matplotlib.pyplot as plt\n",
    "#import seaborn as sns\n",
    "\n",
    "from sklearn.model_selection import ShuffleSplit, GridSearchCV\n",
    "\n",
    "import warnings\n",
    "warnings.filterwarnings(\"ignore\", category=FutureWarning)\n",
    "\n",
    "import pandas as pd \n",
    "import numpy as np\n",
    "import snowflake.connector\n",
    "from cryptography.hazmat.backends import default_backend\n",
    "from cryptography.hazmat.primitives import serialization\n",
    "\n",
    "#pip install snowflake-connector-python --user\n",
    "\n",
    "from pycox.utils import kaplan_meier\n",
    "from sklearn.preprocessing import StandardScaler, OneHotEncoder\n",
    "from sklearn_pandas import DataFrameMapper\n",
    "import torch\n",
    "import torchtuples as tt\n",
    "from pycox.datasets import metabric\n",
    "from pycox.models import CoxTime\n",
    "from pycox.models.cox_time import MLPVanillaCoxTime\n",
    "from pycox.evaluation import EvalSurv\n",
    "from pycox.preprocessing.feature_transforms import OrderedCategoricalLong\n",
    "from pycox.models import CoxPH, LogisticHazard"
   ]
  },
  {
   "cell_type": "code",
   "execution_count": 2,
   "id": "ef88035b",
   "metadata": {},
   "outputs": [],
   "source": [
    "def get_data(query):\n",
    "    with open(\"/home/shared/csouvign/rsa_key.p8\", \"rb\") as key:\n",
    "        p_key= serialization.load_pem_private_key(\n",
    "            key.read(),\n",
    "            password='2B@XS5E&!5%UCab'.encode(),\n",
    "        )\n",
    "\n",
    "    pkb = p_key.private_bytes(\n",
    "        encoding=serialization.Encoding.DER,\n",
    "        format=serialization.PrivateFormat.PKCS8,\n",
    "        encryption_algorithm=serialization.NoEncryption())\n",
    "\n",
    "    ctx = snowflake.connector.connect(\n",
    "        user='camille.souvigny@ubisoft.com',\n",
    "        account='ubisoft.us-east-1',\n",
    "        private_key=pkb,\n",
    "        warehouse='EMEA_ANALYTICS_COMMON',\n",
    "        database='SANDBOX',\n",
    "        schema='EMEA_ANALYTICS_CRM_PRIVATE',\n",
    "        role='SNK_F_EMEAANALYTICS_CRM_SB_DEV',\n",
    "        proxy_host='http://proxy.ubisoft.org',\n",
    "        proxy_port='3128'\n",
    "        )\n",
    "\n",
    "    try:\n",
    "        cur = ctx.cursor().execute(query)\n",
    "        df = cur.fetch_pandas_all()\n",
    "    except:\n",
    "        df = pd.DataFrame.from_records(iter(cur), columns=[x[0] for x in cur.description])\n",
    "    finally:\n",
    "        cur.close()\n",
    "        print(\"successfull closed connection\")\n",
    "    ctx.close()\n",
    "    \n",
    "    return df\n",
    "\n",
    "\n",
    "def data_cleaning(df):\n",
    "    \n",
    "    df[list(df.drop(['USER_KEY','CLUSTER_2021','CLUSTER_2022','P2_LAST_OWNED'], axis=1).select_dtypes(include = ['object']).columns)] = df[list(df.drop(['USER_KEY','CLUSTER_2021','CLUSTER_2022','P2_LAST_OWNED'], axis=1).select_dtypes(include=['object']).columns)].astype(float)\n",
    "    df.SENIORITY_WHEN_CONV_TO_LAST_OWNED[df.SENIORITY_WHEN_CONV_TO_LAST_OWNED.isna()] = df.SENIORITY_LAST_OWNED[df.SENIORITY_WHEN_CONV_TO_LAST_OWNED.isna()]\n",
    "\n",
    "    mean_playtime_one_pd = df[df.LAST_OWNED_PLAYTIME>=0][df.NB_PD_LAST_OWNED==1].LAST_OWNED_PLAYTIME.mean()\n",
    "    df.loc[df[df.LAST_OWNED_PLAYTIME.isna()].index,'LAST_OWNED_PLAYTIME'] = mean_playtime_one_pd\n",
    "\n",
    "    fill_zero={  \n",
    "            'LAST_OWNED_PLAYTIME_10D'        : 0\n",
    "           , 'PLAYTIME_LAST_OWNED_10D_RATIO' : 0\n",
    "           , 'MIN_P2_PLAYTIME_10D'           : 0\n",
    "           , 'MAX_P2_PLAYTIME_10D'           : 0\n",
    "           , 'AVG_P2_PLAYTIME_10D'           : 0\n",
    "           , 'SUM_P2_PLAYTIME_10D'           : 0\n",
    "           , 'MIN_AC_PLAYTIME_10D'           : 0\n",
    "           , 'MAX_AC_PLAYTIME_10D'           : 0\n",
    "           , 'AVG_AC_PLAYTIME_10D'           : 0\n",
    "           , 'SUM_AC_PLAYTIME_10D'           : 0\n",
    "           , 'MIN_PLAYTIME_10D_RATIO'        : 0 \n",
    "           , 'AVG_PLAYTIME_10D_RATIO'        : 0\n",
    "           , 'MAX_PLAYTIME_10D_RATIO'        : 0 \n",
    "           , 'MIN_P2_PLAYTIME'               : 0                   \n",
    "           , 'MAX_P2_PLAYTIME'               : 0                   \n",
    "           , 'AVG_P2_PLAYTIME'               : 0                   \n",
    "           , 'SUM_P2_PLAYTIME'               : 0\n",
    "           , 'MIN_AC_PLAYTIME'               : 0\n",
    "           , 'MAX_AC_PLAYTIME'               : 0\n",
    "           , 'AVG_AC_PLAYTIME'               : 0\n",
    "           , 'SUM_AC_PLAYTIME'               : 0\n",
    "           , 'AC_DLC'                        : 0\n",
    "           , 'AC_P2_DLC'                     : 0 \n",
    "           , 'AC_CURRENCY'                   : 0\n",
    "           , 'AC_P2_CURRENCY'                : 0 \n",
    "           , 'AC_SEASONPASS'                 : 0 \n",
    "           , 'AC_P2_SEASONPASS'              : 0 \n",
    "           , 'NB_ACTIVATION_PASS'            : 0\n",
    "           , 'PD_FW'                         : 0\n",
    "           , 'PD_AC_FW'                      : 0 \n",
    "           , 'PD_P2_FW'                      : 0 \n",
    "           , 'PD_ACV_FW'                     : 0\n",
    "           , 'PD_AC_OB'                      : 0 \n",
    "           , 'PD_P2_OB'                      : 0\n",
    "           , 'PD_TRIAL'                      : 0\n",
    "    }\n",
    "    df = df.fillna(value=fill_zero)\n",
    "    df = df.dropna(subset=['RECENCY_LAST_OWNED',\n",
    "                           'SENIORITY_LAST_OWNED',\n",
    "                           'NB_AC', 'PLAYED_ORIGINS',\n",
    "                           'ESTIM_BG','ESTIM_NET_BG',\n",
    "                           'PL_ACQUI', 'PL_NET_ACQUI',\n",
    "                            'P2_LAST_OWNED' ])\n",
    "    \n",
    "    df[\"P2_LAST_OWNED_ASSASSIN'S CREED ODYSSEY\"] =  df.P2_LAST_OWNED.apply(lambda x: 1 if x == \"ASSASSIN'S CREED ODYSSEY\" else 0)\n",
    "    df = df.drop([\"P2_LAST_OWNED\"], axis=1)\n",
    "    return df\n",
    "\n",
    "def pb_at_conv(x):\n",
    "    #return  nb_covariate -1 + int(x.TEND) - 30\n",
    "    try :\n",
    "        return x[int(x.CONVERSION_DAYS_ACV)]\n",
    "    except :\n",
    "        return np.nan\n",
    "    \n",
    "def pb_at_conv_moins1M(x):\n",
    "    try :\n",
    "        return x[int(x.CONVERSION_DAYS_ACV) - 30]\n",
    "    except :\n",
    "        return np.nan\n",
    "    \n",
    "def pb_at_conv_plus1M(x):\n",
    "    try:\n",
    "        return x[int(x.CONVERSION_DAYS_ACV) + 30 ]\n",
    "    except :\n",
    "        return np.nan\n",
    "\n",
    "def pb_at_conv_plus10D(x):\n",
    "    try:\n",
    "        return x[int(x.CONVERSION_DAYS_ACV) + 10 ]\n",
    "    except :\n",
    "        return np.nan\n",
    "    \n",
    "def pred_AC_survival(pred_set, test_set):\n",
    "    pred_set['pb_conv']=pred_set.apply(pb_at_conv, axis=1)\n",
    "    pred_set['pb_conv_moins1M']=pred_set.apply(pb_at_conv_moins1M, axis=1)\n",
    "    pred_set['pb_conv_plus1M']=pred_set.apply(pb_at_conv_plus1M , axis=1)\n",
    "    pred_set['pb_conv_plus10D']=pred_set.apply(pb_at_conv_plus10D, axis=1)\n",
    "    return pred_set"
   ]
  },
  {
   "cell_type": "code",
   "execution_count": 3,
   "id": "78fe5378",
   "metadata": {},
   "outputs": [
    {
     "name": "stdout",
     "output_type": "stream",
     "text": [
      "successfull closed connection\n",
      "Duration: 0:00:06.922622\n",
      "missing values :  False\n",
      "all finite values :  True\n"
     ]
    },
    {
     "name": "stderr",
     "output_type": "stream",
     "text": [
      "/tmp/ipykernel_7421/1192090311.py:41: SettingWithCopyWarning: \n",
      "A value is trying to be set on a copy of a slice from a DataFrame\n",
      "\n",
      "See the caveats in the documentation: https://pandas.pydata.org/pandas-docs/stable/user_guide/indexing.html#returning-a-view-versus-a-copy\n",
      "  df.SENIORITY_WHEN_CONV_TO_LAST_OWNED[df.SENIORITY_WHEN_CONV_TO_LAST_OWNED.isna()] = df.SENIORITY_LAST_OWNED[df.SENIORITY_WHEN_CONV_TO_LAST_OWNED.isna()]\n",
      "/tmp/ipykernel_7421/1192090311.py:43: UserWarning: Boolean Series key will be reindexed to match DataFrame index.\n",
      "  mean_playtime_one_pd = df[df.LAST_OWNED_PLAYTIME>=0][df.NB_PD_LAST_OWNED==1].LAST_OWNED_PLAYTIME.mean()\n"
     ]
    }
   ],
   "source": [
    "from datetime import datetime\n",
    "start_time = datetime.now()\n",
    "\n",
    "AC = get_data (''' select * from CS_AC_P2_PLAYERS_CONVERSION_MODEL_ON_ACV sample(0.1); ''')\n",
    "\n",
    "end_time = datetime.now()\n",
    "print('Duration: {}'.format(end_time - start_time))\n",
    "\n",
    "AC = data_cleaning(AC)\n",
    "print('missing values : ', np.any(np.isnan(AC.drop(['USER_KEY','CLUSTER_2021','CLUSTER_2022'], axis=1))))\n",
    "print('all finite values : ', np.all(np.isfinite(AC.drop(['USER_KEY','CLUSTER_2021','CLUSTER_2022'], axis=1))))"
   ]
  },
  {
   "cell_type": "code",
   "execution_count": 7,
   "id": "74936d12",
   "metadata": {},
   "outputs": [
    {
     "name": "stdout",
     "output_type": "stream",
     "text": [
      "successfull closed connection\n"
     ]
    },
    {
     "name": "stderr",
     "output_type": "stream",
     "text": [
      "/tmp/ipykernel_274/1192090311.py:41: SettingWithCopyWarning: \n",
      "A value is trying to be set on a copy of a slice from a DataFrame\n",
      "\n",
      "See the caveats in the documentation: https://pandas.pydata.org/pandas-docs/stable/user_guide/indexing.html#returning-a-view-versus-a-copy\n",
      "  df.SENIORITY_WHEN_CONV_TO_LAST_OWNED[df.SENIORITY_WHEN_CONV_TO_LAST_OWNED.isna()] = df.SENIORITY_LAST_OWNED[df.SENIORITY_WHEN_CONV_TO_LAST_OWNED.isna()]\n",
      "/tmp/ipykernel_274/1192090311.py:43: UserWarning: Boolean Series key will be reindexed to match DataFrame index.\n",
      "  mean_playtime_one_pd = df[df.LAST_OWNED_PLAYTIME>=0][df.NB_PD_LAST_OWNED==1].LAST_OWNED_PLAYTIME.mean()\n"
     ]
    }
   ],
   "source": [
    "test_last_month = get_data('''\n",
    "    with t as (select  AC.*\n",
    "           , TO_DATE((TO_CHAR(PR.FIRST_PLAYED_DATE_KEY)),'YYYYMMDD') - TO_DATE((TO_CHAR(20201110)),'YYYYMMDD') +1 as acv_acqui_delay_valid\n",
    "\n",
    "    from SANDBOX.EMEA_ANALYTICS_CRM_PRIVATE.CS_AC_P2_PLAYERS_CONVERSION_MODEL_ON_ACV AC\n",
    "        inner join UBICENTRAL.PLAY_SHARED.VW_AGG_FT_USER_PRODUCT PR\n",
    "            on PR.USER_KEY=AC.USER_KEY\n",
    "        inner join UBICENTRAL.PLAY_SHARED.VW_DIM_GENOME_DENORMALIZED_ACTIVE G \n",
    "            on G.GENOME_KEY=PR.GENOME_KEY\n",
    "    where CONVERTED_VALHALLA=0 \n",
    "        and  INSTALLMENT_DESCRIPTION like '%ASSASSIN%VALHALLA%' \n",
    "        and PR.CALCULATED_GAME_RELEASE_KEY=5\n",
    "        and FIRST_PLAYED_DATE_KEY > 20220701\n",
    "        and number_played_days > 0\n",
    "        QUALIFY RANK() OVER (PARTITION BY AC.USER_KEY ORDER BY PR.FIRST_PLAYED_DATE_KEY ASC)=1 \n",
    "        )\n",
    "        \n",
    " select *\n",
    " from t sample(20);\n",
    "''')\n",
    "\n",
    "test_last_month = data_cleaning(test_last_month)"
   ]
  },
  {
   "cell_type": "code",
   "execution_count": 4,
   "id": "674cf908",
   "metadata": {},
   "outputs": [],
   "source": [
    "df_train = AC.drop(['USER_KEY','CLUSTER_2021','CLUSTER_2022'], axis=1)\n",
    "df_test = df_train.sample(frac=0.2)\n",
    "df_train = df_train.drop(df_test.index)\n",
    "df_val = df_train.sample(frac=0.2)\n",
    "df_train = df_train.drop(df_val.index)"
   ]
  },
  {
   "cell_type": "markdown",
   "id": "e9fdc19d",
   "metadata": {},
   "source": [
    "Pysurvival : Fast implementation of surival models using API with C++ and based on Pytorch and SciPy\n",
    "\n",
    "    Can be a first package to use since its easy and quick to use (data processing is done internally)\n",
    "    Can fit ML and DL models : \n",
    "        coxPH, DeepSurv, Multi-Task Logistic Regression (linear & Non linear), Parametric models, Forest, SVM\n",
    "    Performance metric used : C-index (concordance) and Brier Score\n",
    "    \n",
    "    Source : https://square.github.io/pysurvival/"
   ]
  },
  {
   "cell_type": "code",
   "execution_count": 5,
   "id": "29a3f34e",
   "metadata": {},
   "outputs": [
    {
     "name": "stderr",
     "output_type": "stream",
     "text": [
      "/home/csouvigny/.conda/envs/pytorch/lib/python3.8/site-packages/torch/cuda/__init__.py:52: UserWarning: CUDA initialization: Found no NVIDIA driver on your system. Please check that you have an NVIDIA GPU and installed a driver from http://www.nvidia.com/Download/index.aspx (Triggered internally at  /opt/conda/conda-bld/pytorch_1607369981906/work/c10/cuda/CUDAFunctions.cpp:100.)\n",
      "  return torch._C._cuda_getDeviceCount() > 0\n"
     ]
    }
   ],
   "source": [
    "#from pysurvival.models.simulations import SimulationModel\n",
    "from pysurvival.models.semi_parametric import NonLinearCoxPHModel, CoxPHModel\n",
    "from pysurvival.models.multi_task import LinearMultiTaskModel, NeuralMultiTaskModel\n",
    "from pysurvival.models.parametric import ExponentialModel, GompertzModel, WeibullModel , LogLogisticModel , LogNormalModel\n",
    "from pysurvival.models.survival_forest import ConditionalSurvivalForestModel, ExtraSurvivalTreesModel, RandomSurvivalForestModel\n",
    "from pysurvival.models.svm import LinearSVMModel, KernelSVMModel\n",
    "from pysurvival.utils.metrics import concordance_index, brier_score\n",
    "from pysurvival.utils.display import integrated_brier_score\n",
    "from pysurvival.utils.display import display_baseline_simulations\n",
    "from scipy.stats import pearsonr"
   ]
  },
  {
   "cell_type": "code",
   "execution_count": 6,
   "id": "e2f6d515",
   "metadata": {},
   "outputs": [],
   "source": [
    "X_train, X_test = df_train.drop(['CONVERSION_DAYS_ACV','CONVERTED_VALHALLA'],axis=1), df_test.drop(['CONVERSION_DAYS_ACV','CONVERTED_VALHALLA'],axis=1)\n",
    "T_train, T_test = df_train['CONVERSION_DAYS_ACV'].values, df_test['CONVERSION_DAYS_ACV'].values\n",
    "E_train, E_test = df_train['CONVERTED_VALHALLA'].values, df_test['CONVERTED_VALHALLA'].values\n",
    "\n",
    "X_to_predict = test_last_month.drop(['CONVERSION_DAYS_ACV','CONVERTED_VALHALLA', 'USER_KEY', 'CLUSTER_2021', 'CLUSTER_2022'],axis=1)\n",
    "T_to_predict = test_last_month['CONVERSION_DAYS_ACV'].values\n",
    "E_to_predict = test_last_month['CONVERTED_VALHALLA'].values"
   ]
  },
  {
   "cell_type": "code",
   "execution_count": 70,
   "id": "d32e3b6a",
   "metadata": {},
   "outputs": [],
   "source": [
    "structure_nl_coxph = [ {'activation': 'BentIdentity', 'num_units': 32},    ]\n",
    "structure_n_mtlr = [ {'activation': 'ReLU', 'num_units': 535},  ]\n",
    "\n",
    "# Semi and Non parametric ML/DL models\n",
    "CoxPH = CoxPHModel()\n",
    "NL_CoxPH = NonLinearCoxPHModel(structure=structure_nl_coxph)\n",
    "L_MTLR = LinearMultiTaskModel(bins=50)\n",
    "NN_MTLR = NeuralMultiTaskModel(structure=structure_n_mtlr, bins=150)\n",
    "\n",
    "# Parametric models\n",
    "exp = ExponentialModel()\n",
    "gp = GompertzModel()\n",
    "wb = WeibullModel() \n",
    "llog = LogLogisticModel() \n",
    "nlog = LogNormalModel()\n",
    "\n",
    "# Trees\n",
    "csf = ConditionalSurvivalForestModel(num_trees=20)\n",
    "xst = ExtraSurvivalTreesModel(num_trees=50)\n",
    "rsf = RandomSurvivalForestModel(num_trees=50)\n",
    "\n",
    "# Support Vector Machine\n",
    "svm_linear = LinearSVMModel()\n",
    "\n",
    "models = { \n",
    "    'Linear CoxPH' : CoxPH ,\n",
    "    'Non Linear coxph' : NL_CoxPH ,\n",
    "    'Linear multi task model' : L_MTLR,\n",
    "    'NN multi task model' : NN_MTLR,\n",
    "    'Param Exp' : exp,\n",
    "    'Param Gompertz' : gp,\n",
    "    'Param Weibull' : wb,\n",
    "    'Param Logistic' : llog,\n",
    "    'Param Normal' : nlog,\n",
    "    'Param Conditional Forest' : csf,\n",
    "    'Param Extra Forest' : xst,\n",
    "    'Param Random Forest' : rsf,\n",
    "   # 'svm_linear' : svm_linear\n",
    "         }"
   ]
  },
  {
   "cell_type": "code",
   "execution_count": null,
   "id": "30de7dc7",
   "metadata": {},
   "outputs": [],
   "source": [
    "# Each model must be tuned before fiting \n",
    "def function() :\n",
    "try :\n",
    "    CoxPH.fit(X_train, T_train, E_train, lr=0.5, l2_reg=1e-2, init_method='zeros')\n",
    "except :\n",
    "    print(\"CoxPH error fitting\")\n",
    "    \n",
    "try :\n",
    "    NL_CoxPH.fit(X_train, T_train, E_train, lr=1e-3, init_method='xav_uniform')\n",
    "except :\n",
    "    print(\"NL COxPH error fitting\")\n",
    "try :\n",
    "    L_MTLR.fit(X_train, T_train, E_train, lr=1e-3, init_method='orthogonal')\n",
    "except :\n",
    "    print(\"L_MTLR error fitting\")\n",
    "    \n",
    "try :\n",
    "    NN_MTLR.fit(X_train, T_train, E_train, lr=1e-3, num_epochs = 500,init_method='orthogonal', optimizer = 'rprop')\n",
    "except :\n",
    "    print(\"NN MTLR error fitting\")\n",
    "    \n",
    "for parametric_model in [exp, gp, wb, llog, nlog]:\n",
    "    try:\n",
    "        parametric_model.fit(X_train, T_train, E_train, lr=1e-2, init_method='zeros', optimizer ='adam', l2_reg = 1e-3, num_epochs=2000)\n",
    "    except :\n",
    "        print(\"param model error fitting\")\n",
    "\n",
    "    \n",
    "try :\n",
    "    csf.fit(X_train, T_train, E_train, max_features=\"sqrt\", max_depth=15, min_node_size=20, alpha = 0.05, minprop=0.1)\n",
    "except :\n",
    "    print(\"CSF error fitting\")\n",
    "try :\n",
    "    xst.fit(X_train, T_train, E_train, max_features=\"sqrt\", max_depth=5, min_node_size=20, num_random_splits = 100)\n",
    "except :\n",
    "    print(\"XST error fitting\")\n",
    "try :\n",
    "    rsf.fit(X_train, T_train, E_train, max_features=\"sqrt\", max_depth=5, min_node_size=20)\n",
    "except :\n",
    "    print(\"RSF error fitting\")\n",
    "try :\n",
    "    svm_linear.fit(X_train, T_train, E_train, init_method='he_uniform', with_bias = True, lr = 0.5,  tol = 1e-3,  l2_reg = 1e-3)\n",
    "except :\n",
    "    print(\"SVM error fitting\")"
   ]
  },
  {
   "cell_type": "code",
   "execution_count": 7,
   "id": "2c8e62fe",
   "metadata": {},
   "outputs": [
    {
     "data": {
      "text/plain": [
       "ConditionalSurvivalForestModel"
      ]
     },
     "execution_count": 7,
     "metadata": {},
     "output_type": "execute_result"
    }
   ],
   "source": [
    "csf = ConditionalSurvivalForestModel(num_trees=20)\n",
    "csf.fit(X_train, T_train, E_train, max_features=\"sqrt\", max_depth=15, min_node_size=20, alpha = 0.05, minprop=0.1)"
   ]
  },
  {
   "cell_type": "code",
   "execution_count": 10,
   "id": "1f3605f6",
   "metadata": {},
   "outputs": [
    {
     "data": {
      "text/plain": [
       "118"
      ]
     },
     "execution_count": 10,
     "metadata": {},
     "output_type": "execute_result"
    }
   ],
   "source": [
    "len(csf.variable_importance)"
   ]
  },
  {
   "cell_type": "markdown",
   "id": "5db20cc4",
   "metadata": {},
   "source": [
    "### Accuracy metrics"
   ]
  },
  {
   "cell_type": "code",
   "execution_count": null,
   "id": "7b94e7b9",
   "metadata": {},
   "outputs": [],
   "source": [
    "def create_dict_metric(list_of_models):\n",
    "    accuracy_metrics={}\n",
    "    for model_name, model in models.items() :\n",
    "        try :\n",
    "            it_brier = integrated_brier_score(model, X_test, T_test, E_test, t_max=max(csf.times), figure_size=(2, 1))\n",
    "        except:\n",
    "            it_brier = np.nan\n",
    "        try :\n",
    "            c_score = concordance_index(model, X_test, T_test, E_test)\n",
    "        except:\n",
    "            c_score = np.nan\n",
    "        try :\n",
    "            brier = brier_score(model, X_test, T_test, E_test, t_max=max(model.times))\n",
    "        except:\n",
    "            brier = np.zeros(round(max(model.times)))\n",
    "\n",
    "        accuracy_metrics[model_name]=(c_score, round(it_brier,3), brier[1])\n",
    "    return accuracy_metrics\n",
    "\n",
    "accuracy_metrics = create_dict_metric(models)"
   ]
  },
  {
   "cell_type": "code",
   "execution_count": 73,
   "id": "cdcd99c1",
   "metadata": {},
   "outputs": [
    {
     "name": "stdout",
     "output_type": "stream",
     "text": [
      "Linear CoxPH concordance :  0.8889241660384047 integrated brier :  0.313\n",
      "Non Linear coxph concordance :  0.9749000419772795 integrated brier :  0.008\n",
      "Linear multi task model concordance :  0.6299413575607907 integrated brier :  0.26\n",
      "NN multi task model concordance :  0.9595346210757082 integrated brier :  0.014\n",
      "Param Exp concordance :  0.5802438514663005 integrated brier :  0.547\n",
      "Param Gompertz concordance :  0.7211289433043244 integrated brier :  4.974895469680438e+53\n",
      "Param Weibull concordance :  0.5 integrated brier :  0.509\n",
      "Param Logistic concordance :  0.5 integrated brier :  0.058\n",
      "Param Normal concordance :  nan integrated brier :  0.739\n",
      "Param Conditional Forest concordance :  0.9275090706254255 integrated brier :  0.044\n",
      "Param Extra Forest concordance :  0.8753387374839142 integrated brier :  0.109\n",
      "Param Random Forest concordance :  0.9194656609684955 integrated brier :  0.062\n"
     ]
    }
   ],
   "source": [
    "for model, acc in accuracy_metrics.items() :\n",
    "    print(model, 'concordance : ', accuracy_metrics[model][0], 'integrated brier : ', accuracy_metrics[model][1])"
   ]
  },
  {
   "cell_type": "code",
   "execution_count": 74,
   "id": "89630e36",
   "metadata": {},
   "outputs": [
    {
     "name": "stdout",
     "output_type": "stream",
     "text": [
      "best integrated brier score :  Non Linear coxph 0.008\n",
      "best c-score :  Non Linear coxph 0.9749000419772795\n"
     ]
    }
   ],
   "source": [
    "print('best integrated brier score : ', min(accuracy_metrics.items(), key=lambda x: x[1][1])[0], min(accuracy_metrics.items(), key=lambda x: x[1][1])[1][1])\n",
    "print('best c-score : ', max(accuracy_metrics.items(), key=lambda x: x[1][0])[0], max(accuracy_metrics.items(), key=lambda x: x[1][0])[1][0])"
   ]
  },
  {
   "cell_type": "code",
   "execution_count": 75,
   "id": "80c26768",
   "metadata": {},
   "outputs": [
    {
     "data": {
      "image/png": "[encoded data removed]",
      "text/plain": [
       "<Figure size 432x288 with 1 Axes>"
      ]
     },
     "metadata": {
      "needs_background": "light"
     },
     "output_type": "display_data"
    }
   ],
   "source": [
    "# Only plot models with integrated brier score lower than 0.3\n",
    "for model_name, acc in accuracy_metrics.items():\n",
    "    if acc[1]<0.3 :\n",
    "        plt.plot(acc[2], label=model_name)\n",
    "plt.legend()\n",
    "plt.show()"
   ]
  },
  {
   "cell_type": "code",
   "execution_count": 79,
   "id": "a38af3ea",
   "metadata": {},
   "outputs": [
    {
     "data": {
      "text/plain": [
       "[<matplotlib.lines.Line2D at 0x7f9ae12ce850>]"
      ]
     },
     "execution_count": 79,
     "metadata": {},
     "output_type": "execute_result"
    },
    {
     "data": {
      "image/png": "[encoded data removed]",
      "text/plain": [
       "<Figure size 432x288 with 1 Axes>"
      ]
     },
     "metadata": {
      "needs_background": "light"
     },
     "output_type": "display_data"
    }
   ],
   "source": [
    "plt.plot(accuracy_metrics['Linear multi task model'][2])"
   ]
  },
  {
   "cell_type": "code",
   "execution_count": 73,
   "id": "1d5bb9d6",
   "metadata": {},
   "outputs": [
    {
     "name": "stderr",
     "output_type": "stream",
     "text": [
      "% Completion: 100%|*********************************************|Loss: 19898.90\n"
     ]
    },
    {
     "data": {
      "text/plain": [
       "NonLinearCoxPHModel( Layer(1): activation = BentIdentity, num_units = 32 ; \n",
       "                     Layer(2): activation = Tanh, num_units = 32 )"
      ]
     },
     "execution_count": 73,
     "metadata": {},
     "output_type": "execute_result"
    }
   ],
   "source": [
    "structure_nl_coxph = [ {'activation': 'BentIdentity', 'num_units': 32}, {'activation': 'Tanh', 'num_units': 32} ]\n",
    "NL_CoxPH = NonLinearCoxPHModel(structure=structure_nl_coxph)\n",
    "NL_CoxPH.fit(X_train, T_train, E_train, lr=1e-3, init_method='xav_uniform',  dropout = 0.1)\n",
    "\n",
    "\n",
    "# Semi and Non parametric ML/DL models\n",
    "CoxPH = CoxPHModel()\n",
    "NL_CoxPH = NonLinearCoxPHModel(structure=structure_nl_coxph)\n",
    "NL_CoxPH.fit(X_train, T_train, E_train, lr=1e-3, init_method='xav_uniform')"
   ]
  },
  {
   "cell_type": "markdown",
   "id": "c1361bbe",
   "metadata": {},
   "source": [
    "Tuning non linear CoxPH (NN)"
   ]
  },
  {
   "cell_type": "code",
   "execution_count": null,
   "id": "fcbc2eb2",
   "metadata": {},
   "outputs": [],
   "source": [
    "NL_CoxPH = NonLinearCoxPHModel(structure=structure_nl_coxph)"
   ]
  },
  {
   "cell_type": "code",
   "execution_count": null,
   "id": "78d606b2",
   "metadata": {},
   "outputs": [],
   "source": [
    "NL_CoxPH.fit(X_train, T_train, E_train, lr=1e-3, init_method='xav_uniform')"
   ]
  },
  {
   "cell_type": "code",
   "execution_count": null,
   "id": "343d8219",
   "metadata": {},
   "outputs": [],
   "source": []
  },
  {
   "cell_type": "markdown",
   "id": "57b30ba9",
   "metadata": {},
   "source": [
    "### Predictions"
   ]
  },
  {
   "cell_type": "code",
   "execution_count": 33,
   "id": "d178df8f",
   "metadata": {},
   "outputs": [],
   "source": [
    "svm_risks = svm_model.predict_risk(X_test)"
   ]
  },
  {
   "cell_type": "code",
   "execution_count": 77,
   "id": "22b3e612",
   "metadata": {},
   "outputs": [],
   "source": [
    "NL_CoxPH_risks = NL_CoxPH.predict_risk(X_test)"
   ]
  },
  {
   "cell_type": "code",
   "execution_count": 79,
   "id": "ee923720",
   "metadata": {},
   "outputs": [
    {
     "name": "stdout",
     "output_type": "stream",
     "text": [
      "corr=-0.6914, p_value=0.00000\n"
     ]
    }
   ],
   "source": [
    "print(\"corr={:.4f}, p_value={:.5f}\".format(*pearsonr(svm_risks, NL_CoxPH_risks)))\n"
   ]
  },
  {
   "cell_type": "markdown",
   "id": "5c4edc1b",
   "metadata": {},
   "source": [
    "Get Baseline hasard (risk of conversion for null or average predictors (depends on the model))"
   ]
  },
  {
   "cell_type": "markdown",
   "id": "39cffcea",
   "metadata": {},
   "source": [
    "Variable importance for Trees models"
   ]
  },
  {
   "cell_type": "code",
   "execution_count": null,
   "id": "9186007d",
   "metadata": {},
   "outputs": [],
   "source": [
    "csf.variable_importance"
   ]
  },
  {
   "cell_type": "code",
   "execution_count": null,
   "id": "0195e7be",
   "metadata": {},
   "outputs": [],
   "source": [
    "#f_surv =  np.exp(- np.matmul(pd.DataFrame(cox_time.baseline_cumulative_hazard_) , pd.DataFrame(cox_time.predict_partial_hazard(ACtest)).T))\n",
    "\n",
    "partial_spline=  np.matmul( - pd.DataFrame(1/bas_haz.cumsum()).T , np.log(surv_nn_cox) ).T"
   ]
  },
  {
   "cell_type": "code",
   "execution_count": null,
   "id": "c7c15d98",
   "metadata": {},
   "outputs": [],
   "source": []
  },
  {
   "cell_type": "code",
   "execution_count": 105,
   "id": "7ef598ce",
   "metadata": {},
   "outputs": [],
   "source": [
    "surv_nn_cox = rsf.predict_survival(X_to_predict)"
   ]
  },
  {
   "cell_type": "code",
   "execution_count": 101,
   "id": "7bcb37f8",
   "metadata": {},
   "outputs": [
    {
     "data": {
      "text/plain": [
       "0.9219837721067202"
      ]
     },
     "execution_count": 101,
     "metadata": {},
     "output_type": "execute_result"
    }
   ],
   "source": [
    "for model_name, model in models.items() :\n",
    "    print(model_name)\n",
    "    try : \n",
    "        pred = pd.DataFrame(model.predict_survival(X_to_predict))\n",
    "        print(pred[])\n",
    "        plt.plot(pd.DataFrame(pred).mean())\n",
    "pd.DataFrame( NL_CoxPH.predict_survival(X_to_predict))[585].mean()"
   ]
  },
  {
   "cell_type": "code",
   "execution_count": null,
   "id": "7385aaf2",
   "metadata": {},
   "outputs": [],
   "source": [
    "pd.DataFrame(surv_nn_cox)"
   ]
  },
  {
   "cell_type": "code",
   "execution_count": null,
   "id": "16450580",
   "metadata": {},
   "outputs": [],
   "source": [
    "pred_at_t=csf.predict_survival(X_test, t=1)\n",
    "for i in range(1,601):\n",
    "    pred_at_t=np.vstack((pred_at_t, csf.predict_survival(X_test, t=i)))"
   ]
  },
  {
   "cell_type": "code",
   "execution_count": null,
   "id": "aa4c4d93",
   "metadata": {},
   "outputs": [],
   "source": [
    "pred_at_t"
   ]
  },
  {
   "cell_type": "code",
   "execution_count": null,
   "id": "f2b73afc",
   "metadata": {},
   "outputs": [],
   "source": [
    "pd.DataFrame(pred_at_t).T"
   ]
  },
  {
   "cell_type": "code",
   "execution_count": null,
   "id": "25e3e255",
   "metadata": {},
   "outputs": [],
   "source": [
    "predictions= df_test.reset_index(drop=True).join(pd.DataFrame(pred_at_t).T)"
   ]
  },
  {
   "cell_type": "code",
   "execution_count": null,
   "id": "a3d3cde9",
   "metadata": {},
   "outputs": [],
   "source": []
  },
  {
   "cell_type": "code",
   "execution_count": 225,
   "id": "551872bd",
   "metadata": {},
   "outputs": [
    {
     "data": {
      "text/plain": [
       "<matplotlib.legend.Legend at 0x7f19c42f0df0>"
      ]
     },
     "execution_count": 225,
     "metadata": {},
     "output_type": "execute_result"
    },
    {
     "data": {
      "image/png": "[encoded data removed]",
      "text/plain": [
       "<Figure size 432x288 with 3 Axes>"
      ]
     },
     "metadata": {
      "needs_background": "light"
     },
     "output_type": "display_data"
    }
   ],
   "source": [
    "fig, [ax1, ax2, ax3] = plt.subplots(nrows=3, ncols=1)\n",
    "ax1.plot(1- pd.DataFrame(pred).mean(), label='Conversion pb on test set')\n",
    "ax1.legend(loc=\"lower right\")\n",
    "\n",
    "ax2.plot(1-predictions[predictions.CONVERTED_VALHALLA==0].loc[:,1:531].mean(), label='Conversion pb on test set for censored players')\n",
    "ax2.legend(loc=\"upper left\")\n",
    "\n",
    "ax3.plot(1-predictions[predictions.CONVERTED_VALHALLA==1].loc[:,1:531].mean(), label='Conversion pb on test set for converted players')\n",
    "ax3.legend(loc=\"lower right\")"
   ]
  },
  {
   "cell_type": "code",
   "execution_count": 214,
   "id": "8fffc2bd",
   "metadata": {},
   "outputs": [],
   "source": [
    "def pb_at_conv(x):\n",
    "    try :\n",
    "        return x[int(x.TEND)]\n",
    "    except :\n",
    "        return np.nan\n",
    "\n",
    "def pb_at_conv_moins1M(x):\n",
    "    try :\n",
    "        return x[int(x.TEND) - 30]\n",
    "    except :\n",
    "        return np.nan\n",
    "    \n",
    "def pb_at_conv_plus1M(x):\n",
    "    try:\n",
    "        return x[int(x.TEND) + 30 ]\n",
    "    except :\n",
    "        return np.nan\n",
    "\n",
    "def pb_at_conv_plus10D(x):\n",
    "    try:\n",
    "        return x[int(x.TEND) + 10 ]\n",
    "    except :\n",
    "        return np.nan\n",
    "    \n",
    "\n",
    "def pred_AC_survival(pred_set):\n",
    "    pred_set['pb_conv']=pred_set.apply(pb_at_conv, axis=1)\n",
    "    pred_set['pb_conv_moins1M']=pred_set.apply(pb_at_conv_moins1M, axis=1)\n",
    "    pred_set['pb_conv_plus1M']=pred_set.apply(pb_at_conv_plus1M , axis=1)\n",
    "    pred_set['pb_conv_plus10D']=pred_set.apply(pb_at_conv_plus10D, axis=1)\n",
    "    return pred_set"
   ]
  },
  {
   "cell_type": "code",
   "execution_count": 215,
   "id": "d9062332",
   "metadata": {},
   "outputs": [],
   "source": [
    "predictions=pred_AC_survival(predictions)"
   ]
  },
  {
   "cell_type": "code",
   "execution_count": 108,
   "id": "81e5e11f",
   "metadata": {},
   "outputs": [
    {
     "ename": "NameError",
     "evalue": "name 'predictions' is not defined",
     "output_type": "error",
     "traceback": [
      "\u001b[0;31m---------------------------------------------------------------------------\u001b[0m",
      "\u001b[0;31mNameError\u001b[0m                                 Traceback (most recent call last)",
      "Input \u001b[0;32mIn [108]\u001b[0m, in \u001b[0;36m<cell line: 1>\u001b[0;34m()\u001b[0m\n\u001b[0;32m----> 1\u001b[0m \u001b[43mpredictions\u001b[49m\n",
      "\u001b[0;31mNameError\u001b[0m: name 'predictions' is not defined"
     ]
    }
   ],
   "source": [
    "predictions"
   ]
  },
  {
   "cell_type": "code",
   "execution_count": null,
   "id": "6bbb7362",
   "metadata": {},
   "outputs": [],
   "source": [
    "\n",
    "in_features = x_train.shape[1]\n",
    "out_features = 1\n",
    "batch_norm = True\n",
    "output_bias = False\n",
    "callbacks = [tt.callbacks.EarlyStopping()]\n",
    "verbose = True\n",
    "epochs = 512\n",
    "\n",
    "# to tune\n",
    "list_num_nodes = [[32, 32], [64, 32]]#, [64, 64], [100, 64], [64, 32, 32], [32, 32, 32]]\n",
    "list_dropout = [0.1, 0.15, 0.2, 0.25]\n",
    "list_optimizer = [tt.optim.Adam, tt.optim.AdamW]\n",
    "\n",
    "list_batch_size = [256, 320]\n",
    "\n",
    "hyper_results = {}\n",
    "\n",
    "\n",
    "for num_nodes in list_num_nodes:\n",
    "    for dropout in list_dropout: \n",
    "        for optimizer in list_optimizer:\n",
    "            \n",
    "            for batch_size in list_batch_size:\n",
    "                \n",
    "                net = tt.practical.MLPVanilla(in_features, num_nodes, out_features, batch_norm,\n",
    "                                  dropout, output_bias=output_bias)   \n",
    "                model_CoxCC = CoxCC(net, optimizer) \n",
    "\n",
    "                lrfinder_CoxCC = model_CoxCC.lr_finder(x_train, y_train, batch_size, tolerance=10)\n",
    "\n",
    "                opt_lrs = [0.05, lrfinder_CoxCC.get_best_lr()/5, lrfinder_CoxCC.get_best_lr()/2, lrfinder_CoxCC.get_best_lr()]\n",
    "                for lr in opt_lrs :\n",
    "                    start_time = datetime.now()\n",
    "                    \n",
    "                    model_CoxCC.optimizer.set_lr(lr)\n",
    "                    log = model_CoxCC.fit(x_train, y_train, batch_size, epochs, callbacks, verbose, val_data=val, val_batch_size=batch_size)\n",
    "                    bas_cum_haz = model_CoxCC.compute_baseline_hazards().cumsum()\n",
    "                    surv_test = model_CoxCC.predict_surv_df(x_test)\n",
    "                    ev = EvalSurv(surv_test, durations_test, events_test, censor_surv='km')\n",
    "                    time_grid = np.linspace(durations_test.min(), durations_test.max(), 200)\n",
    "\n",
    "                    #f = interpolate.interp1d(bas_cum_haz.index, bas_cum_haz, fill_value='extrapolate')\n",
    "                    #xnew = np.arange(1, 801, 1)\n",
    "                    #ynew = f(xnew)  \n",
    "                    #base_cum_haz = pd.DataFrame(ynew, index=np.arange(1, 801, 1))\n",
    "                    #partial_haz = np.exp(model_CoxCC.predict(x_to_predict))\n",
    "                    #extrapolate_survival = pd.DataFrame(np.exp(- np.dot(base_cum_haz , pd.DataFrame(partial_haz).T)))\n",
    "                    print(str(num_nodes) + \"_\"+ str(dropout) + \"_\" + str(optimizer) + \"_\"+ str(lr)+ \"_\" + str(batch_size))\n",
    "                    hyper_results[str(num_nodes) + \"_\"+ str(dropout) + \"_\" + str(optimizer) + \"_\"+ str(lr)+ \"_\" + str(batch_size)] = (model_CoxCC.score_in_batches(val),\n",
    "                                                                                                                                      ev.concordance_td(),\n",
    "                                                                                                                                      ev.integrated_brier_score(time_grid)\n",
    "                                                                                                                                    )\n",
    "                    pickle.dump(model_CoxCC, open( \"/home/shared/csouvign/\"+str(num_nodes) + \"_\"+ str(dropout) + \"_\" + str(optimizer) + \"_\"+ str(lr)+ \"_\" + str(batch_size)+\".pickle\", \"wb\" ) )\n",
    "                    end_time = datetime.now()\n",
    "                    print(end_time)"
   ]
  }
 ],
 "metadata": {
  "kernelspec": {
   "display_name": "Python PyTorch",
   "language": "python",
   "name": "pytorch"
  },
  "language_info": {
   "codemirror_mode": {
    "name": "ipython",
    "version": 3
   },
   "file_extension": ".py",
   "mimetype": "text/x-python",
   "name": "python",
   "nbconvert_exporter": "python",
   "pygments_lexer": "ipython3",
   "version": "3.8.13"
  }
 },
 "nbformat": 4,
 "nbformat_minor": 5
}
