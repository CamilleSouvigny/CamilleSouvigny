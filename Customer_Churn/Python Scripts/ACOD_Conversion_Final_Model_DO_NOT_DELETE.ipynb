{
 "cells": [
  {
   "cell_type": "markdown",
   "id": "e482acf2",
   "metadata": {},
   "source": [
    "# CONVERSION TIME PREDICTIONS FOR ACD/ACO PLAYERS USING SURVIVAL ANALYSIS"
   ]
  },
  {
   "cell_type": "markdown",
   "id": "d19061fe",
   "metadata": {},
   "source": [
    "## Data processing\n",
    "data is imported from snowflake than cleaned and scaled to be modeled in a survival network"
   ]
  },
  {
   "cell_type": "markdown",
   "id": "92d5580f",
   "metadata": {},
   "source": [
    "### Librairy imports"
   ]
  },
  {
   "cell_type": "code",
   "execution_count": 8,
   "id": "63e4ab22",
   "metadata": {},
   "outputs": [
    {
     "name": "stderr",
     "output_type": "stream",
     "text": [
      "/home/csouvigny/.conda/envs/pytorch/lib/python3.8/site-packages/tqdm/auto.py:22: TqdmWarning: IProgress not found. Please update jupyter and ipywidgets. See https://ipywidgets.readthedocs.io/en/stable/user_install.html\n",
      "  from .autonotebook import tqdm as notebook_tqdm\n"
     ]
    }
   ],
   "source": [
    "%matplotlib inline\n",
    "import pandas as pd \n",
    "import numpy as np\n",
    "import numpy.random as rnd\n",
    "import matplotlib.pyplot as plt\n",
    "from scipy import interpolate\n",
    "from scipy.ndimage import gaussian_filter1d\n",
    "from datetime import datetime\n",
    "import dill as pickle\n",
    "import warnings\n",
    "warnings.filterwarnings(\"ignore\", category=FutureWarning)\n",
    "from os import listdir\n",
    "from os.path import isfile, join\n",
    "\n",
    "# pip install \"snowflake-connector-python[pandas]\"\n",
    "# pip install \"snowflake-connector-python[secure-local-storage,pandas]\"\n",
    "import snowflake.connector\n",
    "from cryptography.hazmat.backends import default_backend\n",
    "from cryptography.hazmat.primitives import serialization\n",
    "\n",
    "#from sqlalchemy import create_engine\n",
    "#from snowflake.sqlalchemy import URL\n",
    "#from snowflake.connector import connect\n",
    "#from snowflake.connector.pandas_tools import write_pandas\n",
    "\n",
    "from lifelines import utils\n",
    "from lifelines import KaplanMeierFitter, CoxPHFitter, CoxTimeVaryingFitter, AalenAdditiveFitter\n",
    "from lifelines.utils import concordance_index\n",
    "from lifelines.calibration import survival_probability_calibration\n",
    "\n",
    "import optuna\n",
    "\n",
    "from pycox.utils import kaplan_meier\n",
    "from sklearn.preprocessing import StandardScaler, OneHotEncoder\n",
    "from sklearn_pandas import DataFrameMapper\n",
    "import torch\n",
    "import torchtuples as tt\n",
    "from pycox.datasets import metabric\n",
    "from pycox.models import CoxTime\n",
    "from pycox.models.cox_time import MLPVanillaCoxTime\n",
    "from pycox.evaluation import EvalSurv\n",
    "from pycox.models import CoxPH, CoxCC"
   ]
  },
  {
   "cell_type": "code",
   "execution_count": 9,
   "id": "10fa29ef",
   "metadata": {},
   "outputs": [],
   "source": [
    "def get_data(query):\n",
    "    with open(\"/home/shared/csouvign/rsa_key.p8\", \"rb\") as key:\n",
    "        p_key= serialization.load_pem_private_key(\n",
    "            key.read(),\n",
    "            password='2B@XS5E&!5%UCab'.encode(),\n",
    "        )\n",
    "\n",
    "    pkb = p_key.private_bytes(\n",
    "        encoding=serialization.Encoding.DER,\n",
    "        format=serialization.PrivateFormat.PKCS8,\n",
    "        encryption_algorithm=serialization.NoEncryption())\n",
    "\n",
    "    ctx = snowflake.connector.connect(\n",
    "        user='camille.souvigny@ubisoft.com',\n",
    "        account='ubisoft.us-east-1',\n",
    "        private_key=pkb,\n",
    "        warehouse='EMEA_ANALYTICS_COMMON',\n",
    "        database='SANDBOX',\n",
    "        schema='EMEA_ANALYTICS_CRM_PRIVATE',\n",
    "        role='SNK_F_EMEAANALYTICS_CRM_SB_DEV',\n",
    "        proxy_host='http://proxy.ubisoft.org',\n",
    "        proxy_port='3128'\n",
    "        )\n",
    "    try:\n",
    "        cur = ctx.cursor().execute(query)\n",
    "        df = cur.fetch_pandas_all()\n",
    "    except:\n",
    "        df = pd.DataFrame.from_records(iter(cur), columns=[x[0] for x in cur.description])\n",
    "    finally:\n",
    "        cur.close()\n",
    "        print(\"successfull closed connection\")\n",
    "    ctx.close()\n",
    "    return df\n",
    "\n",
    "\n",
    "def pb_at_conv(x):\n",
    "    #return  nb_covariate -1 + int(x.TEND) - 30\n",
    "    try :\n",
    "        return x[int(x.CONVERSION_DAYS_ACV)]\n",
    "    except :\n",
    "        return np.nan\n",
    "    \n",
    "def pb_at_conv_moins1M(x):\n",
    "    try :\n",
    "        return x[int(x.CONVERSION_DAYS_ACV) - 30]\n",
    "    except :\n",
    "        return np.nan\n",
    "    \n",
    "def pb_at_conv_plus1M(x):\n",
    "    try:\n",
    "        return x[int(x.CONVERSION_DAYS_ACV) + 30 ]\n",
    "    except :\n",
    "        return np.nan\n",
    "\n",
    "def pb_at_conv_plus10D(x):\n",
    "    try:\n",
    "        return x[int(x.CONVERSION_DAYS_ACV) + 10 ]\n",
    "    except :\n",
    "        return np.nan\n",
    "    \n",
    "def pred_AC_survival(pred_set, test_set):\n",
    "    pred_set['pb_conv']=pred_set.apply(pb_at_conv, axis=1)\n",
    "    pred_set['pb_conv_moins1M']=pred_set.apply(pb_at_conv_moins1M, axis=1)\n",
    "    pred_set['pb_conv_plus1M']=pred_set.apply(pb_at_conv_plus1M , axis=1)\n",
    "    pred_set['pb_conv_plus10D']=pred_set.apply(pb_at_conv_plus10D, axis=1)\n",
    "    return pred_set"
   ]
  },
  {
   "cell_type": "markdown",
   "id": "2f778763",
   "metadata": {},
   "source": [
    "### Import and data cleaning\n",
    "\n",
    "dataset query is stored in a SANDBOX.EMEA_ANALYTICS_CRM_PRIVATE.CS_AC_P2_PLAYERS_CONVERSION_ON_ACV view (running the view takes some time).\n",
    "current_date_key must be defined at the time we want to stop the analysis"
   ]
  },
  {
   "cell_type": "code",
   "execution_count": 10,
   "id": "0fc381c1",
   "metadata": {},
   "outputs": [],
   "source": [
    "def data_cleaning(df):\n",
    "    df[list(df.drop(['USER_KEY','CLUSTER_2021','CLUSTER_2022','P2_LAST_OWNED'], axis=1).select_dtypes(include = ['object']).columns)] = df[list(df.drop(['USER_KEY','CLUSTER_2021','CLUSTER_2022','P2_LAST_OWNED'], axis=1).select_dtypes(include=['object']).columns)].astype(float)\n",
    "    df.SENIORITY_WHEN_CONV_TO_LAST_OWNED[df.SENIORITY_WHEN_CONV_TO_LAST_OWNED.isna()] = df.SENIORITY_LAST_OWNED[df.SENIORITY_WHEN_CONV_TO_LAST_OWNED.isna()]\n",
    "    mean_playtime_one_pd = df[df.LAST_OWNED_PLAYTIME>=0][df.NB_PD_LAST_OWNED==1].LAST_OWNED_PLAYTIME.mean()\n",
    "    df.loc[df[df.LAST_OWNED_PLAYTIME.isna()].index,'LAST_OWNED_PLAYTIME'] = mean_playtime_one_pd\n",
    "    fill_zero={  \n",
    "            'LAST_OWNED_PLAYTIME_10D'        : 0\n",
    "           , 'PLAYTIME_LAST_OWNED_10D_RATIO' : 0\n",
    "           , 'MIN_P2_PLAYTIME_10D'           : 0\n",
    "           , 'MAX_P2_PLAYTIME_10D'           : 0\n",
    "           , 'AVG_P2_PLAYTIME_10D'           : 0\n",
    "           , 'SUM_P2_PLAYTIME_10D'           : 0\n",
    "           , 'MIN_AC_PLAYTIME_10D'           : 0\n",
    "           , 'MAX_AC_PLAYTIME_10D'           : 0\n",
    "           , 'AVG_AC_PLAYTIME_10D'           : 0\n",
    "           , 'SUM_AC_PLAYTIME_10D'           : 0\n",
    "           , 'MIN_PLAYTIME_10D_RATIO'        : 0 \n",
    "           , 'AVG_PLAYTIME_10D_RATIO'        : 0\n",
    "           , 'MAX_PLAYTIME_10D_RATIO'        : 0 \n",
    "           , 'MIN_P2_PLAYTIME'               : 0                   \n",
    "           , 'MAX_P2_PLAYTIME'               : 0                   \n",
    "           , 'AVG_P2_PLAYTIME'               : 0                   \n",
    "           , 'SUM_P2_PLAYTIME'               : 0\n",
    "           , 'MIN_AC_PLAYTIME'               : 0\n",
    "           , 'MAX_AC_PLAYTIME'               : 0\n",
    "           , 'AVG_AC_PLAYTIME'               : 0\n",
    "           , 'SUM_AC_PLAYTIME'               : 0\n",
    "           , 'AC_DLC'                        : 0\n",
    "           , 'AC_P2_DLC'                     : 0 \n",
    "           , 'AC_CURRENCY'                   : 0\n",
    "           , 'AC_P2_CURRENCY'                : 0 \n",
    "           , 'AC_SEASONPASS'                 : 0 \n",
    "           , 'AC_P2_SEASONPASS'              : 0 \n",
    "           , 'NB_ACTIVATION_PASS'            : 0\n",
    "           , 'PD_FW'                         : 0\n",
    "           , 'PD_AC_FW'                      : 0 \n",
    "           , 'PD_P2_FW'                      : 0 \n",
    "           , 'PD_ACV_FW'                     : 0\n",
    "           , 'PD_AC_OB'                      : 0 \n",
    "           , 'PD_P2_OB'                      : 0\n",
    "           , 'PD_TRIAL'                      : 0\n",
    "    }\n",
    "    df = df.fillna(value=fill_zero)\n",
    "    df = df.dropna(subset=['RECENCY_LAST_OWNED',\n",
    "                           'SENIORITY_LAST_OWNED',\n",
    "                           'NB_AC', 'PLAYED_ORIGINS',\n",
    "                           'ESTIM_BG','ESTIM_NET_BG',\n",
    "                           'PL_ACQUI', 'PL_NET_ACQUI',\n",
    "                            'P2_LAST_OWNED' ])\n",
    "    \n",
    "    df[\"P2_LAST_OWNED_ASSASSIN'S CREED ODYSSEY\"] =  df.P2_LAST_OWNED.apply(lambda x: 1 if x == \"ASSASSIN'S CREED ODYSSEY\" else 0)\n",
    "    df = df.drop([\"P2_LAST_OWNED\"], axis=1)\n",
    "    return df"
   ]
  },
  {
   "cell_type": "code",
   "execution_count": 11,
   "id": "72d5a54d",
   "metadata": {},
   "outputs": [
    {
     "name": "stdout",
     "output_type": "stream",
     "text": [
      "successfull closed connection\n"
     ]
    },
    {
     "data": {
      "text/html": [
       "<div>\n",
       "<style scoped>\n",
       "    .dataframe tbody tr th:only-of-type {\n",
       "        vertical-align: middle;\n",
       "    }\n",
       "\n",
       "    .dataframe tbody tr th {\n",
       "        vertical-align: top;\n",
       "    }\n",
       "\n",
       "    .dataframe thead th {\n",
       "        text-align: right;\n",
       "    }\n",
       "</style>\n",
       "<table border=\"1\" class=\"dataframe\">\n",
       "  <thead>\n",
       "    <tr style=\"text-align: right;\">\n",
       "      <th></th>\n",
       "      <th>status</th>\n",
       "    </tr>\n",
       "  </thead>\n",
       "  <tbody>\n",
       "    <tr>\n",
       "      <th>0</th>\n",
       "      <td>Statement executed successfully.</td>\n",
       "    </tr>\n",
       "  </tbody>\n",
       "</table>\n",
       "</div>"
      ],
      "text/plain": [
       "                             status\n",
       "0  Statement executed successfully."
      ]
     },
     "execution_count": 11,
     "metadata": {},
     "output_type": "execute_result"
    }
   ],
   "source": [
    "get_data('''set current_date_key=20220701; ''')"
   ]
  },
  {
   "cell_type": "code",
   "execution_count": 12,
   "id": "efcb4992",
   "metadata": {},
   "outputs": [
    {
     "name": "stdout",
     "output_type": "stream",
     "text": [
      "successfull closed connection\n",
      "Duration: 0:00:41.206637\n"
     ]
    },
    {
     "name": "stderr",
     "output_type": "stream",
     "text": [
      "/tmp/ipykernel_297/2589744841.py:3: SettingWithCopyWarning: \n",
      "A value is trying to be set on a copy of a slice from a DataFrame\n",
      "\n",
      "See the caveats in the documentation: https://pandas.pydata.org/pandas-docs/stable/user_guide/indexing.html#returning-a-view-versus-a-copy\n",
      "  df.SENIORITY_WHEN_CONV_TO_LAST_OWNED[df.SENIORITY_WHEN_CONV_TO_LAST_OWNED.isna()] = df.SENIORITY_LAST_OWNED[df.SENIORITY_WHEN_CONV_TO_LAST_OWNED.isna()]\n",
      "/tmp/ipykernel_297/2589744841.py:4: UserWarning: Boolean Series key will be reindexed to match DataFrame index.\n",
      "  mean_playtime_one_pd = df[df.LAST_OWNED_PLAYTIME>=0][df.NB_PD_LAST_OWNED==1].LAST_OWNED_PLAYTIME.mean()\n"
     ]
    },
    {
     "name": "stdout",
     "output_type": "stream",
     "text": [
      "missing values :  False\n",
      "all finite values :  True\n"
     ]
    }
   ],
   "source": [
    "#AC = get_data ('''  select * from CS_AC_P2_PLAYERS_CONVERSION_ON_ACV sample(10); ''')\n",
    "start_time = datetime.now()\n",
    "AC = get_data('''\n",
    "    WITH CTE AS (\n",
    "     SELECT \n",
    "      *,\n",
    "       ROW_NUMBER() OVER(PARTITION BY CONVERTED_VALHALLA \n",
    "                         ORDER BY RANDOM() ) AS start_order \n",
    "        FROM SANDBOX.EMEA_ANALYTICS_CRM_PRIVATE.CS_AC_P2_PLAYERS_CONVERSION_MODEL_ON_ACV \n",
    "        )\n",
    "        SELECT \n",
    "        *\n",
    "        FROM CTE\n",
    "        WHERE start_order <= (select count(*) * 1/100 from CTE);\n",
    "''')\n",
    "\n",
    "end_time = datetime.now()\n",
    "print('Duration: {}'.format(end_time - start_time))\n",
    "\n",
    "AC = data_cleaning(AC)\n",
    "print('missing values : ', np.any(np.isnan(AC.drop(['USER_KEY','CLUSTER_2021','CLUSTER_2022'], axis=1))))\n",
    "print('all finite values : ', np.all(np.isfinite(AC.drop(['USER_KEY','CLUSTER_2021','CLUSTER_2022'], axis=1))))"
   ]
  },
  {
   "cell_type": "code",
   "execution_count": 13,
   "id": "f349212b",
   "metadata": {},
   "outputs": [
    {
     "name": "stdout",
     "output_type": "stream",
     "text": [
      "successfull closed connection\n"
     ]
    },
    {
     "name": "stderr",
     "output_type": "stream",
     "text": [
      "/tmp/ipykernel_297/2589744841.py:3: SettingWithCopyWarning: \n",
      "A value is trying to be set on a copy of a slice from a DataFrame\n",
      "\n",
      "See the caveats in the documentation: https://pandas.pydata.org/pandas-docs/stable/user_guide/indexing.html#returning-a-view-versus-a-copy\n",
      "  df.SENIORITY_WHEN_CONV_TO_LAST_OWNED[df.SENIORITY_WHEN_CONV_TO_LAST_OWNED.isna()] = df.SENIORITY_LAST_OWNED[df.SENIORITY_WHEN_CONV_TO_LAST_OWNED.isna()]\n",
      "/tmp/ipykernel_297/2589744841.py:4: UserWarning: Boolean Series key will be reindexed to match DataFrame index.\n",
      "  mean_playtime_one_pd = df[df.LAST_OWNED_PLAYTIME>=0][df.NB_PD_LAST_OWNED==1].LAST_OWNED_PLAYTIME.mean()\n"
     ]
    }
   ],
   "source": [
    "test_last_month = get_data('''\n",
    "    with t as (select  AC.*\n",
    "           , TO_DATE((TO_CHAR(PR.FIRST_PLAYED_DATE_KEY)),'YYYYMMDD') - TO_DATE((TO_CHAR(20201110)),'YYYYMMDD') +1 as acv_acqui_delay_valid\n",
    "\n",
    "    from SANDBOX.EMEA_ANALYTICS_CRM_PRIVATE.CS_AC_P2_PLAYERS_CONVERSION_MODEL_ON_ACV AC\n",
    "        inner join UBICENTRAL.PLAY_SHARED.VW_AGG_FT_USER_PRODUCT PR\n",
    "            on PR.USER_KEY=AC.USER_KEY\n",
    "        inner join UBICENTRAL.PLAY_SHARED.VW_DIM_GENOME_DENORMALIZED_ACTIVE G \n",
    "            on G.GENOME_KEY=PR.GENOME_KEY\n",
    "    where CONVERTED_VALHALLA=0 \n",
    "        and  INSTALLMENT_DESCRIPTION like '%ASSASSIN%VALHALLA%' \n",
    "        and PR.CALCULATED_GAME_RELEASE_KEY=5\n",
    "        and FIRST_PLAYED_DATE_KEY > 20220701\n",
    "        and number_played_days > 0\n",
    "        QUALIFY RANK() OVER (PARTITION BY AC.USER_KEY ORDER BY PR.FIRST_PLAYED_DATE_KEY ASC)=1 \n",
    "        )\n",
    "        \n",
    " select *\n",
    " from t sample (20);\n",
    "''')\n",
    "\n",
    "test_last_month = data_cleaning(test_last_month)"
   ]
  },
  {
   "cell_type": "code",
   "execution_count": 14,
   "id": "91cf79cd",
   "metadata": {},
   "outputs": [
    {
     "name": "stdout",
     "output_type": "stream",
     "text": [
      "553578 records\n",
      "47.5% of records are censored\n"
     ]
    }
   ],
   "source": [
    "n_censored = AC.shape[0] - AC.CONVERTED_VALHALLA.sum()\n",
    "print((AC.shape[0]), \"records\")\n",
    "print(\"%.1f%% of records are censored\" % (n_censored / AC.shape[0] * 100))"
   ]
  },
  {
   "cell_type": "markdown",
   "id": "206e54ea",
   "metadata": {},
   "source": [
    "### Scale covariate and create input for NN"
   ]
  },
  {
   "cell_type": "code",
   "execution_count": 15,
   "id": "198a2aa1",
   "metadata": {},
   "outputs": [],
   "source": [
    "def input_preparation(df, df_futur_conversion_to_predict):\n",
    "    df_train = df\n",
    "    df_test = df_train.sample(frac=0.2)\n",
    "    df_train = df_train.drop(df_test.index)\n",
    "    df_val = df_train.sample(frac=0.2)\n",
    "    df_train = df_train.drop(df_val.index)\n",
    "    censored_test = df_test[df_test.CONVERTED_VALHALLA == 0]\n",
    "    cols_std = ['CONV_LAST_OWNED',\n",
    "               'P2_POST_LAUNCH_ARRIVAL',\n",
    "               'NB_AC', 'SENIORITY_AC',\n",
    "               'RECENCY_AC', 'LIFETIME_AC', 'RECENCY_LAST_OWNED',\n",
    "               'SENIORITY_LAST_OWNED', 'SENIORITY_P2', 'RECENCY_P2', 'NB_PD_AC',\n",
    "               'NB_PD_AC_2021', 'NB_PD_AC_2022', 'NB_PD_P2', 'NB_PD_LAST_OWNED',\n",
    "               'PROP_ACOD_AC', 'AVG_PD_P2', 'PROP_MOST_AC', 'PROP_LEAST_AC',\n",
    "               'AVG_PD_AC', 'SENIORITY_WHEN_CONV_TO_LAST_OWNED', 'MIN_P2_LIFETIME',\n",
    "               'MAX_P2_LIFETIME', 'AVG_P2_LIFETIME', 'MIN_LIFETIME_AC',\n",
    "               'MAX_LIFETIME_AC', 'AVG_LIFETIME_AC', 'MIN_P2_ACQ_DELAY',\n",
    "               'MAX_P2_ACQ_DELAY', 'AVG_P2_ACQ_DELAY', 'MIN_AC_ACQ_DELAY',\n",
    "               'MAX_AC_ACQ_DELAY', 'AVG_AC_ACQ_DELAY', 'NB_GAMES', 'NB_BRANDS',\n",
    "               'NB_GAMES_2022', 'SENIORITY', 'RECENCY', 'NB_PD', 'NB_PD_2021',\n",
    "               'NB_PD_2022', 'PROP_SD_GAMES', 'PROP_MOST_GAME', 'AVG_PD',\n",
    "               'PROP_LEAST_GAME', 'MIN_LIFETIME',  'MAX_LIFETIME', 'AVG_LIFETIME', 'SD_LAST_OWNED_10D',\n",
    "               'SD_RATIO_LAST_OWNED_10D', 'MIN_P2_SD_10D', 'MAX_P2_SD_10D',\n",
    "               'AVG_P2_SD_10D', 'MIN_AC_SD_10D', 'MAX_AC_SD_10D', 'AVG_AC_SD_10D',\n",
    "               'MIN_P2_SD_RATIO_10D', 'MAX_P2_SD_RATIO_10D', 'AVG_P2_SD_RATIO_10D',\n",
    "               'MIN_AC_SD_RATIO_10D', 'MAX_AC_SD_RATIO_10D', 'AVG_AC_SD_RATIO_10D',\n",
    "               'MIN_P2_SD_1M', 'MAX_P2_SD_1M', 'AVG_P2_SD_1M', 'MIN_AC_SD_1M',\n",
    "               'MAX_AC_SD_1M', 'AVG_AC_SD_1M', 'MIN_P2_SD_RATIO_1M',\n",
    "               'MAX_P2_SD_RATIO_1M', 'AVG_P2_SD_RATIO_1M', 'MIN_AC_SD_RATIO_1M',\n",
    "               'MAX_AC_SD_RATIO_1M', 'AVG_AC_SD_RATIO_1M', 'LAST_OWNED_PLAYTIME',\n",
    "               'LAST_OWNED_PLAYTIME_10D', 'PLAYTIME_LAST_OWNED_10D_RATIO',\n",
    "               'MIN_P2_PLAYTIME', 'MAX_P2_PLAYTIME', 'AVG_P2_PLAYTIME',\n",
    "               'SUM_P2_PLAYTIME', 'MIN_P2_PLAYTIME_10D', 'MAX_P2_PLAYTIME_10D',\n",
    "               'AVG_P2_PLAYTIME_10D', 'SUM_P2_PLAYTIME_10D', 'MIN_AC_PLAYTIME',\n",
    "               'MAX_AC_PLAYTIME', 'AVG_AC_PLAYTIME', 'SUM_AC_PLAYTIME',\n",
    "               'MIN_AC_PLAYTIME_10D', 'MAX_AC_PLAYTIME_10D', 'AVG_AC_PLAYTIME_10D',\n",
    "               'SUM_AC_PLAYTIME_10D', 'MIN_PLAYTIME_10D_RATIO',\n",
    "               'AVG_PLAYTIME_10D_RATIO', 'MAX_PLAYTIME_10D_RATIO', 'LEVEL_LAST_OWNED', 'PD_FW', 'PD_AC_FW',\n",
    "               'PD_P2_FW', 'PD_ACV_FW', 'PD_AC_OB', 'PD_P2_OB', 'PD_TRIAL',\n",
    "               'NB_ACTIVATION_PASS', 'AC_DLC', 'AC_P2_DLC', 'AC_CURRENCY',\n",
    "               'AC_P2_CURRENCY', 'AC_SEASONPASS', 'AC_P2_SEASONPASS', 'ESTIM_BG',\n",
    "               'ESTIM_NET_BG', 'PL_ACQUI', 'PL_NET_ACQUI',\n",
    "           ]\n",
    "    \n",
    "    cols_bin = [\"P2_LAST_OWNED_ASSASSIN'S CREED ODYSSEY\",\n",
    "                \"PLAYED_ORIGINS\", \"PLAYED_ODYSSEY\"] \n",
    "\n",
    "    standardize = [([col], StandardScaler()) for col in cols_std]\n",
    "    leave = [(col, None) for col in cols_bin]\n",
    "\n",
    "    x_mapper_float = DataFrameMapper(standardize + leave)\n",
    "\n",
    "    x_train = x_mapper_float.fit_transform(df_train).astype('float32')\n",
    "    x_val = x_mapper_float.transform(df_val).astype('float32')\n",
    "    x_test = x_mapper_float.transform(df_test).astype('float32')\n",
    "    x_to_predict = x_mapper_float.transform(df_futur_conversion_to_predict).astype('float32')\n",
    "    x_censored_test = x_mapper_float.transform(censored_test).astype('float32')\n",
    "    \n",
    "    labtrans = CoxTime.label_transform() # standardize durations\n",
    "    get_target = lambda df: (df['CONVERSION_DAYS_ACV'].values, df['CONVERTED_VALHALLA'].values)\n",
    "    y_train = labtrans.fit_transform(*get_target(df_train))\n",
    "    y_val = labtrans.transform(*get_target(df_val))\n",
    "    durations_test, events_test = get_target(df_test)\n",
    "    val = tt.tuplefy(x_val, y_val)\n",
    "    \n",
    "    return df_train, df_test, x_train, x_val, x_test, x_to_predict, x_censored_test, y_train, y_val, durations_test, events_test, val, labtrans"
   ]
  },
  {
   "cell_type": "code",
   "execution_count": 16,
   "id": "8068c6d7",
   "metadata": {},
   "outputs": [],
   "source": [
    "df_train, df_test, x_train, x_val, x_test, x_to_predict, x_censored_test, y_train, y_val, durations_test, events_test, val, labtrans = input_preparation(AC, test_last_month)"
   ]
  },
  {
   "cell_type": "markdown",
   "id": "8361aac3",
   "metadata": {},
   "source": [
    "## Kaplan Meyer estimates\n",
    "look at conversion rate through time per cohorts"
   ]
  },
  {
   "cell_type": "markdown",
   "id": "18f5327c",
   "metadata": {},
   "source": [
    "### Conversion rate through time"
   ]
  },
  {
   "cell_type": "code",
   "execution_count": 17,
   "id": "ade3689e",
   "metadata": {},
   "outputs": [
    {
     "data": {
      "text/plain": [
       "Text(0.5, 0, 'Time (days)')"
      ]
     },
     "execution_count": 17,
     "metadata": {},
     "output_type": "execute_result"
    },
    {
     "data": {
      "image/png": "[encoded data removed]",
      "text/plain": [
       "<Figure size 432x288 with 1 Axes>"
      ]
     },
     "metadata": {
      "needs_background": "light"
     },
     "output_type": "display_data"
    }
   ],
   "source": [
    "kmf = KaplanMeierFitter()\n",
    "kmf.fit(durations = AC.CONVERSION_DAYS_ACV, event_observed = AC.CONVERTED_VALHALLA)\n",
    "kmf.plot_cumulative_density(label='Conversion rate through time of ACOD players')\n",
    "plt.ylabel('Conversion rate')\n",
    "plt.xlabel('Time (days)')"
   ]
  },
  {
   "cell_type": "markdown",
   "id": "f70ceda5",
   "metadata": {},
   "source": [
    "### Conversion rate through time per cohorts of continuous of categorical variables"
   ]
  },
  {
   "cell_type": "code",
   "execution_count": 18,
   "id": "dd0505e1",
   "metadata": {},
   "outputs": [
    {
     "data": {
      "text/plain": [
       "Text(0.5, 0, 'Time (days)')"
      ]
     },
     "execution_count": 18,
     "metadata": {},
     "output_type": "execute_result"
    },
    {
     "data": {
      "image/png": "[encoded data removed]",
      "text/plain": [
       "<Figure size 432x288 with 1 Axes>"
      ]
     },
     "metadata": {
      "needs_background": "light"
     },
     "output_type": "display_data"
    }
   ],
   "source": [
    "kmf = KaplanMeierFitter()\n",
    "kmf.fit(durations = AC.CONVERSION_DAYS_ACV, event_observed = AC.CONVERTED_VALHALLA)\n",
    "kmf.plot_cumulative_density(label='Conversion rate through time of ACOD players')\n",
    "\n",
    "kmf2 = KaplanMeierFitter()\n",
    "kmf2.fit(durations = AC[AC[\"P2_LAST_OWNED_ASSASSIN'S CREED ODYSSEY\"] ==1].CONVERSION_DAYS_ACV, event_observed = AC[AC[\"P2_LAST_OWNED_ASSASSIN'S CREED ODYSSEY\"] ==1].CONVERTED_VALHALLA)\n",
    "kmf2.plot_cumulative_density(label='Conversion rate through time when last ACOD played is Odyssey')\n",
    "\n",
    "\n",
    "kmf3 = KaplanMeierFitter()\n",
    "kmf3.fit(durations = AC[AC[\"P2_LAST_OWNED_ASSASSIN'S CREED ODYSSEY\"] == 0].CONVERSION_DAYS_ACV, event_observed = AC[AC[\"P2_LAST_OWNED_ASSASSIN'S CREED ODYSSEY\"] == 0].CONVERTED_VALHALLA)\n",
    "kmf3.plot_cumulative_density(label='Conversion rate through time when last ACOD played is Origins')\n",
    "plt.ylabel('Conversion rate')\n",
    "plt.xlabel('Time (days)')"
   ]
  },
  {
   "cell_type": "markdown",
   "id": "e921d17f",
   "metadata": {},
   "source": [
    "## Non linear Cox Models\n",
    "\n",
    "Cox model minimizes log-likelihod by using Newton-Raphson's method\n",
    "Here, Pycox Neural Networks uses mini-batch stochastic gradient descent to better scale large datasets."
   ]
  },
  {
   "cell_type": "markdown",
   "id": "6984775e",
   "metadata": {},
   "source": [
    "get_target = lambda df: (df['CONVERSION_DAYS_ACV'].values, df['CONVERTED_VALHALLA'].values)\n",
    "y_train = get_target(df_train)\n",
    "y_val = get_target(df_val)\n",
    "durations_test, events_test = get_target(df_test)\n",
    "durations_to_predict, events_to_predict = get_target(test_last_month)\n",
    "val = x_val, y_val"
   ]
  },
  {
   "cell_type": "markdown",
   "id": "7bfad3d7",
   "metadata": {},
   "source": [
    "def tuple_from_array(x):\n",
    "    return tuple(x)\n",
    "y_train = np.array(pd.DataFrame(y_train).apply(tuple_from_array , axis=1))\n",
    "a,b= tt.tuplefy(x_train, y_train).to_numpy()"
   ]
  },
  {
   "cell_type": "markdown",
   "id": "19cf16b9",
   "metadata": {},
   "source": [
    "import os\n",
    "onlyfiles = [f for f in listdir(\"/home/shared/csouvign/\") if isfile(join(\"/home/shared/csouvign/\", f))]\n",
    "\n",
    "hyper_results = {}\n",
    "\n",
    "start_time = datetime.now()\n",
    "\n",
    "for f_name in onlyfiles: \n",
    "    if \"class 'torchtuples.\" in f_name :\n",
    "        os.remove(f_name)\n",
    "        "
   ]
  },
  {
   "cell_type": "markdown",
   "id": "00324038",
   "metadata": {},
   "source": [
    "### Network Tuning with Optuna"
   ]
  },
  {
   "cell_type": "code",
   "execution_count": 1,
   "id": "19461a1f",
   "metadata": {},
   "outputs": [],
   "source": [
    "# Non linear Coc model with proportional hazard\n",
    "def objective_coxcc(trial):\n",
    "    in_features = x_train.shape[1]\n",
    "    out_features = 1\n",
    "    batch_norm = True\n",
    "    output_bias = False\n",
    "    callbacks = [tt.callbacks.EarlyStopping()]\n",
    "    verbose = True\n",
    "    epochs = 512\n",
    "    verbose = True\n",
    " \n",
    "    lr = trial.suggest_float(\"lr\", 0.01, 0.1)\n",
    "    dropout = trial.suggest_float(\"dropout\", 0.05, 0.3)\n",
    "    batch_size = trial.suggest_int(\"batch_size\", 230, 300)\n",
    "    optimizer = trial.suggest_categorical(\"optimizer\",  [tt.optim.Adam, tt.optim.AdamW])\n",
    "    num_nodes = trial.suggest_categorical(\"num_nodes\", [[32, 32], [64, 32], [64, 64], [100, 64], [64, 32, 32], [32, 32, 32]])\n",
    "    net = tt.practical.MLPVanilla(in_features, num_nodes, out_features, batch_norm,\n",
    "                                  dropout, output_bias=output_bias) \n",
    "    best_model = CoxCC(net, optimizer) \n",
    "    best_model.optimizer.set_lr(lr)\n",
    "    log = best_model.fit(x_train, y_train, batch_size, \n",
    "                         epochs, callbacks, verbose,\n",
    "                         val_data = val, val_batch_size = batch_size)\n",
    "    \n",
    "    bas_cum_haz = best_model.compute_baseline_hazards().cumsum()\n",
    "    surv_test = best_model.predict_surv_df(x_test)\n",
    "    ev = EvalSurv(surv_test, durations_test, events_test, censor_surv='km')\n",
    "    time_grid = np.linspace(durations_test.min(), durations_test.max(), 500)\n",
    "\n",
    "    return ev.concordance_td()\n",
    "\n",
    "# Non linear Coc model with time varying coefficients\n",
    "def objective_coxtime(trial):\n",
    "    in_features = x_train.shape[1]\n",
    "    batch_norm = True\n",
    "    callbacks = [tt.callbacks.EarlyStopping()]\n",
    "    verbose = True\n",
    "    epochs = 512\n",
    "    verbose = True\n",
    " \n",
    "    lr = trial.suggest_float(\"lr\", 0.01, 0.1)\n",
    "    dropout = trial.suggest_float(\"dropout\", 0.05, 0.3)\n",
    "    batch_size = trial.suggest_int(\"batch_size\", 230, 300)\n",
    "    optimizer = trial.suggest_categorical(\"optimizer\",  [tt.optim.Adam, tt.optim.AdamW])\n",
    "    num_nodes = trial.suggest_categorical(\"num_nodes\", [[32, 32], [64, 32], [64, 64], [100, 64], [64, 32, 32], [32, 32, 32]])\n",
    "    \n",
    "    net = MLPVanillaCoxTime(in_features, num_nodes, batch_norm, dropout)\n",
    "    best_model = CoxTime(net, optimizer, labtrans=labtrans)\n",
    "    best_model.optimizer.set_lr(lr)\n",
    "    \n",
    "    log = best_model.fit(x_train, y_train, batch_size,\n",
    "                    epochs, callbacks, verbose,\n",
    "                    val_data=val.repeat(10).cat())\n",
    "    \n",
    "    bas_cum_haz = best_model.compute_baseline_hazards().cumsum()\n",
    "    surv_test = best_model.predict_surv_df(x_test)\n",
    "    ev = EvalSurv(surv_test, durations_test, events_test, censor_surv='km')\n",
    "    time_grid = np.linspace(durations_test.min(), durations_test.max(), 500)\n",
    "    return ev.concordance_td()"
   ]
  },
  {
   "cell_type": "code",
   "execution_count": 23,
   "id": "f993d75a",
   "metadata": {},
   "outputs": [],
   "source": [
    "study = optuna.create_study(\n",
    "   pruner=optuna.pruners.MedianPruner(\n",
    "       n_startup_trials=3, n_warmup_steps=5, interval_steps=3 ),\n",
    "    direction='maximize')\n",
    "\n",
    "study.optimize(objective_coxtime, n_trials=100) # tune with a 1% sample maximum\n",
    "trial = study.best_trial\n",
    "\n",
    "pickle.dump(study, open( \"/home/shared/csouvign/CoxTime_Tuning_Trials.pickle\", \"wb\" ) )\n"
   ]
  },
  {
   "cell_type": "code",
   "execution_count": 19,
   "id": "374b70f5",
   "metadata": {},
   "outputs": [
    {
     "name": "stdout",
     "output_type": "stream",
     "text": [
      "Best Score:  0.9620514507878339\n",
      "Best Params: \n",
      "  lr: 0.03126235361745272\n",
      "  dropout: 0.2037704702692371\n",
      "  batch_size: 279\n",
      "  optimizer: <class 'torchtuples.optim.AdamW'>\n",
      "  num_nodes: [32, 32]\n"
     ]
    }
   ],
   "source": [
    "best_trial = pickle.load(open( \"/home/shared/csouvign/CoxCC_Tuning_Trials.pickle\", \"rb\" ) ).best_trial\n",
    "print(\"Best Score: \", best_trial.value)\n",
    "print(\"Best Params: \")\n",
    "for key, value in best_trial.params.items():\n",
    "    print(\"  {}: {}\".format(key, value))"
   ]
  },
  {
   "cell_type": "markdown",
   "id": "54aa0dd8",
   "metadata": {},
   "source": [
    "### Final Model fitting"
   ]
  },
  {
   "cell_type": "code",
   "execution_count": 20,
   "id": "4ccf6e7e",
   "metadata": {},
   "outputs": [],
   "source": [
    "model = pickle.load(open( \"/home/shared/csouvign/CoxTime_Finale.pickle\", \"rb\" ) )"
   ]
  },
  {
   "cell_type": "code",
   "execution_count": 12,
   "id": "3dbb9c54",
   "metadata": {},
   "outputs": [],
   "source": [
    "# 3 fois plus long que CoxCC\n",
    "in_features = x_train.shape[1]\n",
    "num_nodes = best_trial.params['num_nodes']\n",
    "batch_norm = True\n",
    "dropout = best_trial.params['dropout']\n",
    "batch_size = best_trial.params['batch_size']\n",
    "epochs = 280\n",
    "callbacks = [tt.callbacks.EarlyStopping()]\n",
    "verbose = True\n",
    "\n",
    "net = MLPVanillaCoxTime(in_features, num_nodes, batch_norm, dropout)\n",
    "model = CoxTime(net, best_trial.params['optimizer'], labtrans=labtrans)\n",
    "\n",
    "model.optimizer.set_lr(best_trial.params['lr']) # to change\n",
    "\n",
    "log = model.fit(x_train, y_train, batch_size, epochs, callbacks, verbose,\n",
    "                val_data=val.repeat(10).cat())\n",
    "\n",
    "pickle.dump(model, open( \"/home/shared/csouvign/CoxTime_Finale.pickle\", \"wb\" ) )\n"
   ]
  },
  {
   "cell_type": "markdown",
   "id": "dcff707d",
   "metadata": {},
   "source": [
    "in_features = x_train.shape[1]\n",
    "num_nodes = [32, 32] #trial.params['num_nodes']\n",
    "out_features = 1\n",
    "batch_norm = True\n",
    "output_bias = False\n",
    "epochs = 512\n",
    "dropout = 0.2 #trial.params['dropout']\n",
    "verbose = True\n",
    "batch_size = 256 #trial.params['batch_size']\n",
    "optimizer = tt.optim.Adam #trial.params['optimizer']\n",
    "callbacks = [tt.callbacks.EarlyStopping()]\n",
    "\n",
    "net = tt.practical.MLPVanilla(in_features, num_nodes, out_features, batch_norm,\n",
    "                              dropout, output_bias=output_bias)\n",
    "\n",
    "model_CoxCC = CoxCC(net, optimizer) \n",
    "lrfinder_CoxCC = model_CoxCC.lr_finder(x_train, y_train, batch_size, tolerance=10)\n",
    "_ = lrfinder_CoxCC.plot()\n",
    "\n",
    "best_lr = lrfinder_CoxCC.get_best_lr()\n",
    "print(best_lr) # learning rate seems bit high\n",
    "\n",
    "model_CoxCC.optimizer.set_lr(0.1)\n",
    "log_CoxCC = model_CoxCC.fit(x_train, y_train, batch_size, epochs, callbacks, verbose,\n",
    "                val_data=val, val_batch_size=batch_size)\n",
    "\n",
    "pickle.dump(model_CoxCC, open( \"/home/shared/csouvign/model_CoxCC.pickle\", \"wb\" ) )\n",
    "\n",
    "_ = log_CoxCC.plot()"
   ]
  },
  {
   "cell_type": "markdown",
   "id": "b35eea22",
   "metadata": {},
   "source": [
    "model_CoxCC = pickle.load( open( \"/home/shared/csouvign/model_CoxCC.pickle\", \"rb\" ) )"
   ]
  },
  {
   "cell_type": "markdown",
   "id": "07805997",
   "metadata": {},
   "source": [
    "### Evaluate model performances"
   ]
  },
  {
   "cell_type": "markdown",
   "id": "997fd8d7",
   "metadata": {},
   "source": [
    "for num_workers in [0, 4 * os.cpu_count()]:\n",
    "    start = datetime.now()\n",
    "    # moins 600 \n",
    "    test_survival = extrapolated_predict_survival_CoxTime(model, x_test[0:10000], 780, batch_size, verbose, model.baseline_hazards_, num_workers = num_workers)\n",
    "    end = datetime.now()\n",
    "    print(\"Finish with:{} second, num_workers={}\".format(end - start, num_workers))"
   ]
  },
  {
   "cell_type": "code",
   "execution_count": 21,
   "id": "28976bed",
   "metadata": {},
   "outputs": [],
   "source": [
    "# On large dataset can't predict all datas at once, need to work with batch size \n",
    "def extrapolated_predict_survival_CoxTime(model, input, max_duration, baseline_hazards_ , \n",
    "                                           batch_size = 8224, verbose = False, eval_=True, num_workers=0 ):\n",
    "    def pred_partial_haz_time_t(t):\n",
    "        t = np.repeat(t, n_cols).reshape(-1, 1).astype('float32')\n",
    "        if tt.tuplefy(input).type() is torch.Tensor:\n",
    "            t = torch.from_numpy(t)\n",
    "        return np.exp(model.predict((input, t), batch_size, True, eval_, num_workers=num_workers)).flatten()\n",
    "\n",
    "    def interpolate_baseline(baseline_hazards_):\n",
    "        f_base_haz = interpolate.interp1d(np.arange(1,baseline_hazards_.shape[0]+1) , baseline_hazards_.cumsum() , fill_value='extrapolate')\n",
    "        f_standard_time = interpolate.interp1d(np.arange(1,baseline_hazards_.shape[0]+1) , model.baseline_hazards_.index , fill_value='extrapolate')\n",
    "\n",
    "        new_axis_range = np.arange(1, max_duration, 1)\n",
    "        return pd.DataFrame(np.diff(f_base_haz(new_axis_range), prepend=0), index = f_standard_time(new_axis_range) ) \n",
    "\n",
    "\n",
    "    input = tt.tuplefy(input)\n",
    "    max_duration = np.inf if max_duration is None else max_duration\n",
    "    baseline_hazards_ = interpolate_baseline(baseline_hazards_)\n",
    "    n_rows, n_cols = baseline_hazards_.shape[0], input.lens().flatten().get_if_all_equal()\n",
    "    hazards = np.empty((n_rows, n_cols))\n",
    "    for idx, t in enumerate(baseline_hazards_.index):\n",
    "        if verbose:\n",
    "                print(idx, 'of', len(baseline_hazards_))\n",
    "        hazards[idx, :] = pred_partial_haz_time_t(t)\n",
    "        \n",
    "    #hazards[baseline_hazards_.values == 0] = 0.  # in case hazards are inf here\n",
    "    hazards *= baseline_hazards_.values.reshape(-1, 1)\n",
    "    return np.exp ( - pd.DataFrame(hazards, index=np.arange(1, max_duration, 1)).cumsum())\n",
    "\n",
    "def extrapolated_predict_survival_CoxCC(model, input, max_duration, baseline_hazards_):\n",
    "    f = interpolate.interp1d(baseline_hazards_.index, baseline_hazards_.cumsum(), fill_value='extrapolate')\n",
    "    xnew = np.arange(1, max_duration, 1)  \n",
    "    baseline_cum_hazards = pd.DataFrame(f(xnew), index=np.arange(1, max_duration, 1))\n",
    "    partial_haz = np.exp(model.predict(input))\n",
    "    return pd.DataFrame(np.exp(- np.dot(baseline_cum_hazards , pd.DataFrame(partial_haz).T)))"
   ]
  },
  {
   "cell_type": "code",
   "execution_count": null,
   "id": "fd9bd755",
   "metadata": {},
   "outputs": [],
   "source": [
    "bas_cum_haz = model.compute_baseline_hazards().cumsum()\n",
    "plt.plot(bas_cum_haz, label='Cumulative hazard CoxTime')\n",
    "plt.legend(loc=\"upper left\")\n",
    "plt.show()\n",
    "\n",
    "max_time = df_train.CONVERSION_DAYS_ACV.max()\n",
    "\n",
    "test_survival = extrapolated_predict_survival_CoxTime(model, x_test, max_time + 180,  baseline_hazards_ = model.baseline_hazards_ )\n",
    "#pickle.dump(test_survival, open( \"/home/shared/csouvign/test_survival_CoxTime.pickle\", \"wb\" ) ) "
   ]
  },
  {
   "cell_type": "code",
   "execution_count": null,
   "id": "423b3eee",
   "metadata": {},
   "outputs": [],
   "source": [
    "ev = EvalSurv(test_survival.iloc[0:max_time], durations_test, events_test, censor_surv='km')\n",
    "time_grid = np.linspace(durations_test.min(), durations_test.max(), 200)\n",
    "_ = ev.brier_score(time_grid).plot()\n",
    "print('CoxCC concordance', ev.concordance_td())\n",
    "print('CoxCC brier score', ev.integrated_brier_score(time_grid))\n",
    "#print('partial log likelihood', model.partial_log_likelihood(*val).mean())"
   ]
  },
  {
   "cell_type": "code",
   "execution_count": null,
   "id": "24e1d399",
   "metadata": {},
   "outputs": [],
   "source": [
    "(1 - test_survival.iloc[:, 5:25]) .plot()\n",
    "plt.ylabel('Acquistition of game (t | X)')\n",
    "_ = plt.xlabel('Time')\n"
   ]
  },
  {
   "cell_type": "code",
   "execution_count": null,
   "id": "576f2f89",
   "metadata": {},
   "outputs": [],
   "source": [
    "df_pred = df_test.reset_index(drop=True).join(test_survival.T)\n",
    "df_pred = pred_AC_survival(df_pred, df_test)\n",
    "\n",
    "fig, [ax1, ax2, ax3] = plt.subplots(nrows=3, ncols=1)\n",
    "ax1.plot(1- test_survival.T.mean(), label='Conversion pb on test set')\n",
    "ax1.legend(loc=\"lower right\")\n",
    "\n",
    "ax2.plot(1-df_pred[df_pred.CONVERTED_VALHALLA==0].loc[:,1:max_time + 179].mean(), label='Conversion pb on test set for censored players')\n",
    "ax2.legend(loc=\"upper left\")\n",
    "\n",
    "ax3.plot(1-df_pred[df_pred.CONVERTED_VALHALLA==1].loc[:,1:max_time + 179].mean(), label='Conversion pb on test set for converted players')\n",
    "ax3.legend(loc=\"lower right\")"
   ]
  },
  {
   "cell_type": "code",
   "execution_count": null,
   "id": "fa976781",
   "metadata": {},
   "outputs": [],
   "source": [
    "print('predicted conversion at CONV on ACV - 30 days : ', 1 - df_pred[df_pred.CONVERTED_VALHALLA==0].pb_conv_moins1M.mean() )\n",
    "print('predicted conversion at CONV at censoring (601 days) : ', 1 - df_pred[df_pred.CONVERTED_VALHALLA==0].pb_conv.mean() )\n",
    "print('predicted conversion at CONV at censoring (660 days) : ', 1 - df_pred[df_pred.CONVERTED_VALHALLA==0][660].mean() )\n",
    "\n",
    "print('predicted conversion at CONV on ACV : ', 1-df_pred.pb_conv[df_pred.CONVERTED_VALHALLA==1].mean() )\n",
    "print('predicted conversion at CONV on ACV - 30 days : ', 1-df_pred.pb_conv_moins1M[df_pred.CONVERTED_VALHALLA==1][df_pred.CONVERSION_DAYS_ACV>30].mean() )\n",
    "print('predicted conversion at CONV on ACV + 10 days : ', 1-df_pred.pb_conv_plus10D[df_pred.CONVERTED_VALHALLA==1][df_pred.CONVERSION_DAYS_ACV<588].mean() )\n",
    "print('predicted conversion at CONV on ACV + 30 days : ', 1-df_pred.pb_conv_plus1M[df_pred.CONVERTED_VALHALLA==1][df_pred.CONVERSION_DAYS_ACV<565].mean() )\n",
    "print('pred accuracy : ', df_pred[df_pred.CONVERTED_VALHALLA==1][df_pred.pb_conv<0.5].shape[0]*100/df_pred[df_pred.CONVERTED_VALHALLA==1].shape[0] )\n",
    "print('pred accuracy at t+10 days : ' , df_pred[df_pred.CONVERTED_VALHALLA==1][df_pred.pb_conv_plus10D<0.5].shape[0]*100 / df_pred[df_pred.CONVERTED_VALHALLA==1].shape[0] )\n",
    "print('pred accuracy at t+30 days : ' , df_pred[df_pred.CONVERTED_VALHALLA==1][df_pred.pb_conv_plus1M<0.5].shape[0]*100/ df_pred[df_pred.CONVERTED_VALHALLA==1].shape[0] )"
   ]
  },
  {
   "cell_type": "code",
   "execution_count": null,
   "id": "f890fac1",
   "metadata": {},
   "outputs": [],
   "source": [
    "df_pred"
   ]
  },
  {
   "cell_type": "code",
   "execution_count": null,
   "id": "03e0bda3",
   "metadata": {},
   "outputs": [],
   "source": [
    "res = next(x for x, val in enumerate(df_pred.loc[:,1:max_time + 179].iloc[2]) if val <= 0.1) \n",
    "res"
   ]
  },
  {
   "cell_type": "code",
   "execution_count": 63,
   "id": "93f19256",
   "metadata": {},
   "outputs": [
    {
     "ename": "StopIteration",
     "evalue": "",
     "output_type": "error",
     "traceback": [
      "\u001b[0;31m---------------------------------------------------------------------------\u001b[0m",
      "\u001b[0;31mStopIteration\u001b[0m                             Traceback (most recent call last)",
      "Input \u001b[0;32mIn [63]\u001b[0m, in \u001b[0;36m<cell line: 5>\u001b[0;34m()\u001b[0m\n\u001b[1;32m      2\u001b[0m     res \u001b[38;5;241m=\u001b[39m \u001b[38;5;28mnext\u001b[39m(x \u001b[38;5;28;01mfor\u001b[39;00m x, val \u001b[38;5;129;01min\u001b[39;00m \u001b[38;5;28menumerate\u001b[39m(row) \u001b[38;5;28;01mif\u001b[39;00m val \u001b[38;5;241m<\u001b[39m\u001b[38;5;241m=\u001b[39m \u001b[38;5;241m0.99\u001b[39m) \n\u001b[1;32m      3\u001b[0m     \u001b[38;5;28;01mreturn\u001b[39;00m res \u001b[38;5;241m+\u001b[39m \u001b[38;5;241m1\u001b[39m\n\u001b[0;32m----> 5\u001b[0m \u001b[43mdf_pred\u001b[49m\u001b[38;5;241;43m.\u001b[39;49m\u001b[43mloc\u001b[49m\u001b[43m[\u001b[49m\u001b[43m:\u001b[49m\u001b[43m,\u001b[49m\u001b[38;5;241;43m1\u001b[39;49m\u001b[43m:\u001b[49m\u001b[43mmax_time\u001b[49m\u001b[43m \u001b[49m\u001b[38;5;241;43m+\u001b[39;49m\u001b[43m \u001b[49m\u001b[38;5;241;43m179\u001b[39;49m\u001b[43m]\u001b[49m\u001b[38;5;241;43m.\u001b[39;49m\u001b[43mT\u001b[49m\u001b[38;5;241;43m.\u001b[39;49m\u001b[43mapply\u001b[49m\u001b[43m(\u001b[49m\u001b[43mmedian_time\u001b[49m\u001b[43m)\u001b[49m\n",
      "File \u001b[0;32m~/.conda/envs/pytorch/lib/python3.8/site-packages/pandas/core/frame.py:8845\u001b[0m, in \u001b[0;36mDataFrame.apply\u001b[0;34m(self, func, axis, raw, result_type, args, **kwargs)\u001b[0m\n\u001b[1;32m   8834\u001b[0m \u001b[38;5;28;01mfrom\u001b[39;00m \u001b[38;5;21;01mpandas\u001b[39;00m\u001b[38;5;21;01m.\u001b[39;00m\u001b[38;5;21;01mcore\u001b[39;00m\u001b[38;5;21;01m.\u001b[39;00m\u001b[38;5;21;01mapply\u001b[39;00m \u001b[38;5;28;01mimport\u001b[39;00m frame_apply\n\u001b[1;32m   8836\u001b[0m op \u001b[38;5;241m=\u001b[39m frame_apply(\n\u001b[1;32m   8837\u001b[0m     \u001b[38;5;28mself\u001b[39m,\n\u001b[1;32m   8838\u001b[0m     func\u001b[38;5;241m=\u001b[39mfunc,\n\u001b[0;32m   (...)\u001b[0m\n\u001b[1;32m   8843\u001b[0m     kwargs\u001b[38;5;241m=\u001b[39mkwargs,\n\u001b[1;32m   8844\u001b[0m )\n\u001b[0;32m-> 8845\u001b[0m \u001b[38;5;28;01mreturn\u001b[39;00m \u001b[43mop\u001b[49m\u001b[38;5;241;43m.\u001b[39;49m\u001b[43mapply\u001b[49m\u001b[43m(\u001b[49m\u001b[43m)\u001b[49m\u001b[38;5;241m.\u001b[39m__finalize__(\u001b[38;5;28mself\u001b[39m, method\u001b[38;5;241m=\u001b[39m\u001b[38;5;124m\"\u001b[39m\u001b[38;5;124mapply\u001b[39m\u001b[38;5;124m\"\u001b[39m)\n",
      "File \u001b[0;32m~/.conda/envs/pytorch/lib/python3.8/site-packages/pandas/core/apply.py:733\u001b[0m, in \u001b[0;36mFrameApply.apply\u001b[0;34m(self)\u001b[0m\n\u001b[1;32m    730\u001b[0m \u001b[38;5;28;01melif\u001b[39;00m \u001b[38;5;28mself\u001b[39m\u001b[38;5;241m.\u001b[39mraw:\n\u001b[1;32m    731\u001b[0m     \u001b[38;5;28;01mreturn\u001b[39;00m \u001b[38;5;28mself\u001b[39m\u001b[38;5;241m.\u001b[39mapply_raw()\n\u001b[0;32m--> 733\u001b[0m \u001b[38;5;28;01mreturn\u001b[39;00m \u001b[38;5;28;43mself\u001b[39;49m\u001b[38;5;241;43m.\u001b[39;49m\u001b[43mapply_standard\u001b[49m\u001b[43m(\u001b[49m\u001b[43m)\u001b[49m\n",
      "File \u001b[0;32m~/.conda/envs/pytorch/lib/python3.8/site-packages/pandas/core/apply.py:857\u001b[0m, in \u001b[0;36mFrameApply.apply_standard\u001b[0;34m(self)\u001b[0m\n\u001b[1;32m    856\u001b[0m \u001b[38;5;28;01mdef\u001b[39;00m \u001b[38;5;21mapply_standard\u001b[39m(\u001b[38;5;28mself\u001b[39m):\n\u001b[0;32m--> 857\u001b[0m     results, res_index \u001b[38;5;241m=\u001b[39m \u001b[38;5;28;43mself\u001b[39;49m\u001b[38;5;241;43m.\u001b[39;49m\u001b[43mapply_series_generator\u001b[49m\u001b[43m(\u001b[49m\u001b[43m)\u001b[49m\n\u001b[1;32m    859\u001b[0m     \u001b[38;5;66;03m# wrap results\u001b[39;00m\n\u001b[1;32m    860\u001b[0m     \u001b[38;5;28;01mreturn\u001b[39;00m \u001b[38;5;28mself\u001b[39m\u001b[38;5;241m.\u001b[39mwrap_results(results, res_index)\n",
      "File \u001b[0;32m~/.conda/envs/pytorch/lib/python3.8/site-packages/pandas/core/apply.py:873\u001b[0m, in \u001b[0;36mFrameApply.apply_series_generator\u001b[0;34m(self)\u001b[0m\n\u001b[1;32m    870\u001b[0m \u001b[38;5;28;01mwith\u001b[39;00m option_context(\u001b[38;5;124m\"\u001b[39m\u001b[38;5;124mmode.chained_assignment\u001b[39m\u001b[38;5;124m\"\u001b[39m, \u001b[38;5;28;01mNone\u001b[39;00m):\n\u001b[1;32m    871\u001b[0m     \u001b[38;5;28;01mfor\u001b[39;00m i, v \u001b[38;5;129;01min\u001b[39;00m \u001b[38;5;28menumerate\u001b[39m(series_gen):\n\u001b[1;32m    872\u001b[0m         \u001b[38;5;66;03m# ignore SettingWithCopy here in case the user mutates\u001b[39;00m\n\u001b[0;32m--> 873\u001b[0m         results[i] \u001b[38;5;241m=\u001b[39m \u001b[38;5;28;43mself\u001b[39;49m\u001b[38;5;241;43m.\u001b[39;49m\u001b[43mf\u001b[49m\u001b[43m(\u001b[49m\u001b[43mv\u001b[49m\u001b[43m)\u001b[49m\n\u001b[1;32m    874\u001b[0m         \u001b[38;5;28;01mif\u001b[39;00m \u001b[38;5;28misinstance\u001b[39m(results[i], ABCSeries):\n\u001b[1;32m    875\u001b[0m             \u001b[38;5;66;03m# If we have a view on v, we need to make a copy because\u001b[39;00m\n\u001b[1;32m    876\u001b[0m             \u001b[38;5;66;03m#  series_generator will swap out the underlying data\u001b[39;00m\n\u001b[1;32m    877\u001b[0m             results[i] \u001b[38;5;241m=\u001b[39m results[i]\u001b[38;5;241m.\u001b[39mcopy(deep\u001b[38;5;241m=\u001b[39m\u001b[38;5;28;01mFalse\u001b[39;00m)\n",
      "Input \u001b[0;32mIn [63]\u001b[0m, in \u001b[0;36mmedian_time\u001b[0;34m(row)\u001b[0m\n\u001b[1;32m      1\u001b[0m \u001b[38;5;28;01mdef\u001b[39;00m \u001b[38;5;21mmedian_time\u001b[39m(row):\n\u001b[0;32m----> 2\u001b[0m     res \u001b[38;5;241m=\u001b[39m \u001b[38;5;28;43mnext\u001b[39;49m\u001b[43m(\u001b[49m\u001b[43mx\u001b[49m\u001b[43m \u001b[49m\u001b[38;5;28;43;01mfor\u001b[39;49;00m\u001b[43m \u001b[49m\u001b[43mx\u001b[49m\u001b[43m,\u001b[49m\u001b[43m \u001b[49m\u001b[43mval\u001b[49m\u001b[43m \u001b[49m\u001b[38;5;129;43;01min\u001b[39;49;00m\u001b[43m \u001b[49m\u001b[38;5;28;43menumerate\u001b[39;49m\u001b[43m(\u001b[49m\u001b[43mrow\u001b[49m\u001b[43m)\u001b[49m\u001b[43m \u001b[49m\u001b[38;5;28;43;01mif\u001b[39;49;00m\u001b[43m \u001b[49m\u001b[43mval\u001b[49m\u001b[43m \u001b[49m\u001b[38;5;241;43m<\u001b[39;49m\u001b[38;5;241;43m=\u001b[39;49m\u001b[43m \u001b[49m\u001b[38;5;241;43m0.99\u001b[39;49m\u001b[43m)\u001b[49m \n\u001b[1;32m      3\u001b[0m     \u001b[38;5;28;01mreturn\u001b[39;00m res \u001b[38;5;241m+\u001b[39m \u001b[38;5;241m1\u001b[39m\n",
      "\u001b[0;31mStopIteration\u001b[0m: "
     ]
    }
   ],
   "source": [
    "def median_time(row):\n",
    "    res = next(x for x, val in enumerate(row) if val <= 0.99) \n",
    "    return res + 1\n",
    "\n",
    "df_pred.loc[:,1:max_time + 179].apply(median_time, axis =1)"
   ]
  },
  {
   "cell_type": "code",
   "execution_count": null,
   "id": "7858171b",
   "metadata": {},
   "outputs": [],
   "source": [
    "print('nr of too early predicted: ', df_pred[df_pred.CONVERTED_VALHALLA==1][df_pred.pb_conv<0.5].shape[0]*100/df_pred[df_pred.CONVERTED_VALHALLA==1].shape[0] )\n"
   ]
  },
  {
   "cell_type": "markdown",
   "id": "f1114f07",
   "metadata": {},
   "source": [
    "### Performances on latest converters (July and August 2022)\n"
   ]
  },
  {
   "cell_type": "code",
   "execution_count": 81,
   "id": "4797af01",
   "metadata": {},
   "outputs": [],
   "source": [
    "july_august_2022_survival = extrapolated_predict_survival_CoxTime(model, x_to_predict, max_time + 180, baseline_hazards_ =  model.baseline_hazards_)"
   ]
  },
  {
   "cell_type": "code",
   "execution_count": 84,
   "id": "0acb97c5",
   "metadata": {},
   "outputs": [
    {
     "name": "stdout",
     "output_type": "stream",
     "text": [
      "0.44873546062457137\n",
      "37.99825551457066\n"
     ]
    },
    {
     "data": {
      "image/png": "[encoded data removed]",
      "text/plain": [
       "<Figure size 432x288 with 1 Axes>"
      ]
     },
     "metadata": {
      "needs_background": "light"
     },
     "output_type": "display_data"
    }
   ],
   "source": [
    "(1 - july_august_2022_survival.iloc[:, 85:95]) .plot()\n",
    "plt.ylabel('Acquistition of game (t | X)')\n",
    "_ = plt.xlabel('Time')\n",
    "\n",
    "print(1 - july_august_2022_survival.loc[660].mean())\n",
    "print((july_august_2022_survival.loc[660] <= 0.5).sum()*100 /july_august_2022_survival.shape[1])"
   ]
  },
  {
   "cell_type": "markdown",
   "id": "3e2fa57f",
   "metadata": {},
   "source": [
    "## Prediction outputfor SnowFlake\n",
    "For each player : median prediction time and two inflection points are sent in a table to SnowFlake"
   ]
  },
  {
   "cell_type": "code",
   "execution_count": 134,
   "id": "5e28faaa",
   "metadata": {},
   "outputs": [
    {
     "data": {
      "text/plain": [
       "<matplotlib.legend.Legend at 0x7fcc801abee0>"
      ]
     },
     "execution_count": 134,
     "metadata": {},
     "output_type": "execute_result"
    },
    {
     "data": {
      "image/png": "[encoded data removed]",
      "text/plain": [
       "<Figure size 432x288 with 1 Axes>"
      ]
     },
     "metadata": {
      "needs_background": "light"
     },
     "output_type": "display_data"
    }
   ],
   "source": [
    "# ex pour un joueur\n",
    "smooth = gaussian_filter1d((1-july_august_2022_survival[1300]), 10)\n",
    "smooth_d2 = np.gradient(np.gradient(smooth))\n",
    "inflection_points = np.where(np.diff(np.sign(smooth_d2)))[0]\n",
    "plt.plot((1-july_august_2022_survival[1300]), label='Prediction Curve')\n",
    "plt.plot(smooth, label='Smoothed Curve')\n",
    "for i, infl in enumerate(inflection_points, 1):\n",
    "    plt.axvline(x=infl, color='k', label=f'Inflection Point {i}')\n",
    "plt.legend(bbox_to_anchor=(1.55, 1.0))"
   ]
  },
  {
   "cell_type": "code",
   "execution_count": 124,
   "id": "88deee34",
   "metadata": {},
   "outputs": [
    {
     "data": {
      "text/plain": [
       "<matplotlib.legend.Legend at 0x7fcb4c2c4f10>"
      ]
     },
     "execution_count": 124,
     "metadata": {},
     "output_type": "execute_result"
    },
    {
     "data": {
      "image/png": "[encoded data removed]",
      "text/plain": [
       "<Figure size 432x288 with 1 Axes>"
      ]
     },
     "metadata": {
      "needs_background": "light"
     },
     "output_type": "display_data"
    }
   ],
   "source": [
    "smooth = gaussian_filter1d((1-test_survival[400]), 25)\n",
    "smooth_d2 = np.gradient(np.gradient(smooth))\n",
    "inflection_points = np.where(np.diff(np.sign(smooth_d2)))[0]\n",
    "plt.plot((1-test_survival[400]), label='Prediction Curve')\n",
    "plt.plot(smooth, label='Smoothed Curve')\n",
    "for i, infl in enumerate(inflection_points, 1):\n",
    "    plt.axvline(x=infl, color='k', label=f'Inflection Point {i}')\n",
    "plt.legend(bbox_to_anchor=(1.55, 1.0))"
   ]
  },
  {
   "cell_type": "code",
   "execution_count": 128,
   "id": "bfd693de",
   "metadata": {},
   "outputs": [
    {
     "data": {
      "text/html": [
       "<div>\n",
       "<style scoped>\n",
       "    .dataframe tbody tr th:only-of-type {\n",
       "        vertical-align: middle;\n",
       "    }\n",
       "\n",
       "    .dataframe tbody tr th {\n",
       "        vertical-align: top;\n",
       "    }\n",
       "\n",
       "    .dataframe thead th {\n",
       "        text-align: right;\n",
       "    }\n",
       "</style>\n",
       "<table border=\"1\" class=\"dataframe\">\n",
       "  <thead>\n",
       "    <tr style=\"text-align: right;\">\n",
       "      <th></th>\n",
       "      <th>USER_KEY</th>\n",
       "      <th>CONV_LAST_OWNED</th>\n",
       "      <th>CONVERTED_VALHALLA</th>\n",
       "      <th>CONVERSION_DAYS_ACV</th>\n",
       "      <th>P2_POST_LAUNCH_ARRIVAL</th>\n",
       "      <th>NB_AC</th>\n",
       "      <th>PLAYED_ORIGINS</th>\n",
       "      <th>PLAYED_ODYSSEY</th>\n",
       "      <th>SENIORITY_AC</th>\n",
       "      <th>RECENCY_AC</th>\n",
       "      <th>...</th>\n",
       "      <th>774</th>\n",
       "      <th>775</th>\n",
       "      <th>776</th>\n",
       "      <th>777</th>\n",
       "      <th>778</th>\n",
       "      <th>779</th>\n",
       "      <th>pb_conv</th>\n",
       "      <th>pb_conv_moins1M</th>\n",
       "      <th>pb_conv_plus1M</th>\n",
       "      <th>pb_conv_plus10D</th>\n",
       "    </tr>\n",
       "  </thead>\n",
       "  <tbody>\n",
       "    <tr>\n",
       "      <th>0</th>\n",
       "      <td>180073124</td>\n",
       "      <td>622</td>\n",
       "      <td>1</td>\n",
       "      <td>4</td>\n",
       "      <td>0</td>\n",
       "      <td>10.0</td>\n",
       "      <td>1.0</td>\n",
       "      <td>1.0</td>\n",
       "      <td>2274.0</td>\n",
       "      <td>65.0</td>\n",
       "      <td>...</td>\n",
       "      <td>0.000000e+00</td>\n",
       "      <td>0.000000e+00</td>\n",
       "      <td>0.000000e+00</td>\n",
       "      <td>0.000000e+00</td>\n",
       "      <td>0.000000e+00</td>\n",
       "      <td>0.000000e+00</td>\n",
       "      <td>0.234173</td>\n",
       "      <td>NaN</td>\n",
       "      <td>0.000075</td>\n",
       "      <td>0.017360</td>\n",
       "    </tr>\n",
       "    <tr>\n",
       "      <th>1</th>\n",
       "      <td>150066807</td>\n",
       "      <td>479</td>\n",
       "      <td>1</td>\n",
       "      <td>372</td>\n",
       "      <td>0</td>\n",
       "      <td>5.0</td>\n",
       "      <td>1.0</td>\n",
       "      <td>0.0</td>\n",
       "      <td>3096.0</td>\n",
       "      <td>2.0</td>\n",
       "      <td>...</td>\n",
       "      <td>0.000000e+00</td>\n",
       "      <td>0.000000e+00</td>\n",
       "      <td>0.000000e+00</td>\n",
       "      <td>0.000000e+00</td>\n",
       "      <td>0.000000e+00</td>\n",
       "      <td>0.000000e+00</td>\n",
       "      <td>0.556184</td>\n",
       "      <td>0.999725</td>\n",
       "      <td>0.000269</td>\n",
       "      <td>0.095037</td>\n",
       "    </tr>\n",
       "    <tr>\n",
       "      <th>2</th>\n",
       "      <td>278575808</td>\n",
       "      <td>14</td>\n",
       "      <td>0</td>\n",
       "      <td>599</td>\n",
       "      <td>0</td>\n",
       "      <td>5.0</td>\n",
       "      <td>1.0</td>\n",
       "      <td>0.0</td>\n",
       "      <td>2359.0</td>\n",
       "      <td>1668.0</td>\n",
       "      <td>...</td>\n",
       "      <td>1.423385e-04</td>\n",
       "      <td>1.097726e-04</td>\n",
       "      <td>8.405677e-05</td>\n",
       "      <td>6.389603e-05</td>\n",
       "      <td>4.820704e-05</td>\n",
       "      <td>3.609049e-05</td>\n",
       "      <td>0.998941</td>\n",
       "      <td>0.999977</td>\n",
       "      <td>0.966163</td>\n",
       "      <td>0.996072</td>\n",
       "    </tr>\n",
       "    <tr>\n",
       "      <th>3</th>\n",
       "      <td>153695731</td>\n",
       "      <td>773</td>\n",
       "      <td>0</td>\n",
       "      <td>599</td>\n",
       "      <td>0</td>\n",
       "      <td>1.0</td>\n",
       "      <td>1.0</td>\n",
       "      <td>0.0</td>\n",
       "      <td>936.0</td>\n",
       "      <td>265.0</td>\n",
       "      <td>...</td>\n",
       "      <td>2.513200e-11</td>\n",
       "      <td>1.203390e-11</td>\n",
       "      <td>5.642399e-12</td>\n",
       "      <td>2.589047e-12</td>\n",
       "      <td>1.161895e-12</td>\n",
       "      <td>5.096474e-13</td>\n",
       "      <td>0.972648</td>\n",
       "      <td>0.999547</td>\n",
       "      <td>0.858924</td>\n",
       "      <td>0.947919</td>\n",
       "    </tr>\n",
       "    <tr>\n",
       "      <th>4</th>\n",
       "      <td>278016363</td>\n",
       "      <td>507</td>\n",
       "      <td>1</td>\n",
       "      <td>32</td>\n",
       "      <td>0</td>\n",
       "      <td>8.0</td>\n",
       "      <td>1.0</td>\n",
       "      <td>1.0</td>\n",
       "      <td>1825.0</td>\n",
       "      <td>292.0</td>\n",
       "      <td>...</td>\n",
       "      <td>0.000000e+00</td>\n",
       "      <td>0.000000e+00</td>\n",
       "      <td>0.000000e+00</td>\n",
       "      <td>0.000000e+00</td>\n",
       "      <td>0.000000e+00</td>\n",
       "      <td>0.000000e+00</td>\n",
       "      <td>0.710384</td>\n",
       "      <td>0.998900</td>\n",
       "      <td>0.004634</td>\n",
       "      <td>0.424334</td>\n",
       "    </tr>\n",
       "    <tr>\n",
       "      <th>...</th>\n",
       "      <td>...</td>\n",
       "      <td>...</td>\n",
       "      <td>...</td>\n",
       "      <td>...</td>\n",
       "      <td>...</td>\n",
       "      <td>...</td>\n",
       "      <td>...</td>\n",
       "      <td>...</td>\n",
       "      <td>...</td>\n",
       "      <td>...</td>\n",
       "      <td>...</td>\n",
       "      <td>...</td>\n",
       "      <td>...</td>\n",
       "      <td>...</td>\n",
       "      <td>...</td>\n",
       "      <td>...</td>\n",
       "      <td>...</td>\n",
       "      <td>...</td>\n",
       "      <td>...</td>\n",
       "      <td>...</td>\n",
       "      <td>...</td>\n",
       "    </tr>\n",
       "    <tr>\n",
       "      <th>55380</th>\n",
       "      <td>2742678909</td>\n",
       "      <td>852</td>\n",
       "      <td>0</td>\n",
       "      <td>599</td>\n",
       "      <td>0</td>\n",
       "      <td>1.0</td>\n",
       "      <td>1.0</td>\n",
       "      <td>0.0</td>\n",
       "      <td>857.0</td>\n",
       "      <td>857.0</td>\n",
       "      <td>...</td>\n",
       "      <td>1.452150e-04</td>\n",
       "      <td>1.110233e-04</td>\n",
       "      <td>8.425841e-05</td>\n",
       "      <td>6.346300e-05</td>\n",
       "      <td>4.742920e-05</td>\n",
       "      <td>3.516381e-05</td>\n",
       "      <td>0.998633</td>\n",
       "      <td>0.999981</td>\n",
       "      <td>0.973518</td>\n",
       "      <td>0.995888</td>\n",
       "    </tr>\n",
       "    <tr>\n",
       "      <th>55381</th>\n",
       "      <td>2515370317</td>\n",
       "      <td>894</td>\n",
       "      <td>0</td>\n",
       "      <td>599</td>\n",
       "      <td>0</td>\n",
       "      <td>1.0</td>\n",
       "      <td>1.0</td>\n",
       "      <td>0.0</td>\n",
       "      <td>815.0</td>\n",
       "      <td>752.0</td>\n",
       "      <td>...</td>\n",
       "      <td>9.604396e-06</td>\n",
       "      <td>6.783598e-06</td>\n",
       "      <td>4.745553e-06</td>\n",
       "      <td>3.287271e-06</td>\n",
       "      <td>2.254179e-06</td>\n",
       "      <td>1.529762e-06</td>\n",
       "      <td>0.993893</td>\n",
       "      <td>0.999937</td>\n",
       "      <td>0.947553</td>\n",
       "      <td>0.987926</td>\n",
       "    </tr>\n",
       "    <tr>\n",
       "      <th>55382</th>\n",
       "      <td>3363041082</td>\n",
       "      <td>761</td>\n",
       "      <td>1</td>\n",
       "      <td>18</td>\n",
       "      <td>0</td>\n",
       "      <td>3.0</td>\n",
       "      <td>1.0</td>\n",
       "      <td>1.0</td>\n",
       "      <td>44.0</td>\n",
       "      <td>1.0</td>\n",
       "      <td>...</td>\n",
       "      <td>0.000000e+00</td>\n",
       "      <td>0.000000e+00</td>\n",
       "      <td>0.000000e+00</td>\n",
       "      <td>0.000000e+00</td>\n",
       "      <td>0.000000e+00</td>\n",
       "      <td>0.000000e+00</td>\n",
       "      <td>0.162202</td>\n",
       "      <td>NaN</td>\n",
       "      <td>0.000011</td>\n",
       "      <td>0.013625</td>\n",
       "    </tr>\n",
       "    <tr>\n",
       "      <th>55383</th>\n",
       "      <td>731612918</td>\n",
       "      <td>446</td>\n",
       "      <td>0</td>\n",
       "      <td>599</td>\n",
       "      <td>0</td>\n",
       "      <td>3.0</td>\n",
       "      <td>0.0</td>\n",
       "      <td>1.0</td>\n",
       "      <td>1794.0</td>\n",
       "      <td>698.0</td>\n",
       "      <td>...</td>\n",
       "      <td>7.618416e-17</td>\n",
       "      <td>2.513676e-17</td>\n",
       "      <td>8.032305e-18</td>\n",
       "      <td>2.483449e-18</td>\n",
       "      <td>7.422340e-19</td>\n",
       "      <td>2.142257e-19</td>\n",
       "      <td>0.966494</td>\n",
       "      <td>0.999820</td>\n",
       "      <td>0.790921</td>\n",
       "      <td>0.925384</td>\n",
       "    </tr>\n",
       "    <tr>\n",
       "      <th>55384</th>\n",
       "      <td>9906421</td>\n",
       "      <td>64</td>\n",
       "      <td>0</td>\n",
       "      <td>599</td>\n",
       "      <td>0</td>\n",
       "      <td>5.0</td>\n",
       "      <td>1.0</td>\n",
       "      <td>0.0</td>\n",
       "      <td>3841.0</td>\n",
       "      <td>1588.0</td>\n",
       "      <td>...</td>\n",
       "      <td>1.179209e-08</td>\n",
       "      <td>6.889976e-09</td>\n",
       "      <td>3.965483e-09</td>\n",
       "      <td>2.247204e-09</td>\n",
       "      <td>1.253337e-09</td>\n",
       "      <td>6.876670e-10</td>\n",
       "      <td>0.990966</td>\n",
       "      <td>0.999947</td>\n",
       "      <td>0.903858</td>\n",
       "      <td>0.977058</td>\n",
       "    </tr>\n",
       "  </tbody>\n",
       "</table>\n",
       "<p>55385 rows × 907 columns</p>\n",
       "</div>"
      ],
      "text/plain": [
       "         USER_KEY  CONV_LAST_OWNED  CONVERTED_VALHALLA  CONVERSION_DAYS_ACV  \\\n",
       "0       180073124              622                   1                    4   \n",
       "1       150066807              479                   1                  372   \n",
       "2       278575808               14                   0                  599   \n",
       "3       153695731              773                   0                  599   \n",
       "4       278016363              507                   1                   32   \n",
       "...           ...              ...                 ...                  ...   \n",
       "55380  2742678909              852                   0                  599   \n",
       "55381  2515370317              894                   0                  599   \n",
       "55382  3363041082              761                   1                   18   \n",
       "55383   731612918              446                   0                  599   \n",
       "55384     9906421               64                   0                  599   \n",
       "\n",
       "       P2_POST_LAUNCH_ARRIVAL  NB_AC  PLAYED_ORIGINS  PLAYED_ODYSSEY  \\\n",
       "0                           0   10.0             1.0             1.0   \n",
       "1                           0    5.0             1.0             0.0   \n",
       "2                           0    5.0             1.0             0.0   \n",
       "3                           0    1.0             1.0             0.0   \n",
       "4                           0    8.0             1.0             1.0   \n",
       "...                       ...    ...             ...             ...   \n",
       "55380                       0    1.0             1.0             0.0   \n",
       "55381                       0    1.0             1.0             0.0   \n",
       "55382                       0    3.0             1.0             1.0   \n",
       "55383                       0    3.0             0.0             1.0   \n",
       "55384                       0    5.0             1.0             0.0   \n",
       "\n",
       "       SENIORITY_AC  RECENCY_AC  ...           774           775  \\\n",
       "0            2274.0        65.0  ...  0.000000e+00  0.000000e+00   \n",
       "1            3096.0         2.0  ...  0.000000e+00  0.000000e+00   \n",
       "2            2359.0      1668.0  ...  1.423385e-04  1.097726e-04   \n",
       "3             936.0       265.0  ...  2.513200e-11  1.203390e-11   \n",
       "4            1825.0       292.0  ...  0.000000e+00  0.000000e+00   \n",
       "...             ...         ...  ...           ...           ...   \n",
       "55380         857.0       857.0  ...  1.452150e-04  1.110233e-04   \n",
       "55381         815.0       752.0  ...  9.604396e-06  6.783598e-06   \n",
       "55382          44.0         1.0  ...  0.000000e+00  0.000000e+00   \n",
       "55383        1794.0       698.0  ...  7.618416e-17  2.513676e-17   \n",
       "55384        3841.0      1588.0  ...  1.179209e-08  6.889976e-09   \n",
       "\n",
       "                776           777           778           779   pb_conv  \\\n",
       "0      0.000000e+00  0.000000e+00  0.000000e+00  0.000000e+00  0.234173   \n",
       "1      0.000000e+00  0.000000e+00  0.000000e+00  0.000000e+00  0.556184   \n",
       "2      8.405677e-05  6.389603e-05  4.820704e-05  3.609049e-05  0.998941   \n",
       "3      5.642399e-12  2.589047e-12  1.161895e-12  5.096474e-13  0.972648   \n",
       "4      0.000000e+00  0.000000e+00  0.000000e+00  0.000000e+00  0.710384   \n",
       "...             ...           ...           ...           ...       ...   \n",
       "55380  8.425841e-05  6.346300e-05  4.742920e-05  3.516381e-05  0.998633   \n",
       "55381  4.745553e-06  3.287271e-06  2.254179e-06  1.529762e-06  0.993893   \n",
       "55382  0.000000e+00  0.000000e+00  0.000000e+00  0.000000e+00  0.162202   \n",
       "55383  8.032305e-18  2.483449e-18  7.422340e-19  2.142257e-19  0.966494   \n",
       "55384  3.965483e-09  2.247204e-09  1.253337e-09  6.876670e-10  0.990966   \n",
       "\n",
       "       pb_conv_moins1M  pb_conv_plus1M  pb_conv_plus10D  \n",
       "0                  NaN        0.000075         0.017360  \n",
       "1             0.999725        0.000269         0.095037  \n",
       "2             0.999977        0.966163         0.996072  \n",
       "3             0.999547        0.858924         0.947919  \n",
       "4             0.998900        0.004634         0.424334  \n",
       "...                ...             ...              ...  \n",
       "55380         0.999981        0.973518         0.995888  \n",
       "55381         0.999937        0.947553         0.987926  \n",
       "55382              NaN        0.000011         0.013625  \n",
       "55383         0.999820        0.790921         0.925384  \n",
       "55384         0.999947        0.903858         0.977058  \n",
       "\n",
       "[55385 rows x 907 columns]"
      ]
     },
     "execution_count": 128,
     "metadata": {},
     "output_type": "execute_result"
    }
   ],
   "source": [
    "df_pred.loc[:,1:779]"
   ]
  },
  {
   "cell_type": "code",
   "execution_count": 125,
   "id": "23be2a64",
   "metadata": {},
   "outputs": [
    {
     "ename": "RuntimeError",
     "evalue": "array type dtype('O') not supported",
     "output_type": "error",
     "traceback": [
      "\u001b[0;31m---------------------------------------------------------------------------\u001b[0m",
      "\u001b[0;31mRuntimeError\u001b[0m                              Traceback (most recent call last)",
      "Input \u001b[0;32mIn [125]\u001b[0m, in \u001b[0;36m<cell line: 11>\u001b[0;34m()\u001b[0m\n\u001b[1;32m      7\u001b[0m     \u001b[38;5;28;01mreturn\u001b[39;00m inflection_points[\u001b[38;5;241m0\u001b[39m]\n\u001b[1;32m      8\u001b[0m     \u001b[38;5;66;03m# plot results\u001b[39;00m\n\u001b[0;32m---> 11\u001b[0m df_pred[\u001b[38;5;124m'\u001b[39m\u001b[38;5;124mCONVERSION_RATE_INCREASE\u001b[39m\u001b[38;5;124m'\u001b[39m] \u001b[38;5;241m=\u001b[39m  \u001b[43mdf_pred\u001b[49m\u001b[38;5;241;43m.\u001b[39;49m\u001b[43mapply\u001b[49m\u001b[43m(\u001b[49m\u001b[43mget_switching_point\u001b[49m\u001b[43m,\u001b[49m\u001b[43m  \u001b[49m\u001b[43margs\u001b[49m\u001b[38;5;241;43m=\u001b[39;49m\u001b[43m(\u001b[49m\u001b[38;5;241;43m30\u001b[39;49m\u001b[43m,\u001b[49m\u001b[43m)\u001b[49m\u001b[43m,\u001b[49m\u001b[43m \u001b[49m\u001b[43maxis\u001b[49m\u001b[43m \u001b[49m\u001b[38;5;241;43m=\u001b[39;49m\u001b[38;5;241;43m1\u001b[39;49m\u001b[43m)\u001b[49m\u001b[38;5;241m.\u001b[39mastype(\u001b[38;5;28mint\u001b[39m)\n",
      "File \u001b[0;32m~/.conda/envs/pytorch/lib/python3.8/site-packages/pandas/core/frame.py:8845\u001b[0m, in \u001b[0;36mDataFrame.apply\u001b[0;34m(self, func, axis, raw, result_type, args, **kwargs)\u001b[0m\n\u001b[1;32m   8834\u001b[0m \u001b[38;5;28;01mfrom\u001b[39;00m \u001b[38;5;21;01mpandas\u001b[39;00m\u001b[38;5;21;01m.\u001b[39;00m\u001b[38;5;21;01mcore\u001b[39;00m\u001b[38;5;21;01m.\u001b[39;00m\u001b[38;5;21;01mapply\u001b[39;00m \u001b[38;5;28;01mimport\u001b[39;00m frame_apply\n\u001b[1;32m   8836\u001b[0m op \u001b[38;5;241m=\u001b[39m frame_apply(\n\u001b[1;32m   8837\u001b[0m     \u001b[38;5;28mself\u001b[39m,\n\u001b[1;32m   8838\u001b[0m     func\u001b[38;5;241m=\u001b[39mfunc,\n\u001b[0;32m   (...)\u001b[0m\n\u001b[1;32m   8843\u001b[0m     kwargs\u001b[38;5;241m=\u001b[39mkwargs,\n\u001b[1;32m   8844\u001b[0m )\n\u001b[0;32m-> 8845\u001b[0m \u001b[38;5;28;01mreturn\u001b[39;00m \u001b[43mop\u001b[49m\u001b[38;5;241;43m.\u001b[39;49m\u001b[43mapply\u001b[49m\u001b[43m(\u001b[49m\u001b[43m)\u001b[49m\u001b[38;5;241m.\u001b[39m__finalize__(\u001b[38;5;28mself\u001b[39m, method\u001b[38;5;241m=\u001b[39m\u001b[38;5;124m\"\u001b[39m\u001b[38;5;124mapply\u001b[39m\u001b[38;5;124m\"\u001b[39m)\n",
      "File \u001b[0;32m~/.conda/envs/pytorch/lib/python3.8/site-packages/pandas/core/apply.py:733\u001b[0m, in \u001b[0;36mFrameApply.apply\u001b[0;34m(self)\u001b[0m\n\u001b[1;32m    730\u001b[0m \u001b[38;5;28;01melif\u001b[39;00m \u001b[38;5;28mself\u001b[39m\u001b[38;5;241m.\u001b[39mraw:\n\u001b[1;32m    731\u001b[0m     \u001b[38;5;28;01mreturn\u001b[39;00m \u001b[38;5;28mself\u001b[39m\u001b[38;5;241m.\u001b[39mapply_raw()\n\u001b[0;32m--> 733\u001b[0m \u001b[38;5;28;01mreturn\u001b[39;00m \u001b[38;5;28;43mself\u001b[39;49m\u001b[38;5;241;43m.\u001b[39;49m\u001b[43mapply_standard\u001b[49m\u001b[43m(\u001b[49m\u001b[43m)\u001b[49m\n",
      "File \u001b[0;32m~/.conda/envs/pytorch/lib/python3.8/site-packages/pandas/core/apply.py:857\u001b[0m, in \u001b[0;36mFrameApply.apply_standard\u001b[0;34m(self)\u001b[0m\n\u001b[1;32m    856\u001b[0m \u001b[38;5;28;01mdef\u001b[39;00m \u001b[38;5;21mapply_standard\u001b[39m(\u001b[38;5;28mself\u001b[39m):\n\u001b[0;32m--> 857\u001b[0m     results, res_index \u001b[38;5;241m=\u001b[39m \u001b[38;5;28;43mself\u001b[39;49m\u001b[38;5;241;43m.\u001b[39;49m\u001b[43mapply_series_generator\u001b[49m\u001b[43m(\u001b[49m\u001b[43m)\u001b[49m\n\u001b[1;32m    859\u001b[0m     \u001b[38;5;66;03m# wrap results\u001b[39;00m\n\u001b[1;32m    860\u001b[0m     \u001b[38;5;28;01mreturn\u001b[39;00m \u001b[38;5;28mself\u001b[39m\u001b[38;5;241m.\u001b[39mwrap_results(results, res_index)\n",
      "File \u001b[0;32m~/.conda/envs/pytorch/lib/python3.8/site-packages/pandas/core/apply.py:873\u001b[0m, in \u001b[0;36mFrameApply.apply_series_generator\u001b[0;34m(self)\u001b[0m\n\u001b[1;32m    870\u001b[0m \u001b[38;5;28;01mwith\u001b[39;00m option_context(\u001b[38;5;124m\"\u001b[39m\u001b[38;5;124mmode.chained_assignment\u001b[39m\u001b[38;5;124m\"\u001b[39m, \u001b[38;5;28;01mNone\u001b[39;00m):\n\u001b[1;32m    871\u001b[0m     \u001b[38;5;28;01mfor\u001b[39;00m i, v \u001b[38;5;129;01min\u001b[39;00m \u001b[38;5;28menumerate\u001b[39m(series_gen):\n\u001b[1;32m    872\u001b[0m         \u001b[38;5;66;03m# ignore SettingWithCopy here in case the user mutates\u001b[39;00m\n\u001b[0;32m--> 873\u001b[0m         results[i] \u001b[38;5;241m=\u001b[39m \u001b[38;5;28;43mself\u001b[39;49m\u001b[38;5;241;43m.\u001b[39;49m\u001b[43mf\u001b[49m\u001b[43m(\u001b[49m\u001b[43mv\u001b[49m\u001b[43m)\u001b[49m\n\u001b[1;32m    874\u001b[0m         \u001b[38;5;28;01mif\u001b[39;00m \u001b[38;5;28misinstance\u001b[39m(results[i], ABCSeries):\n\u001b[1;32m    875\u001b[0m             \u001b[38;5;66;03m# If we have a view on v, we need to make a copy because\u001b[39;00m\n\u001b[1;32m    876\u001b[0m             \u001b[38;5;66;03m#  series_generator will swap out the underlying data\u001b[39;00m\n\u001b[1;32m    877\u001b[0m             results[i] \u001b[38;5;241m=\u001b[39m results[i]\u001b[38;5;241m.\u001b[39mcopy(deep\u001b[38;5;241m=\u001b[39m\u001b[38;5;28;01mFalse\u001b[39;00m)\n",
      "File \u001b[0;32m~/.conda/envs/pytorch/lib/python3.8/site-packages/pandas/core/apply.py:138\u001b[0m, in \u001b[0;36mApply.__init__.<locals>.f\u001b[0;34m(x)\u001b[0m\n\u001b[1;32m    137\u001b[0m \u001b[38;5;28;01mdef\u001b[39;00m \u001b[38;5;21mf\u001b[39m(x):\n\u001b[0;32m--> 138\u001b[0m     \u001b[38;5;28;01mreturn\u001b[39;00m \u001b[43mfunc\u001b[49m\u001b[43m(\u001b[49m\u001b[43mx\u001b[49m\u001b[43m,\u001b[49m\u001b[43m \u001b[49m\u001b[38;5;241;43m*\u001b[39;49m\u001b[43margs\u001b[49m\u001b[43m,\u001b[49m\u001b[43m \u001b[49m\u001b[38;5;241;43m*\u001b[39;49m\u001b[38;5;241;43m*\u001b[39;49m\u001b[43mkwargs\u001b[49m\u001b[43m)\u001b[49m\n",
      "Input \u001b[0;32mIn [125]\u001b[0m, in \u001b[0;36mget_switching_point\u001b[0;34m(x, smoothing_rate)\u001b[0m\n\u001b[1;32m      1\u001b[0m \u001b[38;5;28;01mdef\u001b[39;00m \u001b[38;5;21mget_switching_point\u001b[39m(x, smoothing_rate ):\n\u001b[0;32m----> 2\u001b[0m     smooth \u001b[38;5;241m=\u001b[39m \u001b[43mgaussian_filter1d\u001b[49m\u001b[43m(\u001b[49m\u001b[43mx\u001b[49m\u001b[43m,\u001b[49m\u001b[43m \u001b[49m\u001b[43msmoothing_rate\u001b[49m\u001b[43m)\u001b[49m\n\u001b[1;32m      4\u001b[0m     smooth_d2 \u001b[38;5;241m=\u001b[39m np\u001b[38;5;241m.\u001b[39mgradient(np\u001b[38;5;241m.\u001b[39mgradient(smooth))\n\u001b[1;32m      6\u001b[0m     inflection_points \u001b[38;5;241m=\u001b[39m np\u001b[38;5;241m.\u001b[39mwhere(np\u001b[38;5;241m.\u001b[39mdiff(np\u001b[38;5;241m.\u001b[39msign(smooth_d2)))[\u001b[38;5;241m0\u001b[39m]\n",
      "File \u001b[0;32m~/.conda/envs/pytorch/lib/python3.8/site-packages/scipy/ndimage/_filters.py:261\u001b[0m, in \u001b[0;36mgaussian_filter1d\u001b[0;34m(input, sigma, axis, order, output, mode, cval, truncate)\u001b[0m\n\u001b[1;32m    259\u001b[0m \u001b[38;5;66;03m# Since we are calling correlate, not convolve, revert the kernel\u001b[39;00m\n\u001b[1;32m    260\u001b[0m weights \u001b[38;5;241m=\u001b[39m _gaussian_kernel1d(sigma, order, lw)[::\u001b[38;5;241m-\u001b[39m\u001b[38;5;241m1\u001b[39m]\n\u001b[0;32m--> 261\u001b[0m \u001b[38;5;28;01mreturn\u001b[39;00m \u001b[43mcorrelate1d\u001b[49m\u001b[43m(\u001b[49m\u001b[38;5;28;43minput\u001b[39;49m\u001b[43m,\u001b[49m\u001b[43m \u001b[49m\u001b[43mweights\u001b[49m\u001b[43m,\u001b[49m\u001b[43m \u001b[49m\u001b[43maxis\u001b[49m\u001b[43m,\u001b[49m\u001b[43m \u001b[49m\u001b[43moutput\u001b[49m\u001b[43m,\u001b[49m\u001b[43m \u001b[49m\u001b[43mmode\u001b[49m\u001b[43m,\u001b[49m\u001b[43m \u001b[49m\u001b[43mcval\u001b[49m\u001b[43m,\u001b[49m\u001b[43m \u001b[49m\u001b[38;5;241;43m0\u001b[39;49m\u001b[43m)\u001b[49m\n",
      "File \u001b[0;32m~/.conda/envs/pytorch/lib/python3.8/site-packages/scipy/ndimage/_filters.py:133\u001b[0m, in \u001b[0;36mcorrelate1d\u001b[0;34m(input, weights, axis, output, mode, cval, origin)\u001b[0m\n\u001b[1;32m    129\u001b[0m     \u001b[38;5;28;01mraise\u001b[39;00m \u001b[38;5;167;01mValueError\u001b[39;00m(\u001b[38;5;124m'\u001b[39m\u001b[38;5;124mInvalid origin; origin must satisfy \u001b[39m\u001b[38;5;124m'\u001b[39m\n\u001b[1;32m    130\u001b[0m                      \u001b[38;5;124m'\u001b[39m\u001b[38;5;124m-(len(weights) // 2) <= origin <= \u001b[39m\u001b[38;5;124m'\u001b[39m\n\u001b[1;32m    131\u001b[0m                      \u001b[38;5;124m'\u001b[39m\u001b[38;5;124m(len(weights)-1) // 2\u001b[39m\u001b[38;5;124m'\u001b[39m)\n\u001b[1;32m    132\u001b[0m mode \u001b[38;5;241m=\u001b[39m _ni_support\u001b[38;5;241m.\u001b[39m_extend_mode_to_code(mode)\n\u001b[0;32m--> 133\u001b[0m \u001b[43m_nd_image\u001b[49m\u001b[38;5;241;43m.\u001b[39;49m\u001b[43mcorrelate1d\u001b[49m\u001b[43m(\u001b[49m\u001b[38;5;28;43minput\u001b[39;49m\u001b[43m,\u001b[49m\u001b[43m \u001b[49m\u001b[43mweights\u001b[49m\u001b[43m,\u001b[49m\u001b[43m \u001b[49m\u001b[43maxis\u001b[49m\u001b[43m,\u001b[49m\u001b[43m \u001b[49m\u001b[43moutput\u001b[49m\u001b[43m,\u001b[49m\u001b[43m \u001b[49m\u001b[43mmode\u001b[49m\u001b[43m,\u001b[49m\u001b[43m \u001b[49m\u001b[43mcval\u001b[49m\u001b[43m,\u001b[49m\n\u001b[1;32m    134\u001b[0m \u001b[43m                      \u001b[49m\u001b[43morigin\u001b[49m\u001b[43m)\u001b[49m\n\u001b[1;32m    135\u001b[0m \u001b[38;5;28;01mreturn\u001b[39;00m output\n",
      "\u001b[0;31mRuntimeError\u001b[0m: array type dtype('O') not supported"
     ]
    }
   ],
   "source": [
    "def get_switching_point(x, smoothing_rate ):\n",
    "    smooth = gaussian_filter1d(x, smoothing_rate)\n",
    "\n",
    "    smooth_d2 = np.gradient(np.gradient(smooth))\n",
    "\n",
    "    inflection_points = np.where(np.diff(np.sign(smooth_d2)))[0]\n",
    "    return inflection_points[0]\n",
    "    # plot results\n",
    "\n",
    "    \n",
    "df_pred['CONVERSION_RATE_INCREASE'] =  df_pred.apply(get_switching_point,  args=(30,), axis =1).astype(int)\n"
   ]
  },
  {
   "cell_type": "code",
   "execution_count": null,
   "id": "51493b0d",
   "metadata": {},
   "outputs": [],
   "source": [
    "# generate noisy data\n",
    "\n",
    "#raw /= np.max(raw)\n",
    "raw = rnd.lognormal(2,100)\n",
    "raw = np.sort(raw/raw.max())\n",
    "\n",
    "# smooth\n",
    "smooth = gaussian_filter1d(raw, 40)\n",
    "\n",
    "# compute second derivative\n",
    "smooth_d2 = np.gradient(np.gradient(smooth))\n",
    "\n",
    "# find switching points\n",
    "infls = np.where(np.diff(np.sign(smooth_d2)))[0]\n",
    "\n",
    "# plot results\n",
    "plt.plot(raw, label='Prediction Curve')\n",
    "plt.plot(smooth, label='Smoothed Curve')\n",
    "#plt.plot(smooth_d2 / np.max(smooth_d2), label='Second Derivative (scaled)')\n",
    "for i, infl in enumerate(infls, 1):\n",
    "    plt.axvline(x=infl, color='k', label=f'Inflection Point {i}')\n",
    "plt.legend(bbox_to_anchor=(1.55, 1.0))\n"
   ]
  },
  {
   "cell_type": "code",
   "execution_count": null,
   "id": "34313057",
   "metadata": {},
   "outputs": [],
   "source": [
    "get_data(''' CREATE OR REPLACE TABLE SANDBOX.EMEA_ANALYTICS_CRM_PRIVATE.CS_AC_P2_PLAYERS_CONVERSION_ON_ACV_PREDICTIONS\n",
    "             ( USER_KEY BIGINT ,\n",
    "               MEDIAN_TIME DATE,\n",
    "               CONVERSION_RATE_INCREASE DATE\n",
    "             )''')"
   ]
  },
  {
   "cell_type": "code",
   "execution_count": null,
   "id": "428c3cc1",
   "metadata": {},
   "outputs": [],
   "source": [
    "with open(\"C:/Users/csouvigny/Documents/rsa_key/rsa_key.p8\", \"rb\") as key:\n",
    "    p_key= serialization.load_pem_private_key(\n",
    "        key.read(),\n",
    "        password='2B@XS5E&!5%UCab'.encode(),\n",
    "    )\n",
    "\n",
    "    pkb = p_key.private_bytes(\n",
    "    encoding=serialization.Encoding.DER,\n",
    "    format=serialization.PrivateFormat.PKCS8,\n",
    "    encryption_algorithm=serialization.NoEncryption())\n",
    "\n",
    "    engine = create_engine(URL(\n",
    "        user='camille.souvigny@ubisoft.com',\n",
    "        account='ubisoft.us-east-1',\n",
    "        warehouse='EMEA_ANALYTICS_COMMON',\n",
    "        database='SANDBOX',\n",
    "        schema='EMEA_ANALYTICS_CRM_PRIVATE',\n",
    "        role='SNK_F_EMEAANALYTICS_CRM_SB_DEV',\n",
    "        proxy_host='http://proxy.ubisoft.org',\n",
    "        proxy_port='3128'),\n",
    "        connect_args={\n",
    "        'private_key': pkb,\n",
    "        }\n",
    "    )\n",
    "    \n",
    "    with engine.connect() as con:\n",
    "        start_time = datetime.now()\n",
    "        df.to_sql( name = \"CS_AC_P2_PLAYERS_CONVERSION_ON_ACV_PREDICTIONS\", \n",
    "                         index = None,\n",
    "                         con = con, if_exists='append', chunksize =16000)\n",
    "        end_time = datetime.now()\n",
    "        print('Duration: {}'.format(end_time - start_time))"
   ]
  },
  {
   "cell_type": "code",
   "execution_count": null,
   "id": "5f5b896a",
   "metadata": {},
   "outputs": [],
   "source": []
  },
  {
   "cell_type": "markdown",
   "id": "bbe869d6",
   "metadata": {
    "toc-hr-collapsed": true,
    "toc-nb-collapsed": true
   },
   "source": [
    "## Linear Cox Time dependent"
   ]
  },
  {
   "cell_type": "code",
   "execution_count": 10,
   "id": "46593d11",
   "metadata": {},
   "outputs": [],
   "source": [
    "signif = ['CONVERSION_DAYS_ACV', 'CONVERTED_VALHALLA','P2_POST_LAUNCH_ARRIVAL', 'CONV_LAST_OWNED', \n",
    "          \"P2_LAST_OWNED_ASSASSIN'S CREED ODYSSEY\", 'NB_AC','PLAYED_ORIGINS', 'PLAYED_ODYSSEY',\n",
    "          'SENIORITY_AC', 'RECENCY_AC', 'LIFETIME_AC', 'RECENCY_LAST_OWNED',\n",
    "          'SENIORITY_LAST_OWNED', 'SENIORITY_P2', 'RECENCY_P2', \n",
    "          'NB_PD_P2', 'NB_PD_AC', 'NB_PD_AC_2021' , 'NB_PD_AC_2022',\n",
    "          'NB_PD_LAST_OWNED', 'PROP_ACOD_AC', 'PROP_LEAST_AC', 'PROP_MOST_AC', 'AVG_PD_P2' , \n",
    "          'SENIORITY_WHEN_CONV_TO_LAST_OWNED', 'AVG_P2_LIFETIME',\n",
    "          'MIN_P2_LIFETIME', 'MAX_P2_LIFETIME', 'MAX_LIFETIME_AC', 'MIN_LIFETIME_AC',\n",
    "          'MIN_P2_ACQ_DELAY', 'MAX_P2_ACQ_DELAY', 'AVG_P2_ACQ_DELAY',\n",
    "           'MIN_AC_ACQ_DELAY', 'MAX_AC_ACQ_DELAY','AVG_AC_ACQ_DELAY',\n",
    "          'NB_GAMES', 'NB_BRANDS', 'NB_GAMES_2022', 'SENIORITY', 'RECENCY',\n",
    "          'NB_PD', 'NB_GAMES_2022', 'NB_PD_2021', 'NB_PD_2022','PROP_SD_GAMES', 'PROP_LEAST_GAME',\n",
    "          'PROP_MOST_GAME', 'AVG_LIFETIME' , 'MAX_P2_SD_10D', 'MIN_P2_SD_RATIO_10D', 'AVG_P2_SD_10D',\n",
    "          'SD_LAST_OWNED_10D', 'PLAYTIME_LAST_OWNED_10D_RATIO', 'AVG_P2_SD_1M',\n",
    "          'MIN_AC_SD_1M',  'MIN_PLAYTIME_10D_RATIO', 'AC_P2_DLC',\n",
    "           'AVG_P2_SD_RATIO_1M', 'MIN_AC_SD_RATIO_1M','SUM_P2_PLAYTIME','MAX_P2_PLAYTIME_10D',\n",
    "          'AVG_AC_PLAYTIME','SUM_AC_PLAYTIME','SUM_AC_PLAYTIME_10D','MAX_PLAYTIME_10D_RATIO',\n",
    "          'NB_ACTIVATION_PASS','AC_P2_DLC','ESTIM_BG','ESTIM_NET_BG','PL_ACQUI','PL_NET_ACQUI' ,\n",
    "          \"P2_LAST_OWNED_ASSASSIN'S CREED ODYSSEY\"\n",
    "         ] "
   ]
  },
  {
   "cell_type": "code",
   "execution_count": 11,
   "id": "c26138df",
   "metadata": {},
   "outputs": [
    {
     "name": "stdout",
     "output_type": "stream",
     "text": [
      "Iteration 1: norm_delta = 3.55554, step_size = 0.95000, ll = -4124982.17426, newton_decrement = 664218.08208, seconds_since_start = 791.7\n",
      "Iteration 2: norm_delta = 1.20100, step_size = 0.95000, ll = -3594500.42384, newton_decrement = 83572.28263, seconds_since_start = 1582.6\n",
      "Iteration 3: norm_delta = 0.33552, step_size = 0.95000, ll = -3509855.33860, newton_decrement = 5994.82333, seconds_since_start = 2372.1\n",
      "Iteration 4: norm_delta = 0.10911, step_size = 1.00000, ll = -3502824.37166, newton_decrement = 1576.35425, seconds_since_start = 3161.6\n",
      "Iteration 5: norm_delta = 0.02353, step_size = 1.00000, ll = -3500905.23936, newton_decrement = 405.84530, seconds_since_start = 3953.3\n",
      "Iteration 6: norm_delta = 0.01662, step_size = 1.00000, ll = -3500404.67880, newton_decrement = 110.62567, seconds_since_start = 4743.0\n",
      "Iteration 7: norm_delta = 0.01700, step_size = 1.00000, ll = -3500270.85961, newton_decrement = 20.79714, seconds_since_start = 5533.9\n",
      "Iteration 8: norm_delta = 0.00529, step_size = 0.98000, ll = -3500247.30880, newton_decrement = 1.15376, seconds_since_start = 6328.1\n",
      "Iteration 9: norm_delta = 0.00042, step_size = 0.96040, ll = -3500246.11518, newton_decrement = 0.00683, seconds_since_start = 7135.5\n",
      "Iteration 10: norm_delta = 0.00002, step_size = 1.00000, ll = -3500246.10835, newton_decrement = 0.00001, seconds_since_start = 7928.7\n",
      "Iteration 11: norm_delta = 0.00000, step_size = 1.00000, ll = -3500246.10833, newton_decrement = 0.00000, seconds_since_start = 8714.1\n",
      "Convergence completed after 11 iterations.\n",
      "2:25:43.108841\n"
     ]
    }
   ],
   "source": [
    "start = datetime.now()\n",
    "cox_time = CoxTimeVaryingFitter(penalizer=0.01)\n",
    "cox_time.fit(df_train.drop(['USER_KEY','CLUSTER_2021','CLUSTER_2022'], axis=1)[signif], event_col='CONVERTED_VALHALLA', start_col='P2_POST_LAUNCH_ARRIVAL', stop_col='CONVERSION_DAYS_ACV', show_progress=True )\n",
    "pickle.dump(cox_time, open( \"/home/shared/csouvign/cox_time_varying.pickle\", \"wb\" ) )\n",
    "print(datetime.now() - start)"
   ]
  },
  {
   "cell_type": "code",
   "execution_count": 4,
   "id": "bb40a315",
   "metadata": {},
   "outputs": [],
   "source": [
    "cox_time = pickle.load( open( \"/home/shared/csouvign/cox_time_varying.pickle\", \"rb\" ) )"
   ]
  },
  {
   "cell_type": "code",
   "execution_count": 7,
   "id": "1fc08565",
   "metadata": {},
   "outputs": [
    {
     "data": {
      "text/plain": [
       "[<matplotlib.lines.Line2D at 0x7fc9048b2e20>]"
      ]
     },
     "execution_count": 7,
     "metadata": {},
     "output_type": "execute_result"
    },
    {
     "data": {
      "image/png": "[encoded data removed]",
      "text/plain": [
       "<Figure size 432x288 with 1 Axes>"
      ]
     },
     "metadata": {
      "needs_background": "light"
     },
     "output_type": "display_data"
    }
   ],
   "source": [
    "plt.plot(cox_time.baseline_cumulative_hazard_ , label='cox_time')"
   ]
  },
  {
   "cell_type": "code",
   "execution_count": null,
   "id": "16604a27",
   "metadata": {},
   "outputs": [],
   "source": [
    "tmp = pd.DataFrame(np.column_stack((ACtest.CONVERSION_DAYS_ACV, cox_time.predict_partial_hazard(ACtest))), columns =['CONVERSION_DAYS_ACV', 'partial_hazard'] )\n",
    "plt.plot(tmp.groupby('CONVERSION_DAYS_ACV')['partial_hazard'].mean())"
   ]
  },
  {
   "cell_type": "code",
   "execution_count": 14,
   "id": "fb04286b",
   "metadata": {},
   "outputs": [
    {
     "data": {
      "image/png": "[encoded data removed]",
      "text/plain": [
       "<Figure size 432x288 with 1 Axes>"
      ]
     },
     "metadata": {
      "needs_background": "light"
     },
     "output_type": "display_data"
    }
   ],
   "source": [
    "bas_cum_haz = cox_time.baseline_cumulative_hazard_\n",
    "f = interpolate.interp1d(bas_cum_haz.index, bas_cum_haz['baseline hazard'], fill_value='extrapolate')\n",
    "\n",
    "xnew = np.arange(1, 801, 1)\n",
    "ynew = f(xnew)  \n",
    "plt.plot(bas_cum_haz)\n",
    "plt.plot(xnew, ynew)\n",
    "plt.show()\n",
    "base_cum_haz = pd.DataFrame(ynew, index=np.arange(1, 801, 1))\n",
    "\n",
    "july_2022_survival = pd.DataFrame(np.exp(- np.dot(base_cum_haz , pd.DataFrame(cox_time.predict_partial_hazard(test_last_month[signif])).T)))"
   ]
  },
  {
   "cell_type": "code",
   "execution_count": 15,
   "id": "f3a750f9",
   "metadata": {},
   "outputs": [
    {
     "data": {
      "text/plain": [
       "0.8354002558525266"
      ]
     },
     "execution_count": 15,
     "metadata": {},
     "output_type": "execute_result"
    }
   ],
   "source": [
    "july_2022_survival.loc[700].mean()"
   ]
  },
  {
   "cell_type": "markdown",
   "id": "2a6355dd",
   "metadata": {},
   "source": [
    "### Annexes : Output Analysis"
   ]
  },
  {
   "cell_type": "code",
   "execution_count": 146,
   "id": "aef4d2d2",
   "metadata": {},
   "outputs": [
    {
     "data": {
      "image/png": "[encoded data removed]",
      "text/plain": [
       "<Figure size 432x288 with 1 Axes>"
      ]
     },
     "metadata": {
      "needs_background": "light"
     },
     "output_type": "display_data"
    },
    {
     "data": {
      "image/png": "[encoded data removed]",
      "text/plain": [
       "<Figure size 432x288 with 1 Axes>"
      ]
     },
     "metadata": {
      "needs_background": "light"
     },
     "output_type": "display_data"
    },
    {
     "data": {
      "image/png": "[encoded data removed]",
      "text/plain": [
       "<Figure size 432x288 with 1 Axes>"
      ]
     },
     "metadata": {
      "needs_background": "light"
     },
     "output_type": "display_data"
    },
    {
     "data": {
      "image/png": "[encoded data removed]",
      "text/plain": [
       "<Figure size 432x288 with 1 Axes>"
      ]
     },
     "metadata": {
      "needs_background": "light"
     },
     "output_type": "display_data"
    },
    {
     "data": {
      "image/png": "[encoded data removed]",
      "text/plain": [
       "<Figure size 432x288 with 1 Axes>"
      ]
     },
     "metadata": {
      "needs_background": "light"
     },
     "output_type": "display_data"
    }
   ],
   "source": [
    "avg_prob_by_tend=pred_CoxNN.groupby('CONVERSION_DAYS_ACV')['pb_conv'].mean()\n",
    "avg_prob_by_seniority_ac=pred_CoxNN[pred_CoxNN.CONVERTED_VALHALLA==1].groupby('SENIORITY_LAST_OWNED')['pb_conv'].mean()\n",
    "avg_prob_by_seniority_at_launch=pred_CoxNN[pred_CoxNN.CONVERTED_VALHALLA==1].groupby(pred_CoxNN.CONVERSION_DAYS_ACV - pred_CoxNN.SENIORITY_LAST_OWNED)['pb_conv'].mean()\n",
    "\n",
    "avg_prob_by_tendM1 = pred_CoxNN[pred_CoxNN.CONVERSION_DAYS_ACV>30].groupby('CONVERSION_DAYS_ACV')['pb_conv_moins1M'].mean()\n",
    "avg_prob_by_seniority_acM1 = pred_CoxNN[pred_CoxNN.CONVERTED_VALHALLA==1][pred_CoxNN.CONVERSION_DAYS_ACV>30].groupby('SENIORITY_LAST_OWNED')['pb_conv_moins1M'].mean()\n",
    "avg_prob_by_seniority_at_launchM1 = pred_CoxNN[pred_CoxNN.CONVERTED_VALHALLA==1][pred_CoxNN.CONVERSION_DAYS_ACV>30].groupby(pred_CoxNN.CONVERSION_DAYS_ACV - pred_CoxNN.SENIORITY_LAST_OWNED)['pb_conv_moins1M'].mean()\n",
    "\n",
    "avg_prob_by_tendP10 = pred_CoxNN[pred_CoxNN.CONVERSION_DAYS_ACV<591].groupby('CONVERSION_DAYS_ACV')['pb_conv_plus10D'].mean()\n",
    "avg_prob_by_seniority_acP10 = pred_CoxNN[pred_CoxNN.CONVERTED_VALHALLA==1][pred_CoxNN.CONVERSION_DAYS_ACV<591].groupby('SENIORITY_LAST_OWNED')['pb_conv_plus10D'].mean()\n",
    "avg_prob_by_seniority_at_launchP10 = pred_CoxNN[pred_CoxNN.CONVERTED_VALHALLA==1][pred_CoxNN.CONVERSION_DAYS_ACV<591].groupby(pred_CoxNN.CONVERSION_DAYS_ACV - pred_CoxNN.SENIORITY_LAST_OWNED)['pb_conv_plus10D'].mean()\n",
    "\n",
    "avg_prob_by_tendP1M = pred_CoxNN[pred_CoxNN.CONVERSION_DAYS_ACV<571].groupby('CONVERSION_DAYS_ACV')['pb_conv_plus1M'].mean()\n",
    "avg_prob_by_seniority_acP1M = pred_CoxNN[pred_CoxNN.CONVERTED_VALHALLA==1][pred_CoxNN.CONVERSION_DAYS_ACV<571].groupby('SENIORITY_LAST_OWNED')['pb_conv_plus1M'].mean()\n",
    "avg_prob_by_seniority_at_launchP1M = pred_CoxNN[pred_CoxNN.CONVERTED_VALHALLA==1][pred_CoxNN.CONVERSION_DAYS_ACV<571].groupby(pred_CoxNN.CONVERSION_DAYS_ACV - pred_CoxNN.SENIORITY_LAST_OWNED)['pb_conv_plus1M'].mean()\n",
    "\n",
    "plt.plot(1- avg_prob_by_tend , label='pred accuracy by time of conversion')\n",
    "plt.legend(loc=\"lower left\") \n",
    "plt.show()\n",
    "\n",
    "plt.plot(1- avg_prob_by_tendM1 , label='pred accuracy 1 month before the time of conversion')\n",
    "plt.legend(loc=\"upper left\")  \n",
    "plt.show()\n",
    "\n",
    "plt.plot(1- avg_prob_by_tendP10 , label='pred accuracy 10 days after the time of conversion')\n",
    "plt.legend(loc=\"lower left\")  \n",
    "plt.show()\n",
    "\n",
    "plt.plot(1- avg_prob_by_seniority_ac , label='pred accuracy by seniority in ACO/ACD')\n",
    "plt.legend(loc=\"upper left\")  \n",
    "\n",
    "plt.plot(1- avg_prob_by_seniority_acP1M , label='pred accuracy 1 month after the time of conversion by seniority in ACO/ACD')\n",
    "plt.legend(loc=\"lower left\")  \n",
    "plt.show()\n",
    "\n",
    "plt.plot(1- avg_prob_by_seniority_at_launch , label='pred accuracy by seniority at launch')\n",
    "plt.legend(loc=\"lower left\")  \n",
    "plt.show()\n"
   ]
  },
  {
   "cell_type": "code",
   "execution_count": 122,
   "id": "46315dc7",
   "metadata": {},
   "outputs": [
    {
     "name": "stdout",
     "output_type": "stream",
     "text": [
      "0.08616125163368338\n"
     ]
    },
    {
     "data": {
      "text/plain": [
       "[<matplotlib.lines.Line2D at 0x7ff67acdf760>]"
      ]
     },
     "execution_count": 122,
     "metadata": {},
     "output_type": "execute_result"
    },
    {
     "data": {
      "image/png": "[encoded data removed]",
      "text/plain": [
       "<Figure size 432x288 with 1 Axes>"
      ]
     },
     "metadata": {
      "needs_background": "light"
     },
     "output_type": "display_data"
    }
   ],
   "source": [
    "# low predictions on players who acquired last P2 AC early (avg 3 months of launch) and converted on back catalogue ACV (predict conversion later than should be)\n",
    "print(1-pred_CoxNN[(pred_CoxNN.CONVERTED_VALHALLA==1) & (pred_CoxNN.SENIORITY_LAST_OWNED > 1500)].iloc[1].pb_conv)\n",
    "plt.plot(1-pred_CoxNN[pred_CoxNN.columns[124:723]][(pred_CoxNN.CONVERTED_VALHALLA==1) & (pred_CoxNN.SENIORITY_LAST_OWNED > 1500)].iloc[1])"
   ]
  },
  {
   "cell_type": "code",
   "execution_count": 142,
   "id": "a6c86749",
   "metadata": {},
   "outputs": [
    {
     "data": {
      "text/plain": [
       "[<matplotlib.lines.Line2D at 0x7ff671d49d60>]"
      ]
     },
     "execution_count": 142,
     "metadata": {},
     "output_type": "execute_result"
    },
    {
     "data": {
      "image/png": "[encoded data removed]",
      "text/plain": [
       "<Figure size 432x288 with 1 Axes>"
      ]
     },
     "metadata": {
      "needs_background": "light"
     },
     "output_type": "display_data"
    }
   ],
   "source": [
    "plt.plot(pred_CoxNN[(pred_CoxNN.CONVERTED_VALHALLA==1) & (pred_CoxNN.pb_conv>0.99)].groupby('CONV_LAST_OWNED')['pb_conv_moins1M'].mean())"
   ]
  },
  {
   "cell_type": "code",
   "execution_count": 74,
   "id": "20b4ee50",
   "metadata": {},
   "outputs": [
    {
     "data": {
      "image/png": "[encoded data removed]",
      "text/plain": [
       "<Figure size 432x288 with 1 Axes>"
      ]
     },
     "metadata": {
      "needs_background": "light"
     },
     "output_type": "display_data"
    }
   ],
   "source": [
    "avg_prob_by_nb_ac=pred_CoxNN[pred_CoxNN.CONVERTED_VALHALLA==1].groupby('NB_AC')['pb_conv'].mean()\n",
    "plt.plot((1-avg_prob_by_nb_ac), label='pred accuracy by nb of ACs')\n",
    "plt.legend(loc=\"lower left\")  \n",
    "plt.show()"
   ]
  },
  {
   "cell_type": "code",
   "execution_count": 73,
   "id": "8ee3e885",
   "metadata": {},
   "outputs": [
    {
     "data": {
      "text/html": [
       "<div>\n",
       "<style scoped>\n",
       "    .dataframe tbody tr th:only-of-type {\n",
       "        vertical-align: middle;\n",
       "    }\n",
       "\n",
       "    .dataframe tbody tr th {\n",
       "        vertical-align: top;\n",
       "    }\n",
       "\n",
       "    .dataframe thead th {\n",
       "        text-align: right;\n",
       "    }\n",
       "</style>\n",
       "<table border=\"1\" class=\"dataframe\">\n",
       "  <thead>\n",
       "    <tr style=\"text-align: right;\">\n",
       "      <th></th>\n",
       "      <th>USER_KEY</th>\n",
       "      <th>CONV_LAST_OWNED</th>\n",
       "      <th>CONVERTED_VALHALLA</th>\n",
       "      <th>CONVERSION_DAYS_ACV</th>\n",
       "      <th>P2_POST_LAUNCH_ARRIVAL</th>\n",
       "      <th>NB_AC</th>\n",
       "      <th>PLAYED_ORIGINS</th>\n",
       "      <th>PLAYED_ODYSSEY</th>\n",
       "      <th>SENIORITY_AC</th>\n",
       "      <th>RECENCY_AC</th>\n",
       "      <th>...</th>\n",
       "      <th>594</th>\n",
       "      <th>595</th>\n",
       "      <th>596</th>\n",
       "      <th>597</th>\n",
       "      <th>598</th>\n",
       "      <th>599</th>\n",
       "      <th>pb_conv</th>\n",
       "      <th>pb_conv_moins1M</th>\n",
       "      <th>pb_conv_plus1M</th>\n",
       "      <th>pb_conv_plus10D</th>\n",
       "    </tr>\n",
       "  </thead>\n",
       "  <tbody>\n",
       "    <tr>\n",
       "      <th>0</th>\n",
       "      <td>1980360553</td>\n",
       "      <td>86</td>\n",
       "      <td>1</td>\n",
       "      <td>360</td>\n",
       "      <td>0</td>\n",
       "      <td>1.0</td>\n",
       "      <td>0.0</td>\n",
       "      <td>1.0</td>\n",
       "      <td>1041.0</td>\n",
       "      <td>1014.0</td>\n",
       "      <td>...</td>\n",
       "      <td>0.000000</td>\n",
       "      <td>0.000000</td>\n",
       "      <td>0.000000</td>\n",
       "      <td>0.000000</td>\n",
       "      <td>0.000000</td>\n",
       "      <td>0.000000</td>\n",
       "      <td>0.940414</td>\n",
       "      <td>0.999090</td>\n",
       "      <td>1.434279e-04</td>\n",
       "      <td>0.582690</td>\n",
       "    </tr>\n",
       "    <tr>\n",
       "      <th>1</th>\n",
       "      <td>911610401</td>\n",
       "      <td>559</td>\n",
       "      <td>1</td>\n",
       "      <td>2</td>\n",
       "      <td>0</td>\n",
       "      <td>3.0</td>\n",
       "      <td>1.0</td>\n",
       "      <td>1.0</td>\n",
       "      <td>1112.0</td>\n",
       "      <td>24.0</td>\n",
       "      <td>...</td>\n",
       "      <td>0.000000</td>\n",
       "      <td>0.000000</td>\n",
       "      <td>0.000000</td>\n",
       "      <td>0.000000</td>\n",
       "      <td>0.000000</td>\n",
       "      <td>0.000000</td>\n",
       "      <td>0.243647</td>\n",
       "      <td>NaN</td>\n",
       "      <td>2.579074e-11</td>\n",
       "      <td>0.001033</td>\n",
       "    </tr>\n",
       "    <tr>\n",
       "      <th>2</th>\n",
       "      <td>3353871457</td>\n",
       "      <td>669</td>\n",
       "      <td>1</td>\n",
       "      <td>1</td>\n",
       "      <td>0</td>\n",
       "      <td>2.0</td>\n",
       "      <td>0.0</td>\n",
       "      <td>1.0</td>\n",
       "      <td>1674.0</td>\n",
       "      <td>99.0</td>\n",
       "      <td>...</td>\n",
       "      <td>0.000000</td>\n",
       "      <td>0.000000</td>\n",
       "      <td>0.000000</td>\n",
       "      <td>0.000000</td>\n",
       "      <td>0.000000</td>\n",
       "      <td>0.000000</td>\n",
       "      <td>0.716774</td>\n",
       "      <td>NaN</td>\n",
       "      <td>1.161785e-04</td>\n",
       "      <td>0.090635</td>\n",
       "    </tr>\n",
       "    <tr>\n",
       "      <th>3</th>\n",
       "      <td>3135397823</td>\n",
       "      <td>646</td>\n",
       "      <td>0</td>\n",
       "      <td>599</td>\n",
       "      <td>0</td>\n",
       "      <td>1.0</td>\n",
       "      <td>0.0</td>\n",
       "      <td>1.0</td>\n",
       "      <td>720.0</td>\n",
       "      <td>208.0</td>\n",
       "      <td>...</td>\n",
       "      <td>0.993003</td>\n",
       "      <td>0.992252</td>\n",
       "      <td>0.991596</td>\n",
       "      <td>0.990926</td>\n",
       "      <td>0.990268</td>\n",
       "      <td>0.989535</td>\n",
       "      <td>0.989535</td>\n",
       "      <td>0.999661</td>\n",
       "      <td>NaN</td>\n",
       "      <td>NaN</td>\n",
       "    </tr>\n",
       "    <tr>\n",
       "      <th>4</th>\n",
       "      <td>279648146</td>\n",
       "      <td>702</td>\n",
       "      <td>1</td>\n",
       "      <td>242</td>\n",
       "      <td>0</td>\n",
       "      <td>6.0</td>\n",
       "      <td>0.0</td>\n",
       "      <td>1.0</td>\n",
       "      <td>3761.0</td>\n",
       "      <td>193.0</td>\n",
       "      <td>...</td>\n",
       "      <td>0.000000</td>\n",
       "      <td>0.000000</td>\n",
       "      <td>0.000000</td>\n",
       "      <td>0.000000</td>\n",
       "      <td>0.000000</td>\n",
       "      <td>0.000000</td>\n",
       "      <td>0.701965</td>\n",
       "      <td>0.999642</td>\n",
       "      <td>1.471254e-04</td>\n",
       "      <td>0.205466</td>\n",
       "    </tr>\n",
       "    <tr>\n",
       "      <th>...</th>\n",
       "      <td>...</td>\n",
       "      <td>...</td>\n",
       "      <td>...</td>\n",
       "      <td>...</td>\n",
       "      <td>...</td>\n",
       "      <td>...</td>\n",
       "      <td>...</td>\n",
       "      <td>...</td>\n",
       "      <td>...</td>\n",
       "      <td>...</td>\n",
       "      <td>...</td>\n",
       "      <td>...</td>\n",
       "      <td>...</td>\n",
       "      <td>...</td>\n",
       "      <td>...</td>\n",
       "      <td>...</td>\n",
       "      <td>...</td>\n",
       "      <td>...</td>\n",
       "      <td>...</td>\n",
       "      <td>...</td>\n",
       "      <td>...</td>\n",
       "    </tr>\n",
       "    <tr>\n",
       "      <th>110713</th>\n",
       "      <td>3878418263</td>\n",
       "      <td>1003</td>\n",
       "      <td>0</td>\n",
       "      <td>599</td>\n",
       "      <td>237</td>\n",
       "      <td>2.0</td>\n",
       "      <td>0.0</td>\n",
       "      <td>1.0</td>\n",
       "      <td>371.0</td>\n",
       "      <td>315.0</td>\n",
       "      <td>...</td>\n",
       "      <td>0.995330</td>\n",
       "      <td>0.994671</td>\n",
       "      <td>0.994032</td>\n",
       "      <td>0.993312</td>\n",
       "      <td>0.992560</td>\n",
       "      <td>0.991678</td>\n",
       "      <td>0.991678</td>\n",
       "      <td>0.999527</td>\n",
       "      <td>NaN</td>\n",
       "      <td>NaN</td>\n",
       "    </tr>\n",
       "    <tr>\n",
       "      <th>110714</th>\n",
       "      <td>205248706</td>\n",
       "      <td>0</td>\n",
       "      <td>0</td>\n",
       "      <td>599</td>\n",
       "      <td>0</td>\n",
       "      <td>2.0</td>\n",
       "      <td>1.0</td>\n",
       "      <td>0.0</td>\n",
       "      <td>3056.0</td>\n",
       "      <td>1553.0</td>\n",
       "      <td>...</td>\n",
       "      <td>0.997764</td>\n",
       "      <td>0.997575</td>\n",
       "      <td>0.997410</td>\n",
       "      <td>0.997242</td>\n",
       "      <td>0.997076</td>\n",
       "      <td>0.996891</td>\n",
       "      <td>0.996891</td>\n",
       "      <td>0.999638</td>\n",
       "      <td>NaN</td>\n",
       "      <td>NaN</td>\n",
       "    </tr>\n",
       "    <tr>\n",
       "      <th>110715</th>\n",
       "      <td>291320619</td>\n",
       "      <td>15</td>\n",
       "      <td>1</td>\n",
       "      <td>107</td>\n",
       "      <td>0</td>\n",
       "      <td>8.0</td>\n",
       "      <td>1.0</td>\n",
       "      <td>1.0</td>\n",
       "      <td>2129.0</td>\n",
       "      <td>121.0</td>\n",
       "      <td>...</td>\n",
       "      <td>0.000000</td>\n",
       "      <td>0.000000</td>\n",
       "      <td>0.000000</td>\n",
       "      <td>0.000000</td>\n",
       "      <td>0.000000</td>\n",
       "      <td>0.000000</td>\n",
       "      <td>0.144422</td>\n",
       "      <td>0.986840</td>\n",
       "      <td>4.424528e-08</td>\n",
       "      <td>0.014100</td>\n",
       "    </tr>\n",
       "    <tr>\n",
       "      <th>110716</th>\n",
       "      <td>3247193273</td>\n",
       "      <td>740</td>\n",
       "      <td>0</td>\n",
       "      <td>599</td>\n",
       "      <td>0</td>\n",
       "      <td>1.0</td>\n",
       "      <td>0.0</td>\n",
       "      <td>1.0</td>\n",
       "      <td>626.0</td>\n",
       "      <td>95.0</td>\n",
       "      <td>...</td>\n",
       "      <td>0.996109</td>\n",
       "      <td>0.995570</td>\n",
       "      <td>0.995041</td>\n",
       "      <td>0.994427</td>\n",
       "      <td>0.993739</td>\n",
       "      <td>0.992881</td>\n",
       "      <td>0.992881</td>\n",
       "      <td>0.999537</td>\n",
       "      <td>NaN</td>\n",
       "      <td>NaN</td>\n",
       "    </tr>\n",
       "    <tr>\n",
       "      <th>110717</th>\n",
       "      <td>297932950</td>\n",
       "      <td>738</td>\n",
       "      <td>1</td>\n",
       "      <td>46</td>\n",
       "      <td>0</td>\n",
       "      <td>6.0</td>\n",
       "      <td>1.0</td>\n",
       "      <td>1.0</td>\n",
       "      <td>1827.0</td>\n",
       "      <td>40.0</td>\n",
       "      <td>...</td>\n",
       "      <td>0.000000</td>\n",
       "      <td>0.000000</td>\n",
       "      <td>0.000000</td>\n",
       "      <td>0.000000</td>\n",
       "      <td>0.000000</td>\n",
       "      <td>0.000000</td>\n",
       "      <td>0.144975</td>\n",
       "      <td>0.996943</td>\n",
       "      <td>1.853997e-15</td>\n",
       "      <td>0.000253</td>\n",
       "    </tr>\n",
       "  </tbody>\n",
       "</table>\n",
       "<p>110718 rows × 727 columns</p>\n",
       "</div>"
      ],
      "text/plain": [
       "          USER_KEY  CONV_LAST_OWNED  CONVERTED_VALHALLA  CONVERSION_DAYS_ACV  \\\n",
       "0       1980360553               86                   1                  360   \n",
       "1        911610401              559                   1                    2   \n",
       "2       3353871457              669                   1                    1   \n",
       "3       3135397823              646                   0                  599   \n",
       "4        279648146              702                   1                  242   \n",
       "...            ...              ...                 ...                  ...   \n",
       "110713  3878418263             1003                   0                  599   \n",
       "110714   205248706                0                   0                  599   \n",
       "110715   291320619               15                   1                  107   \n",
       "110716  3247193273              740                   0                  599   \n",
       "110717   297932950              738                   1                   46   \n",
       "\n",
       "        P2_POST_LAUNCH_ARRIVAL  NB_AC  PLAYED_ORIGINS  PLAYED_ODYSSEY  \\\n",
       "0                            0    1.0             0.0             1.0   \n",
       "1                            0    3.0             1.0             1.0   \n",
       "2                            0    2.0             0.0             1.0   \n",
       "3                            0    1.0             0.0             1.0   \n",
       "4                            0    6.0             0.0             1.0   \n",
       "...                        ...    ...             ...             ...   \n",
       "110713                     237    2.0             0.0             1.0   \n",
       "110714                       0    2.0             1.0             0.0   \n",
       "110715                       0    8.0             1.0             1.0   \n",
       "110716                       0    1.0             0.0             1.0   \n",
       "110717                       0    6.0             1.0             1.0   \n",
       "\n",
       "        SENIORITY_AC  RECENCY_AC  ...       594       595       596       597  \\\n",
       "0             1041.0      1014.0  ...  0.000000  0.000000  0.000000  0.000000   \n",
       "1             1112.0        24.0  ...  0.000000  0.000000  0.000000  0.000000   \n",
       "2             1674.0        99.0  ...  0.000000  0.000000  0.000000  0.000000   \n",
       "3              720.0       208.0  ...  0.993003  0.992252  0.991596  0.990926   \n",
       "4             3761.0       193.0  ...  0.000000  0.000000  0.000000  0.000000   \n",
       "...              ...         ...  ...       ...       ...       ...       ...   \n",
       "110713         371.0       315.0  ...  0.995330  0.994671  0.994032  0.993312   \n",
       "110714        3056.0      1553.0  ...  0.997764  0.997575  0.997410  0.997242   \n",
       "110715        2129.0       121.0  ...  0.000000  0.000000  0.000000  0.000000   \n",
       "110716         626.0        95.0  ...  0.996109  0.995570  0.995041  0.994427   \n",
       "110717        1827.0        40.0  ...  0.000000  0.000000  0.000000  0.000000   \n",
       "\n",
       "             598       599   pb_conv  pb_conv_moins1M  pb_conv_plus1M  \\\n",
       "0       0.000000  0.000000  0.940414         0.999090    1.434279e-04   \n",
       "1       0.000000  0.000000  0.243647              NaN    2.579074e-11   \n",
       "2       0.000000  0.000000  0.716774              NaN    1.161785e-04   \n",
       "3       0.990268  0.989535  0.989535         0.999661             NaN   \n",
       "4       0.000000  0.000000  0.701965         0.999642    1.471254e-04   \n",
       "...          ...       ...       ...              ...             ...   \n",
       "110713  0.992560  0.991678  0.991678         0.999527             NaN   \n",
       "110714  0.997076  0.996891  0.996891         0.999638             NaN   \n",
       "110715  0.000000  0.000000  0.144422         0.986840    4.424528e-08   \n",
       "110716  0.993739  0.992881  0.992881         0.999537             NaN   \n",
       "110717  0.000000  0.000000  0.144975         0.996943    1.853997e-15   \n",
       "\n",
       "        pb_conv_plus10D  \n",
       "0              0.582690  \n",
       "1              0.001033  \n",
       "2              0.090635  \n",
       "3                   NaN  \n",
       "4              0.205466  \n",
       "...                 ...  \n",
       "110713              NaN  \n",
       "110714              NaN  \n",
       "110715         0.014100  \n",
       "110716              NaN  \n",
       "110717         0.000253  \n",
       "\n",
       "[110718 rows x 727 columns]"
      ]
     },
     "execution_count": 73,
     "metadata": {},
     "output_type": "execute_result"
    }
   ],
   "source": [
    "pred_CoxNN"
   ]
  },
  {
   "cell_type": "markdown",
   "id": "b65becd5",
   "metadata": {},
   "source": [
    "### Impact metrics on predictions\n",
    "- Lowerpredictions on players  "
   ]
  },
  {
   "cell_type": "code",
   "execution_count": 143,
   "id": "70195735",
   "metadata": {},
   "outputs": [
    {
     "data": {
      "text/plain": [
       "16.666666666666664"
      ]
     },
     "execution_count": 143,
     "metadata": {},
     "output_type": "execute_result"
    }
   ],
   "source": [
    "1/6 *100"
   ]
  },
  {
   "cell_type": "code",
   "execution_count": null,
   "id": "3ae6b4ba",
   "metadata": {},
   "outputs": [],
   "source": []
  }
 ],
 "metadata": {
  "kernelspec": {
   "display_name": "Python PyTorch",
   "language": "python",
   "name": "pytorch"
  },
  "language_info": {
   "codemirror_mode": {
    "name": "ipython",
    "version": 3
   },
   "file_extension": ".py",
   "mimetype": "text/x-python",
   "name": "python",
   "nbconvert_exporter": "python",
   "pygments_lexer": "ipython3",
   "version": "3.8.13"
  }
 },
 "nbformat": 4,
 "nbformat_minor": 5
}
